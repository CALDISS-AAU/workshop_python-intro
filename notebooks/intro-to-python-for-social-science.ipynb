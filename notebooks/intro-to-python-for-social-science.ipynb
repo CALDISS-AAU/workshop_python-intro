{
 "cells": [
  {
   "cell_type": "code",
   "execution_count": null,
   "metadata": {
    "slideshow": {
     "slide_type": "skip"
    }
   },
   "outputs": [],
   "source": [
    "#prep\n",
    "my_name = \"kenobi\"\n",
    "my_num1 = 42 \n",
    "my_num2 = \"42\"\n",
    "my_calc = 42 * 42"
   ]
  },
  {
   "cell_type": "markdown",
   "metadata": {},
   "source": [
    "- For at markere kapitel (intro tekst til kapitel): # {#Kapitel}\n",
    "\n",
    "- For at markere afsnit (under kapitel): # {#Afsnit}\n",
    "\n",
    "- Marker afslutning: # {#END}"
   ]
  },
  {
   "cell_type": "markdown",
   "metadata": {},
   "source": [
    "**Learning objectives:**\n",
    "- Understanding basic Python programming concepts: variables, assignment, evaluation\n",
    "- Assign and manipulate variables\n",
    "- Working with variable of different types: numeric, character and booleans\n",
    "- Manipulating and creating variables using functions\n",
    "- Using and manipulating the content of basic Python storage types: lists, dictionaries, tuples\n",
    "- Using basic control structures: for/while loops and if-else statements\n",
    "- Importing and using packages\n",
    "- Importing and inspecting a tabular data set\n",
    "\n",
    "**Evidence/evaluation types**\n",
    "- Knowledge checks: what does \"evaluation\" mean in programming?\n",
    "- Performing simple arithmetic operations\n",
    "- Able to assign a variable\n",
    "- Able to distnguish between types\n",
    "- Able to assign a varable using a function\n",
    "- Able to assign values to a list or dictionary\n",
    "- Knowledge checks: what type is a variable after being manipulated using a function?\n",
    "- Able to have commands be evaluated only when a condition is met\n",
    "- Knowledge check: will a command be evaluated or not? (based on visual inspection of code)\n",
    "- Able to repeat commands using a for loop\n",
    "- Able to import a package\n",
    "- Able to import a tabular data set from a URL"
   ]
  },
  {
   "cell_type": "markdown",
   "metadata": {},
   "source": [
    "# Introduktion til Python for Samfundsvidenskab\n",
    "\n",
    "Denne lektion introducerer Python med særligt fokus på de dele af Python programmering, der er relevante for samfundsvidenskaberne. "
   ]
  },
  {
   "cell_type": "markdown",
   "metadata": {},
   "source": [
    "# {#Kapitel}Hvad er Python?\n",
    "\n",
    "Python er et programmeringssprog, der anvendes inden for mange områder: hjemmesideopbygning, appudvikling, databaseopbygning og -vedligehold, dataanalyse mm.\n",
    "\n",
    "I den seneste tid er Python blevet meget populært inden for dataanalyse og maskinlæring.\n",
    "\n",
    "I denne første sektion introduceres til, hvordan man arbejder med et programmeringssprog."
   ]
  },
  {
   "cell_type": "markdown",
   "metadata": {},
   "source": [
    "# {#Afsnit}At arbejde med et programmeringssprog\n",
    "\n",
    "Python er et programmeringssprog. At arbejde med Python kræver derfor, at man \"taler\" det rette sprog, når man gerne vil have Python til at gøre noget.\n",
    "\n",
    "I bruger uden tvivl forskellige programmer, apps og softwareløsninger i jeres hverdag til forskellige ting. Disse er alle opbygget af kode skrevet i et programmeringssprog, men de leveres altid med en eller anden form for \"brugerflade\"; altså en måde vi kan bruge programmet ved at trykke på knapper og lignende, uden at skulle kende til den måde, som programmet er programmeret på.\n",
    "\n",
    "Python har ikke en brugerflade, så for at få Python til at gøre noget, skal vi \"fortælle\" Python, hvad vi gerne vil, ved at skrive kommandoer i Python sproget.\n",
    "\n",
    "## Hvorfor arbejde med et programmeringssprog?\n",
    "\n",
    "At skulle arbejde på denne måde kan virke lidt gammeldags. Når nu programmer til dataanalyse laves med brugerflader og brugervenlige måder og bruge dem på, hvorfor så arbejde med dataanalyse i et program, hvor vi selv skal programmere og skrive kommandoer for at opnå det, vi gerne vil?\n",
    "\n",
    "Programmer med brugerflader som Excel, Stata, SPSS osv. har selvfølgelig deres styrke i, at de er langt nemmere at bruge. Dog er sådanne programmer begrænset i deres funktionalitet, da de er udviklet til at arbejde med data på bestemte måder i bestemte formater. Med Python kan vi opnå meget af det samme og meget mere, da man i et programmeringssprog ikke er tvunget til at arbejde med bestemte dataformater, filtyper osv. Samtidig giver det at arbejde med et programmeringssprog os også den mulighed, at vi selv skriver vores egne \"mini-programmer\", der løser den specifikke udfordring, som vi lige står over for.\n",
    "\n",
    "## Python som programmeringssprog\n",
    "\n",
    "Der findes et væld af programmeringssprog. I dette materiale arbejdes med sproget Python. Mange logikker i programmering går på tværs af sprog, men de har hver deres styrker, svagheder og kendetegn. \n",
    "\n",
    "**Python er \"general purpose\"**\n",
    "\n",
    "Python er et \"general purpose\" programmeringssprog. Det vil sige, at det er udviklet til at blive brugt inden for så mange områder som muligt.\n",
    "\n",
    "**Python er \"objekt-orienteret\"**\n",
    "\n",
    "Python er et \"objekt-orienteret\" programmeringssprog. Det vil sige, at sproget er baseret på at arbejde med \"objekter\". Et objekt inden for programmering kan være nærmest hvad som helst. Meget kort sagt er et objekt en beholder for en eller anden form for information. At Python er \"objekt-orienteret\" betyder derfor, at vi arbejder med sproget ved kontinuerligt at definere objekter (lagre information i beholdere) og interagere med disse.\n",
    "\n",
    "**Python er \"cross-platform\"**\n",
    "\n",
    "Python er et \"cross-platform\" programmeringssprog. Det vil sige, at man kan arbejde med Python på tværs af styresystemer (Windows, macOS, Linux).\n",
    "\n",
    "# Om dette materiale\n",
    "\n",
    "Der fokuseres i dette materiale på Pythons brugbarhed og anvendelse inden for socialvidenskabelige analyse. Materialet vil derfor ikke give indføring i, hvordan programmeringssprog. Der fokuseres i stedet på at give en tilstrækkelig forståelse for, hvordan man arbejder med programmeringssproget Python, sådan at man kan anvende det i socialvidenskabelige analyse.\n",
    "\n",
    "Materialet er bygget op ved at give forståelse for relevante programmerings- som datatekniske termer gennem praktiske eksempler med Python."
   ]
  },
  {
   "cell_type": "markdown",
   "metadata": {},
   "source": [
    "# {#Afsnit}Interager med Python\n",
    "\n",
    "For at bruge Python skal vi \"tale\" Python. Man arbejde med Python ved at skrive kommandoer i Python-sproget. Hvis Python forstår din kommando udføres den. Hvis ikke, får du en eller anden form for fejl. Man kan se Python som et meget bogstaveligt og pernitten sprog: Kommandoer skal skrives på helt bestemte måder for at Python kan forstå, hvad du beder om.\n",
    "\n",
    "Barberes Python ned til sine grundsten består det ikke af mere end en \"interpreter\" (fortolker). Alle programmeringssprog er bygget op om en fortolker, der \"evaluerer\" kommandoer. Inden for programmering vil evaluering sige, at sproget forsøger at forstå, hvad der står i en kommando.\n",
    "\n",
    "## Python uden dikkedarer\n",
    "\n",
    "Den \"rene\" installation af Python tilføjer fortolkeren til styresystemet, så man kan arbejde med Python gennem en terminal: \n",
    "![python_terminal.png](../img/python_terminal.png)\n",
    "\n",
    "I terminalen kan vi skrive en kommando og trykke \"Enter\" for at få fortolkeren til at evaluere. I nedenstående skrives kommandoen `2+42` hvilket Python evaluerer og giver outputtet `42`:\n",
    "![python_interpret1.png](../img/python_interpret1.png)\n",
    "\n",
    "Python forstår matematiske operationer og vil returnere resultatet af en udregning, når man skriver den ind. \n",
    "\n",
    "I nedenstående forsøges at bede om en opskrift på pandekager. Det går knap så godt: \n",
    "![python_interpret1.png](../img/python_interpret2.png)\n",
    "\n",
    "Når Python ikke kan forstå kommandoen, returneres en fejl. Der findes et væld af fejltyper. I ovenstående gives en `SyntaxError`, fordi kommandoen er skrevet helt forkert (dette er dog ikke det eneste problem med denne kommando, men det er den første fejl, som fortolkeren støder på).\n",
    "\n",
    "## Brug af Python IDE'er (\"Integrated Development Environment\")\n",
    "\n",
    "Selvom man kan arbejde med Python direkte i terminalen frarådes det meget kraftigt, da det er meget vanskeligt at gemme sit arbejde undervejs og svært at bevare overblik over sin kode og arbejde. Derfor arbejder man for det meste gennem et IDE (Integrated Development Environment). Et IDE er et program, som man kan arbejde med Python igennem, som ofte har forskellige funktioner og egenskaber til at hjælpe en bevare overblikket. \n",
    "\n",
    "Her nævnes blot et mindre udvalg af IDE'er.\n",
    "\n",
    "### Spyder\n",
    "\n",
    "Spyder er bygget op omkring en \"script-editor\". Et script er et dokument bestående af en række af Python kommandoer, som man kan sende til fortolkeren på én gang. I et script kan fx samles al det databehandlings- og analysearbejde, som man skal lave. Ved at køre scriptet udføres så al arbejdet.\n",
    "Script-editoren er indbygget med farvekoder, så man nemt kan adskille dele af koden samt automatiske forslag til kommandoer (Spyder 4 og frem).\n",
    "\n",
    "Derudover giver Spyder en objekt-/variabeloversigt, så man kan se, hvad man har defineret og arbejder med; fx datasæt, resultater, osv.\n",
    "\n",
    "Spyder er godt til de fleste ting og særligt, hvis man skal arbejde med længere scripts.\n",
    "\n",
    "Spyder installeres sammen med Anaconda: https://www.anaconda.com/products/individual#Downloads\n",
    "\n",
    "### Jupyter Notebook\n",
    "\n",
    "Jupyter Notebook er opbygget omkring en såkaldt \"notebook\". En notebook i Jupyter Notebook kombinerer Python kode med almindelig tekst (Markdown). Jupyter Notebook egner sig særdeles godt, hvis man skal dokumentere sit kodearbejde undervejs, da man har mulighed for at skrive almindelig tekst, sætte billeder ind, lave tabeller osv. omkring sin kode.\n",
    "\n",
    "Dette materiale er udarbejdet i Jupyter Notebook.\n",
    "\n",
    "Jupyter Notebook installeres sammen med Anaconda: https://www.anaconda.com/products/individual#Downloads"
   ]
  },
  {
   "cell_type": "markdown",
   "metadata": {},
   "source": [
    "# {#Kapitel}Fundamentale koncepter i Python\n",
    "\n",
    "I denne sektion gennemgås de grundlæggende koncepter i Python programmering. Disse kan sige at være byggestenene for næsten alt, som man foretager sig med Python programmering.\n",
    "\n",
    "Det følgende materiale består af en del kodeeksempler, som er udarbejdet i Jupyter Notebook, men de vil kunne køres i hvilken som helst Python IDE."
   ]
  },
  {
   "cell_type": "markdown",
   "metadata": {},
   "source": [
    "# {#Afsnit}Python sproget\n",
    "\n",
    "Som nævnt arbejder man med Python ved at skrive kommandoer i Python sproget. Kommandoer bliver \"evalueret\" af fortolkeren. Hvis koden forstås, bliver den kørt, og der gives et output, en ændring eller andet, afhængig af, hvad vi beder om.\n",
    "\n",
    "Hvis man fx skriver en kommando besteånde af matematiske operationer i Python, vil man få resultatet tilbage som output:"
   ]
  },
  {
   "cell_type": "code",
   "execution_count": 1,
   "metadata": {},
   "outputs": [
    {
     "data": {
      "text/plain": [
       "7"
      ]
     },
     "execution_count": 1,
     "metadata": {},
     "output_type": "execute_result"
    }
   ],
   "source": [
    "2 + 5"
   ]
  },
  {
   "cell_type": "code",
   "execution_count": 2,
   "metadata": {},
   "outputs": [
    {
     "data": {
      "text/plain": [
       "42"
      ]
     },
     "execution_count": 2,
     "metadata": {},
     "output_type": "execute_result"
    }
   ],
   "source": [
    "7 * 6"
   ]
  },
  {
   "cell_type": "code",
   "execution_count": 3,
   "metadata": {},
   "outputs": [
    {
     "data": {
      "text/plain": [
       "20.511111111111113"
      ]
     },
     "execution_count": 3,
     "metadata": {},
     "output_type": "execute_result"
    }
   ],
   "source": [
    "923 / 45"
   ]
  },
  {
   "cell_type": "markdown",
   "metadata": {},
   "source": [
    "Her køres Python kode i Jupyter Notebook. Som vist i sidste sektion, kan man køre Python kode direkte fra en terminal, hvor man sender en kommando afsted ved at trykke \"Enter\". Med Jupyter Notebook (eller anden IDE) har vi mulighed for at skrive flere kommandoer efter hinanden adskilt af linjeskift. Når koden køres, evalueres linjerne enkeltvis i rækkefølge.\n",
    "\n",
    "Bemærk, at når flere linjer køres, vises kun output fra den sidste linje kørt:"
   ]
  },
  {
   "cell_type": "code",
   "execution_count": 4,
   "metadata": {},
   "outputs": [
    {
     "data": {
      "text/plain": [
       "57"
      ]
     },
     "execution_count": 4,
     "metadata": {},
     "output_type": "execute_result"
    }
   ],
   "source": [
    "90 - 65\n",
    "0.7 * 23\n",
    "45 + 12"
   ]
  },
  {
   "cell_type": "markdown",
   "metadata": {},
   "source": [
    "Hvis output for alle linjer skal vises, kan man bede om det eksplicit med funktionen `print()`. "
   ]
  },
  {
   "cell_type": "code",
   "execution_count": 5,
   "metadata": {},
   "outputs": [
    {
     "name": "stdout",
     "output_type": "stream",
     "text": [
      "25\n",
      "16.099999999999998\n",
      "57\n"
     ]
    }
   ],
   "source": [
    "print(90 - 65)\n",
    "print(0.7 * 23)\n",
    "print(45 + 12)"
   ]
  },
  {
   "cell_type": "markdown",
   "metadata": {},
   "source": [
    "At arbejde med Python er at arbejde med funktioner. En funktion tager et eller flere input (kaldet \"argumenter) og gør et eller andet ved dem. Funktionen `print()` tager enten et stykke tekst eller tal som input, og viser det som et stykke tekst:"
   ]
  },
  {
   "cell_type": "code",
   "execution_count": 6,
   "metadata": {},
   "outputs": [
    {
     "name": "stdout",
     "output_type": "stream",
     "text": [
      "Hello there!\n",
      "901\n"
     ]
    }
   ],
   "source": [
    "print(\"Hello there!\")\n",
    "print(921 - 20)"
   ]
  },
  {
   "cell_type": "markdown",
   "metadata": {},
   "source": [
    "{{% notice note %}}\n",
    "Bemærk at mellemrum ikke er nødvendige for at koden virker. Faktisk ignorerer Python mellemrum, når de er en del af en kommando. Dog kan brug af mellemrum være med til at gøre kode mere overskuelig og læsbart.\n",
    "{{% /notice%}}"
   ]
  },
  {
   "cell_type": "markdown",
   "metadata": {},
   "source": [
    "# {#Afsnit}Variable\n",
    "\n",
    "Python er et objekt-orienteret programmeringssprog. Dette indebærer, at man kontinuerligt arbejder med forskellige objekter, som indeholder en eller anden for for information.\n",
    "\n",
    "I Python kaldes objekter \"variable\". Dette er ikke at forveksle med en variabel, som forstået i statistik som en egenskab ved en observation, da en variabel i Python blot er en beholder for en eller anden form for information.\n",
    "\n",
    "Alle disse kan være variable i Python:\n",
    "- Et tal\n",
    "- Et ord\n",
    "- En tekst\n",
    "- Et datasæt\n",
    "- En mappesti\n",
    "- En hjemmesideadresse\n",
    "- Et billede"
   ]
  },
  {
   "cell_type": "markdown",
   "metadata": {},
   "source": [
    "## Variable med tal\n",
    "\n",
    "En variabel defineres med `=`. På venstre side gives variablen et navn, og på højre skrives det, som variablen skal indeholde: "
   ]
  },
  {
   "cell_type": "code",
   "execution_count": 22,
   "metadata": {},
   "outputs": [],
   "source": [
    "a = 42\n",
    "b = 7\n",
    "c = 6"
   ]
  },
  {
   "cell_type": "markdown",
   "metadata": {},
   "source": [
    "Når først en variabel er defineret (altså at koden hvor variablen defineres er kørt), kan variablen kaldes frem og bruges i andre kommandoer:"
   ]
  },
  {
   "cell_type": "code",
   "execution_count": 23,
   "metadata": {},
   "outputs": [
    {
     "name": "stdout",
     "output_type": "stream",
     "text": [
      "42\n",
      "6.0\n"
     ]
    }
   ],
   "source": [
    "print(a)\n",
    "print(a / b)"
   ]
  },
  {
   "cell_type": "markdown",
   "metadata": {},
   "source": [
    "Defineres en variabel som et matematisk udtryk, er det resultatet af dette, som bliver lagret i variablen:"
   ]
  },
  {
   "cell_type": "code",
   "execution_count": 25,
   "metadata": {},
   "outputs": [
    {
     "name": "stdout",
     "output_type": "stream",
     "text": [
      "38\n"
     ]
    }
   ],
   "source": [
    "d = 13 + 25\n",
    "print(d)"
   ]
  },
  {
   "cell_type": "markdown",
   "metadata": {},
   "source": [
    "Bemærk at Python læser kode meget bogstaveligt, og skelner derfor mellem store og små bogstaver. Kaldes en variabel, som ikke findes, returnerer Python en fejl:"
   ]
  },
  {
   "cell_type": "code",
   "execution_count": 30,
   "metadata": {},
   "outputs": [
    {
     "name": "stdout",
     "output_type": "stream",
     "text": [
      "38\n"
     ]
    },
    {
     "ename": "NameError",
     "evalue": "name 'D' is not defined",
     "output_type": "error",
     "traceback": [
      "\u001b[1;31m---------------------------------------------------------------------------\u001b[0m",
      "\u001b[1;31mNameError\u001b[0m                                 Traceback (most recent call last)",
      "\u001b[1;32m<ipython-input-30-f03a0baf7732>\u001b[0m in \u001b[0;36m<module>\u001b[1;34m\u001b[0m\n\u001b[0;32m      1\u001b[0m \u001b[0mprint\u001b[0m\u001b[1;33m(\u001b[0m\u001b[0md\u001b[0m\u001b[1;33m)\u001b[0m\u001b[1;33m\u001b[0m\u001b[1;33m\u001b[0m\u001b[0m\n\u001b[1;32m----> 2\u001b[1;33m \u001b[0mprint\u001b[0m\u001b[1;33m(\u001b[0m\u001b[0mD\u001b[0m\u001b[1;33m)\u001b[0m\u001b[1;33m\u001b[0m\u001b[1;33m\u001b[0m\u001b[0m\n\u001b[0m",
      "\u001b[1;31mNameError\u001b[0m: name 'D' is not defined"
     ]
    }
   ],
   "source": [
    "print(d)\n",
    "print(D)"
   ]
  },
  {
   "cell_type": "markdown",
   "metadata": {},
   "source": [
    "## Variable med tekst"
   ]
  },
  {
   "cell_type": "markdown",
   "metadata": {},
   "source": [
    "En variabel kan også indeholde tekst. Tekst markeres med enten `'` eller `\"`:"
   ]
  },
  {
   "cell_type": "code",
   "execution_count": 32,
   "metadata": {},
   "outputs": [
    {
     "name": "stdout",
     "output_type": "stream",
     "text": [
      "Hello there!\n"
     ]
    }
   ],
   "source": [
    "e = \"Hello there!\"\n",
    "print(e)"
   ]
  },
  {
   "cell_type": "markdown",
   "metadata": {},
   "source": [
    "Hvis ikke Python fortælles, at noget er tekst, vil Python antage, at det er en eller anden form for variabel eller funktion, som der forsøges at blive kaldt frem:"
   ]
  },
  {
   "cell_type": "code",
   "execution_count": 33,
   "metadata": {},
   "outputs": [
    {
     "ename": "SyntaxError",
     "evalue": "invalid syntax (<ipython-input-33-d5c54fdddaa2>, line 1)",
     "output_type": "error",
     "traceback": [
      "\u001b[1;36m  File \u001b[1;32m\"<ipython-input-33-d5c54fdddaa2>\"\u001b[1;36m, line \u001b[1;32m1\u001b[0m\n\u001b[1;33m    e = Hello there\u001b[0m\n\u001b[1;37m                  ^\u001b[0m\n\u001b[1;31mSyntaxError\u001b[0m\u001b[1;31m:\u001b[0m invalid syntax\n"
     ]
    }
   ],
   "source": [
    "e = Hello there"
   ]
  },
  {
   "cell_type": "markdown",
   "metadata": {},
   "source": [
    "## Ændring af variable\n",
    "\n",
    "Som hovedregel ændres en variabel ikke blot ved at bruge det. Variablen skal defineres om, hvis vi gerne vil ændre indholdet af variablen:"
   ]
  },
  {
   "cell_type": "code",
   "execution_count": 26,
   "metadata": {},
   "outputs": [
    {
     "name": "stdout",
     "output_type": "stream",
     "text": [
      "49\n",
      "42\n",
      "49\n"
     ]
    }
   ],
   "source": [
    "a = 42\n",
    "print(a + 7) # returnerer a + 7\n",
    "print(a)     # a er ikke ændret. Stadig 42\n",
    "a = a + 7    # a overskrives med a +7\n",
    "print(a)     # a er nu ændret"
   ]
  },
  {
   "cell_type": "markdown",
   "metadata": {},
   "source": [
    "{{% notice tip %}}\n",
    "Brug `#` til at skrive kommentarer i din kode. Tekst der følger et `#` ignoreres af Python. Når man for alvor begynder at arbejde med kode, kan man nemt glemme, hvorfor man skrev bestemte kodestykker, eller hvad kodestykkerne gør. Kommentarer til ens kode hjælper både dig selv og evt. andre, som skal kigge på eller arbejde med din kode.\n",
    "{{% /notice%}}"
   ]
  },
  {
   "cell_type": "markdown",
   "metadata": {},
   "source": [
    "## VIDENSCHECK\n",
    "\n",
    "Tag et kig på nedenstående kode:"
   ]
  },
  {
   "cell_type": "code",
   "execution_count": 27,
   "metadata": {},
   "outputs": [],
   "source": [
    "g = 90\n",
    "g + 10\n",
    "f = g - 10\n",
    "g = g - f"
   ]
  },
  {
   "cell_type": "markdown",
   "metadata": {},
   "source": [
    "*Hvad indeholder variablen `g` når ovenstående kode er kørt?*\n",
    "\n",
    "{{%expand \"Løsning\" %}}\n",
    "`g` indeholder tallet `10`. `g` bliver kun ændret ved den sidste linje (`g = g - f`), og `f` indeholder tallet `80`, da `g` på tidspunktet `f` defineres indeholder tallet `90`.\n",
    "{{% /expand%}}"
   ]
  },
  {
   "cell_type": "markdown",
   "metadata": {},
   "source": [
    "## At arbejde med variable\n",
    "\n",
    "At arbejde med Python er at arbejde med variable. Man definerer hele tiden nye variable, som bruges senere hen. Selvom man kun er interesseret i ét endeligt produkt eller output, så bruges variable til at holde styr på information og mellemresultater undervejs.\n",
    "\n",
    "Derfor er det en god ide at indarbejde en god navngivningsskik. Kunsten er at balancere mellem korte navne og navne, som er sigende for det, som variablen indeholder."
   ]
  },
  {
   "cell_type": "code",
   "execution_count": 31,
   "metadata": {},
   "outputs": [],
   "source": [
    "a = 10              # kort, men ikke sigende for indholdet\n",
    "the_number_ten = 10 # sigende, men ret langt, hvis man skal bruge variablen igen og igen"
   ]
  },
  {
   "cell_type": "markdown",
   "metadata": {},
   "source": [
    "{{% notice tip %}}\n",
    "\n",
    "**Tips til variabelnavne**\n",
    "\n",
    "Variable kan blive navngivet næsten alt, men der er visse restriktioner:\n",
    "- Variabelnavne kan ikke indeholde mellemrum.\n",
    "- De fleste specielle karakterer kan ikke bruges, som fx: `/`, `?`, `*`, `?`, `.` osv. Disse betyder noget i Python og vil blive forsøgt fortolket.\n",
    "\n",
    "Derudover er det en god ide at undgå at bruge allerede eksisterende navne i Python, da man ellers overskriver en allerede eksisterende funktion. Dette kan man nemt komme til i starten, når man ikke har stort kendskab til Pythons funktioner.\n",
    "\n",
    "{{% /notice%}}"
   ]
  },
  {
   "cell_type": "markdown",
   "metadata": {},
   "source": [
    "{{% notice info %}}\n",
    "Her ses en oversigt over de matematiske operationer, som kan bruges i Python."
   ]
  },
  {
   "cell_type": "code",
   "execution_count": null,
   "metadata": {},
   "outputs": [],
   "source": [
    "a + b      # addition\n",
    "a * b      # multiplikation\n",
    "a - b      # subtraktion\n",
    "a / b      # division\n",
    "b ** a     # exponentiering\n",
    "a // b     # \"floor division\" - returner antal hele gange, at tal til venstre kan divideres med tal til højre\n",
    "2 * a % b) # modulus - returnerer rest efter \"floor division\""
   ]
  },
  {
   "cell_type": "markdown",
   "metadata": {},
   "source": [
    "{{% /notice%}} "
   ]
  },
  {
   "cell_type": "markdown",
   "metadata": {},
   "source": [
    "## ØVELSE: Definer variable\n",
    "\n",
    "Lav variablene `my_number1`, `my_number2` og `my_word`. \n",
    "- `my_number1` skal indeholde tallet `42` \n",
    "- `my_number2` skal indeholde tallet `9` \n",
    "- `my_word` skal indeholde ordet `hello` (husk at brug `'` eller `\"` til at fortælle Python, at det er tekst).\n",
    "\n",
    "Når de er defineret, prøv da nogen af de forskellige matematiske operationer på jeres variable, fx: \n",
    "\n",
    "- `my_number1 + 10`\n",
    "- `my_number2 / my_number1`\n",
    "- `my_word` + `my_number1`\n",
    "- `my_word` * `my_number2`\n",
    "\n",
    "Læg mærke til hvilke operationer, der kan lade sig gøre og hvilke resultater, de producerer (nogle af disse operationer vil give fejl)."
   ]
  },
  {
   "cell_type": "markdown",
   "metadata": {},
   "source": [
    "# {#Afsnit}Typer\n",
    "\n",
    "En variabel er ikke bare en variabel i Python. Fordi en variabel kan være så mange ting, så er Python nødt til at adskille variable fra hinanden. Dette gøres ved at variable lagres som en bestemt *type*. \n",
    "\n",
    "Typen af variabel fortæller Python, hvad det er for en slags information, som variablen indeholder, og sætter betingelserne for, hvad der kan lade sig gøre med variablen.\n",
    "\n",
    "Som man arbejder med Python, vil man støde på mange forskellige typer. I første omgang fokuseres på to af de mere gængse typer:\n",
    "\n",
    "- Numeriske typer (fx integers og floats)\n",
    "- Tekst typer (fx strings)\n",
    "\n",
    "## Numeriske typer\n",
    "\n",
    "Python gætter altid typen, når en variabel lagres. Når en variabel består af en talværdi, vil denne fx lagres som en numerisk type. Talværdien kan enten lagres som en *integer* (heltal) eller et *float point* (decimaltal). \n",
    "\n",
    "Python kan fortælle os typen med funktionen `type()`:"
   ]
  },
  {
   "cell_type": "code",
   "execution_count": 2,
   "metadata": {},
   "outputs": [
    {
     "name": "stdout",
     "output_type": "stream",
     "text": [
      "<class 'int'>\n"
     ]
    }
   ],
   "source": [
    "a = 42\n",
    "print(type(a))"
   ]
  },
  {
   "cell_type": "markdown",
   "metadata": {},
   "source": [
    "Variablen `a` er typen `int`, som står for *integer* - et heltal. Som set i sidste afsnit, kan der foretages forskellige matematiske operationer med heltal.\n",
    "\n",
    "Tildeles en variabel et tal med decimaler, lagres det som et *float point*.:"
   ]
  },
  {
   "cell_type": "code",
   "execution_count": 3,
   "metadata": {},
   "outputs": [
    {
     "name": "stdout",
     "output_type": "stream",
     "text": [
      "<class 'float'>\n"
     ]
    }
   ],
   "source": [
    "b = 42.2\n",
    "print(type(b))"
   ]
  },
  {
   "cell_type": "markdown",
   "metadata": {},
   "source": [
    "Bemærk, at når man dividerer, så vil typen altid blive et *float point* - også selvom resultatet er et heltal:"
   ]
  },
  {
   "cell_type": "code",
   "execution_count": 5,
   "metadata": {},
   "outputs": [
    {
     "name": "stdout",
     "output_type": "stream",
     "text": [
      "42\n",
      "<class 'int'>\n",
      "21.0\n",
      "<class 'float'>\n"
     ]
    }
   ],
   "source": [
    "print(a)\n",
    "print(type(a))   # a er lige nu integer\n",
    "b = a / 2        # b defineres som a / 2\n",
    "print(b)\n",
    "print(type(b))   # b er et float point"
   ]
  },
  {
   "cell_type": "markdown",
   "metadata": {},
   "source": [
    "At Python gerne vil adskille mellem typer har noget at gøre med, hvordan en type information kræver mere at lagre end en anden. Dette kan have betydning, når man arbejder med enorme datamængder, hvilket sjældent er tilfældet i socialvidenskabelig analysearbejder."
   ]
  },
  {
   "cell_type": "markdown",
   "metadata": {},
   "source": [
    "## VIDENSCHECK\n",
    "\n",
    "I ovenstående bliver variablen `a` brugt til at definere variabel `b`. \n",
    "\n",
    "*Hvilken type er variablen `a` efter at variabel `b` defineres?*\n",
    "\n",
    "{{%expand \"Løsning\" %}}\n",
    "`a` er stadig en *integer*. `a` ikke ændres i koden, men bliver blot brugt til at lave variabel `b`.\n",
    "{{% /expand%}}"
   ]
  },
  {
   "cell_type": "markdown",
   "metadata": {},
   "source": [
    "## Tekst typer\n",
    "\n",
    "Python lagrer variable som en tekst type, hvis det indeholder tekst. Python fortælles, at noget skal behandles som tekst, ved at indkapsle det med `'` eller `\"`:"
   ]
  },
  {
   "cell_type": "code",
   "execution_count": 6,
   "metadata": {},
   "outputs": [
    {
     "name": "stdout",
     "output_type": "stream",
     "text": [
      "<class 'str'>\n"
     ]
    }
   ],
   "source": [
    "a = \"Hello\"\n",
    "print(type(a))"
   ]
  },
  {
   "cell_type": "markdown",
   "metadata": {},
   "source": [
    "En variabel med et stykke tekst kaldes en `string` (forkortet i Python som `str`). \n",
    "\n",
    "I modsætning til numeriske typer, giver matematiske operationer ikke meget mening på et stykke tekst. Dog tillader Python at bruge visse matematiske operatorer på tekst:"
   ]
  },
  {
   "cell_type": "code",
   "execution_count": 8,
   "metadata": {},
   "outputs": [
    {
     "name": "stdout",
     "output_type": "stream",
     "text": [
      "HelloHello\n",
      "Hello there\n"
     ]
    }
   ],
   "source": [
    "b = \" there\"\n",
    "print(a * 2)   # gentager string\n",
    "print(a + b)   # sætter de to strings sammen (kaldes også for \"paste\")"
   ]
  },
  {
   "cell_type": "markdown",
   "metadata": {},
   "source": [
    "{{% notice note %}}\n",
    "\n",
    "Bemærk at Python *altid* vil lagre variablen som string, hvis teksten er indkapslet med `'` eller `\"`. Dette gælder også, hvis tal lagres på denne måde:"
   ]
  },
  {
   "cell_type": "code",
   "execution_count": 9,
   "metadata": {},
   "outputs": [
    {
     "name": "stdout",
     "output_type": "stream",
     "text": [
      "84\n",
      "4242\n"
     ]
    }
   ],
   "source": [
    "a = 42    # integer\n",
    "b = '42'  # string\n",
    "\n",
    "print(a * 2) # 42 * 2 = 84 - kan lade sig gøre, da a er integer.\n",
    "print(b * 2) # b er ikke et tal. \"Pastes\" sammen, da det er en string."
   ]
  },
  {
   "cell_type": "markdown",
   "metadata": {},
   "source": [
    "Python gætter altid typen. Derfor gættes typen også, når man indlæser data i Python. Her kan problemet opstå, at Python læser information ind forkert - fx at tal læses ind som tekst.\n",
    "\n",
    "{{% /notice%}}"
   ]
  },
  {
   "cell_type": "markdown",
   "metadata": {
    "slideshow": {
     "slide_type": "slide"
    }
   },
   "source": [
    "## Ændring af typer (casting)\n",
    "\n",
    "I visse tilfælde kan variable tvinges til at være en anden type (casting) med bestemte funktioner:\n",
    "\n",
    "- Returnerer tekst type: `str(variabel)`.\n",
    "- Returnerer numerisk type: `int(variabel` (integer) eller `float(variabel)` (float point).\n",
    "\n",
    "Python vil altid gætte typen. Hvis Python gætter forkert, kan Python fortælles eksplicit, hvad typen skal være (hvis muligt).\n",
    "\n",
    "Fx kan det hænde, at tal ved en fejl indlæses som tekst. Disse kan tvinges om ved at *caste* til en anden type:"
   ]
  },
  {
   "cell_type": "code",
   "execution_count": 10,
   "metadata": {},
   "outputs": [
    {
     "name": "stdout",
     "output_type": "stream",
     "text": [
      "<class 'str'>\n",
      "<class 'int'>\n"
     ]
    }
   ],
   "source": [
    "print(type(b))  # typen for b er her string\n",
    "b = int(b)      # b dannes på ny som integer af b\n",
    "print(type(b))  # b er nu integer"
   ]
  },
  {
   "cell_type": "markdown",
   "metadata": {},
   "source": [
    "Alle typer kan selvfølgelig ikke castes om. Fx kan man ikke meningsfuldt konvertere tekst i form af ord til tal:"
   ]
  },
  {
   "cell_type": "code",
   "execution_count": 12,
   "metadata": {},
   "outputs": [
    {
     "name": "stdout",
     "output_type": "stream",
     "text": [
      "<class 'str'>\n"
     ]
    },
    {
     "ename": "ValueError",
     "evalue": "invalid literal for int() with base 10: 'Hello'",
     "output_type": "error",
     "traceback": [
      "\u001b[1;31m---------------------------------------------------------------------------\u001b[0m",
      "\u001b[1;31mValueError\u001b[0m                                Traceback (most recent call last)",
      "\u001b[1;32m<ipython-input-12-cc7b3220923a>\u001b[0m in \u001b[0;36m<module>\u001b[1;34m\u001b[0m\n\u001b[0;32m      1\u001b[0m \u001b[0ma\u001b[0m \u001b[1;33m=\u001b[0m \u001b[1;34m\"Hello\"\u001b[0m     \u001b[1;31m# a dannes som string\u001b[0m\u001b[1;33m\u001b[0m\u001b[1;33m\u001b[0m\u001b[0m\n\u001b[0;32m      2\u001b[0m \u001b[0mprint\u001b[0m\u001b[1;33m(\u001b[0m\u001b[0mtype\u001b[0m\u001b[1;33m(\u001b[0m\u001b[0ma\u001b[0m\u001b[1;33m)\u001b[0m\u001b[1;33m)\u001b[0m  \u001b[1;31m# typen er string\u001b[0m\u001b[1;33m\u001b[0m\u001b[1;33m\u001b[0m\u001b[0m\n\u001b[1;32m----> 3\u001b[1;33m \u001b[0ma\u001b[0m \u001b[1;33m=\u001b[0m \u001b[0mint\u001b[0m\u001b[1;33m(\u001b[0m\u001b[0ma\u001b[0m\u001b[1;33m)\u001b[0m      \u001b[1;31m# forsøger at konvertere a til integer - ikke muligt\u001b[0m\u001b[1;33m\u001b[0m\u001b[1;33m\u001b[0m\u001b[0m\n\u001b[0m",
      "\u001b[1;31mValueError\u001b[0m: invalid literal for int() with base 10: 'Hello'"
     ]
    }
   ],
   "source": [
    "a = \"Hello\"     # a dannes som string\n",
    "print(type(a))  # typen er string\n",
    "a = int(a)      # forsøger at konvertere a til integer - ikke muligt"
   ]
  },
  {
   "cell_type": "markdown",
   "metadata": {},
   "source": [
    "## ØVELSE: Typer\n",
    "\n",
    "Lav variablene variablene `my_number3` og `my_number4`.\n",
    "- `my_number3` skal indeholde `21`\n",
    "- `my_number4` skal indeholde `\"12\"` (med anførselstegn!)\n",
    "\n",
    "Forsøg at divider de to tal med hinanden (`my_number3 / my_number4`). Det giver fejl, men hvorfor?\n",
    "\n",
    "Undersøg hvilken type `my_number3` og `my_number4` er med `type()`. Begge skal gerne være numeriske typer, før der kan divideres.\n",
    "\n",
    "Ændr typen til numerisk for den variabel, som ikke er numerisk. \n",
    "\n",
    "Forsøg at divider de to tal med hinanden igen. Hvis du har rettet typen korrekt, bør det kunne lade sig gøre og give tallet `1.75`.\n",
    "\n",
    "{{%expand \"Løsning\" %}}\n",
    "`my_number4` er lagret som tekst. Denne skal derfor konverteres til et tal, fx ved at definere variablen om som `my_number4 = int(my_number4)`. Derefter bør det kunne lade sig gøre at dividere de to tal med hinanden (`my_number3 / my_number4`)."
   ]
  },
  {
   "cell_type": "code",
   "execution_count": 16,
   "metadata": {},
   "outputs": [
    {
     "name": "stdout",
     "output_type": "stream",
     "text": [
      "<class 'int'>\n",
      "<class 'str'>\n",
      "<class 'int'>\n"
     ]
    },
    {
     "data": {
      "text/plain": [
       "1.75"
      ]
     },
     "execution_count": 16,
     "metadata": {},
     "output_type": "execute_result"
    }
   ],
   "source": [
    "my_number3 = 21\n",
    "my_number4 = \"12\"\n",
    "\n",
    "print(type(my_number3))\n",
    "print(type(my_number4))\n",
    "\n",
    "my_number4 = int(my_number4)\n",
    "print(type(my_number4))\n",
    "\n",
    "my_number3 / my_number4"
   ]
  },
  {
   "cell_type": "markdown",
   "metadata": {},
   "source": [
    "{{% /expand%}}"
   ]
  },
  {
   "cell_type": "markdown",
   "metadata": {},
   "source": [
    "# {#Afsnit}Funktioner\n",
    "\n",
    "- Brug af metafor til at forklare argumenter - fx når du bestiller mad. visse ting skal siges, andre ting antages (fx at det serveres på en tallerken)\n",
    "- Check: Forstår python et stykke kode? (eksisterende og ikke-eksisterende funktioner)\n",
    "- Øvelse: Brug en funktion\n",
    "- Øvelse: Definer og brug meget simpel funktion"
   ]
  },
  {
   "cell_type": "markdown",
   "metadata": {},
   "source": [
    "# {#Afsnit}Pakker\n",
    "\n",
    "- Check: Forstår python et stykke kode? (brug af funktion før og efter import)\n",
    "- Øvelse: Importer pakke og brug funktion derfra\n",
    "- Check: Hvilken type er variablen efter funktion er blevet brugt til at ændre den?"
   ]
  },
  {
   "cell_type": "markdown",
   "metadata": {},
   "source": [
    "# {#Kapitel}Arbejd med flere værdier\n",
    "\n",
    "- Datastrukturer\n",
    "- Kontrolstrukturer"
   ]
  },
  {
   "cell_type": "markdown",
   "metadata": {},
   "source": [
    "# {#Afsnit}Lister\n",
    "\n",
    "- Indexes\n",
    "- Check: Hvad er en liste?\n",
    "- Check: Kan de indeholde forskellige typer?\n",
    "- Øvelse: definer liste og tjek type"
   ]
  },
  {
   "cell_type": "markdown",
   "metadata": {},
   "source": [
    "# {#Afsnit}Dictionaries\n",
    "\n",
    "- Nøgler og værdier\n",
    "- Check: Hvad er en dictionary?\n",
    "- Check: Kan de indeholde forskellige typer?\n",
    "- Check: Har dictionary et index?\n",
    "- Øvelse: Definer dictionary"
   ]
  },
  {
   "cell_type": "markdown",
   "metadata": {},
   "source": [
    "# {#Afsnit}Tuples\n",
    "\n",
    "- Nøgler og værdier\n",
    "- Check: Hvordan adskiller tuple sig fra ditionary?"
   ]
  },
  {
   "cell_type": "markdown",
   "metadata": {},
   "source": [
    "# {#Afsnit}Loops\n",
    "\n",
    "- Hvornår bruges for og while loops?\n",
    "- Hvad skal man være opmærksom på?\n",
    "- Check: Identificer et uendeligt loop\n",
    "- Øvelse: Brug af liste i for loop"
   ]
  },
  {
   "cell_type": "markdown",
   "metadata": {},
   "source": [
    "# {#Afsnit}If-betingelser\n",
    "\n",
    "- Hvad er booleanske værdier?\n",
    "- Check: Hvornår kunne det give mening at bruge en if-betingelse?\n",
    "- Øvelse: Kombiner for-loop og if-betingelse\n",
    "- Check: Inspicer kode: Sker der noget med input-variablen?"
   ]
  },
  {
   "cell_type": "markdown",
   "metadata": {},
   "source": [
    "# {#Kapitel}Pakker i Python"
   ]
  },
  {
   "cell_type": "markdown",
   "metadata": {},
   "source": [
    "# {#Afsnit}Brug af pakker i Python\n",
    "\n",
    "- Pakker udvidet...\n",
    "- Meget brugte pakker\n",
    "- Pakker brugt i kurset"
   ]
  },
  {
   "cell_type": "markdown",
   "metadata": {},
   "source": [
    "# {#Kapitel}Introduktion til Pandas"
   ]
  },
  {
   "cell_type": "markdown",
   "metadata": {},
   "source": [
    "# {#Afsnit}Hvad er Pandas?\n",
    "\n",
    "- (Meget grundlæggende)"
   ]
  },
  {
   "cell_type": "markdown",
   "metadata": {},
   "source": [
    "# {#Afsnit}Klasser i Python\n",
    "\n",
    "- Attributes\n",
    "- Methods"
   ]
  },
  {
   "cell_type": "markdown",
   "metadata": {},
   "source": [
    "# {#Afsnit}Indlæs og inspicer data med Pandas\n",
    "\n",
    "- Øvelse: Indlæs datasæt fra URL og se første fem linjer"
   ]
  },
  {
   "cell_type": "markdown",
   "metadata": {},
   "source": [
    "# {#Kapitel}Supplerende materiale"
   ]
  },
  {
   "cell_type": "markdown",
   "metadata": {},
   "source": [
    "# {#Afsnit}Python IDE'er"
   ]
  },
  {
   "cell_type": "markdown",
   "metadata": {},
   "source": [
    "# {#Afsnit}Python serverløsninger"
   ]
  },
  {
   "cell_type": "markdown",
   "metadata": {},
   "source": [
    "# {#Afsnit}Litteratur\n",
    "\n",
    "Python for Data Analysis, kapitel 2 og 3 [vælg sider]"
   ]
  },
  {
   "cell_type": "markdown",
   "metadata": {},
   "source": [
    "# {#END}"
   ]
  },
  {
   "cell_type": "code",
   "execution_count": null,
   "metadata": {},
   "outputs": [],
   "source": [
    "import pandas as pd\n",
    "ess = pd.read_csv('https://github.com/CALDISS-AAU/workshop_python-table-data/raw/master/data/ESS2014DK_subset.csv')"
   ]
  },
  {
   "cell_type": "code",
   "execution_count": null,
   "metadata": {},
   "outputs": [],
   "source": [
    "ess.head()"
   ]
  },
  {
   "cell_type": "code",
   "execution_count": null,
   "metadata": {},
   "outputs": [],
   "source": [
    "ess[keep_columns].head()"
   ]
  },
  {
   "cell_type": "markdown",
   "metadata": {
    "slideshow": {
     "slide_type": "slide"
    }
   },
   "source": [
    "# The boolean type\n",
    "*Boolean* variables are variables containing the value `True` or `False`.\n",
    "\n",
    "When using the following operators (among others), python will interpret it as a boolean:\n",
    "- `>`\n",
    "- `>=`\n",
    "- `<`\n",
    "- `<=`\n",
    "- `==`\n",
    "- `!=`\n",
    "\n",
    "Booleans can be used in functions, loops and if-statements to ensure that a certain condition is met before something is run."
   ]
  },
  {
   "cell_type": "markdown",
   "metadata": {
    "slideshow": {
     "slide_type": "slide"
    }
   },
   "source": [
    "# Importing modules\n",
    "Base python has very limited functionality. You will always have to import various modules in order to perform your analysis.\n",
    "\n",
    "A module is a collection of functions, variables and methods that can be loaded into your python environment.\n",
    "\n",
    "Once loaded, the contents of the module is usable in the python environment.\n",
    "\n",
    "It is possible to either import whole modules or parts of a module."
   ]
  },
  {
   "cell_type": "code",
   "execution_count": null,
   "metadata": {
    "slideshow": {
     "slide_type": "slide"
    }
   },
   "outputs": [],
   "source": [
    "c = sqrt(a**2 + b**2)\n",
    "print(c)"
   ]
  },
  {
   "cell_type": "code",
   "execution_count": null,
   "metadata": {
    "slideshow": {
     "slide_type": "fragment"
    }
   },
   "outputs": [],
   "source": [
    "import math #whole module/package\n",
    "\n",
    "# Or...\n",
    "\n",
    "from math import sqrt #specific function/method"
   ]
  },
  {
   "cell_type": "code",
   "execution_count": null,
   "metadata": {
    "slideshow": {
     "slide_type": "fragment"
    }
   },
   "outputs": [],
   "source": [
    "c = sqrt(my_num1**2 + my_num2**2)\n",
    "print(c)"
   ]
  },
  {
   "cell_type": "markdown",
   "metadata": {
    "slideshow": {
     "slide_type": "slide"
    }
   },
   "source": [
    "# Lists\n",
    "So far we have looked at python variables containing single values: a number, a word or a boolean.\n",
    "\n",
    "Python has different ways of storing a series of elements (values, variables, etc.). One of the more common is the *list*.\n",
    "\n",
    "A list is a grouping of elements. They are created by enclosing the values in `[]`:"
   ]
  },
  {
   "cell_type": "code",
   "execution_count": null,
   "metadata": {
    "slideshow": {
     "slide_type": "fragment"
    }
   },
   "outputs": [],
   "source": [
    "my_list = [1, 9, 7, 3]\n",
    "print(my_list)"
   ]
  },
  {
   "cell_type": "markdown",
   "metadata": {
    "slideshow": {
     "slide_type": "fragment"
    }
   },
   "source": [
    "Note that lists can contain variables of different types."
   ]
  },
  {
   "cell_type": "code",
   "execution_count": null,
   "metadata": {
    "slideshow": {
     "slide_type": "fragment"
    }
   },
   "outputs": [],
   "source": [
    "my_list2 = [my_name, 3, 42.0, my_test]\n",
    "print(my_list2)"
   ]
  },
  {
   "cell_type": "markdown",
   "metadata": {
    "slideshow": {
     "slide_type": "slide"
    }
   },
   "source": [
    "## Adding to lists\n",
    "\n",
    "Elements can be added to the list with the method `append`.\n",
    "\n",
    "*Note that using this method changes the contents of the list*"
   ]
  },
  {
   "cell_type": "code",
   "execution_count": null,
   "metadata": {
    "slideshow": {
     "slide_type": "fragment"
    }
   },
   "outputs": [],
   "source": [
    "my_list.append(22)\n",
    "print(my_list)"
   ]
  },
  {
   "cell_type": "markdown",
   "metadata": {
    "slideshow": {
     "slide_type": "slide"
    }
   },
   "source": [
    "## Indexes\n",
    "\n",
    "Each element in the list is assigned an index running from 0 to the number of elements - 1. We can use the index to refer to specific elements with `[]`:"
   ]
  },
  {
   "cell_type": "code",
   "execution_count": null,
   "metadata": {
    "slideshow": {
     "slide_type": "fragment"
    }
   },
   "outputs": [],
   "source": [
    "my_list2[0]"
   ]
  },
  {
   "cell_type": "markdown",
   "metadata": {
    "slideshow": {
     "slide_type": "fragment"
    }
   },
   "source": [
    "Single elements in a list can be changed by refering to their index:"
   ]
  },
  {
   "cell_type": "code",
   "execution_count": null,
   "metadata": {
    "slideshow": {
     "slide_type": "fragment"
    }
   },
   "outputs": [],
   "source": [
    "my_list2[0] = 'vader'\n",
    "print(my_list2)"
   ]
  },
  {
   "cell_type": "markdown",
   "metadata": {
    "slideshow": {
     "slide_type": "subslide"
    }
   },
   "source": [
    "## Tuples\n",
    "\n",
    "*Tuples* are immutable lists meaning their values can't be changed.\n",
    "\n",
    "They are created by enclosing elements in `()`:"
   ]
  },
  {
   "cell_type": "code",
   "execution_count": null,
   "metadata": {
    "slideshow": {
     "slide_type": "fragment"
    }
   },
   "outputs": [],
   "source": [
    "t = (1.0, 4.0)\n",
    "t, type(t)"
   ]
  },
  {
   "cell_type": "code",
   "execution_count": null,
   "metadata": {
    "slideshow": {
     "slide_type": "fragment"
    }
   },
   "outputs": [],
   "source": [
    "t[1]"
   ]
  },
  {
   "cell_type": "code",
   "execution_count": null,
   "metadata": {
    "slideshow": {
     "slide_type": "fragment"
    }
   },
   "outputs": [],
   "source": [
    "t[1] = 2"
   ]
  },
  {
   "cell_type": "markdown",
   "metadata": {
    "slideshow": {
     "slide_type": "slide"
    }
   },
   "source": [
    "# Working with table data: Pandas\n",
    "\n",
    "*Pandas* is a module that allows you to create dataframes in python: A spreadsheet-like data structure for data with rows and columns.\n",
    "\n",
    "The pandas modules contain a lot of instruments and methods for data handling and processing.\n",
    "\n",
    "A `DataFrame` is a type. An important subtype is a `series`: A one-dimensional datastructure with an index (like a type-specific list or a variable, as it is understood in statistics)."
   ]
  },
  {
   "cell_type": "code",
   "execution_count": null,
   "metadata": {
    "slideshow": {
     "slide_type": "-"
    }
   },
   "outputs": [],
   "source": [
    "import pandas as pd"
   ]
  },
  {
   "cell_type": "markdown",
   "metadata": {
    "slideshow": {
     "slide_type": "slide"
    }
   },
   "source": [
    "# Pandas Series\n",
    "* One dimensional data\n",
    "* Data is labeled with a index\n",
    "* Series consist of pairs (index, data)"
   ]
  },
  {
   "cell_type": "code",
   "execution_count": null,
   "metadata": {
    "slideshow": {
     "slide_type": "fragment"
    }
   },
   "outputs": [],
   "source": [
    "a = pd.Series([4, 2, 7, 8, 4, 4])\n",
    "print(a)"
   ]
  },
  {
   "cell_type": "code",
   "execution_count": null,
   "metadata": {
    "slideshow": {
     "slide_type": "fragment"
    }
   },
   "outputs": [],
   "source": [
    "print(a*2 + 4)"
   ]
  },
  {
   "cell_type": "markdown",
   "metadata": {
    "slideshow": {
     "slide_type": "slide"
    }
   },
   "source": [
    "A wide range of operations can be performed on series (like variables in any other statistics software)."
   ]
  },
  {
   "cell_type": "code",
   "execution_count": null,
   "metadata": {
    "slideshow": {
     "slide_type": "fragment"
    }
   },
   "outputs": [],
   "source": [
    "print(a.unique())"
   ]
  },
  {
   "cell_type": "code",
   "execution_count": null,
   "metadata": {
    "slideshow": {
     "slide_type": "fragment"
    }
   },
   "outputs": [],
   "source": [
    "print(a.isin([2, 4]))"
   ]
  },
  {
   "cell_type": "markdown",
   "metadata": {
    "slideshow": {
     "slide_type": "slide"
    }
   },
   "source": [
    "# EXERCISE 3: Lists and Series\n",
    "1. Create a list containing the numbers: 5, 13, 26, 42, 101\n",
    "2. Try multiplying the list by 4 - What happens?\n",
    "3. Create a panda series containing the same numbers (Note: you can create a panda series from a list)\n",
    "4. Try multiplying the panda series by 4 - What happens?\n",
    "5. Check if the number 20 is in your series using the `.isin()` method. (*NOTE:* `isin()` requires a list as input)."
   ]
  },
  {
   "cell_type": "code",
   "execution_count": null,
   "metadata": {
    "slideshow": {
     "slide_type": "subslide"
    }
   },
   "outputs": [],
   "source": [
    "my_list = [5, 13, 26, 42, 101] #Creating the list\n",
    "my_list * 4 #Multiplying by 4"
   ]
  },
  {
   "cell_type": "code",
   "execution_count": null,
   "metadata": {
    "slideshow": {
     "slide_type": "subslide"
    }
   },
   "outputs": [],
   "source": [
    "my_series = pd.Series(my_list) #Converting to series\n",
    "my_series * 4 #Multiplying by 4"
   ]
  },
  {
   "cell_type": "code",
   "execution_count": null,
   "metadata": {
    "slideshow": {
     "slide_type": "fragment"
    }
   },
   "outputs": [],
   "source": [
    "my_series.isin([13]) #Does the series contain the number 13"
   ]
  },
  {
   "cell_type": "markdown",
   "metadata": {
    "slideshow": {
     "slide_type": "slide"
    }
   },
   "source": [
    "# Pandas DataFrames\n",
    "* Two dimensional data (rows and columns)\n",
    "* Data is labelled with an index and a column name\n",
    "\n",
    "With the pandas module, various files can be imported directly as dataframes (also from the web).\n",
    "\n",
    "We are working with a subset of the danish section of the 2014 European Social Survey: http://www.europeansocialsurvey.org/"
   ]
  },
  {
   "cell_type": "code",
   "execution_count": null,
   "metadata": {
    "slideshow": {
     "slide_type": "fragment"
    }
   },
   "outputs": [],
   "source": [
    "import pandas as pd\n",
    "\n",
    "ess = pd.read_csv('https://github.com/CALDISS-AAU/workshop_python-intro/raw/master/data/ESS2014DK_subset.csv')\n",
    "#ess = pd.read_csv('./data/ESS2014DK_subset.csv')"
   ]
  },
  {
   "cell_type": "markdown",
   "metadata": {
    "slideshow": {
     "slide_type": "-"
    }
   },
   "source": [
    "*Load the Iris dataset into your own environment now*"
   ]
  },
  {
   "cell_type": "markdown",
   "metadata": {
    "slideshow": {
     "slide_type": "slide"
    }
   },
   "source": [
    "## Inspecting DataFrames\n",
    "\n",
    "Use the method `.head()` to inspect the first 5 rows of the data."
   ]
  },
  {
   "cell_type": "code",
   "execution_count": null,
   "metadata": {
    "slideshow": {
     "slide_type": "fragment"
    }
   },
   "outputs": [],
   "source": [
    "ess.head()"
   ]
  },
  {
   "cell_type": "markdown",
   "metadata": {
    "slideshow": {
     "slide_type": "fragment"
    }
   },
   "source": [
    "Inspect column names with method .columns"
   ]
  },
  {
   "cell_type": "code",
   "execution_count": null,
   "metadata": {
    "slideshow": {
     "slide_type": "fragment"
    }
   },
   "outputs": [],
   "source": [
    "list(ess.columns)"
   ]
  },
  {
   "cell_type": "markdown",
   "metadata": {
    "slideshow": {
     "slide_type": "slide"
    }
   },
   "source": [
    "See key summary statistics using `.descibe()`. (n, mean, std, min, max, quartiles)."
   ]
  },
  {
   "cell_type": "code",
   "execution_count": null,
   "metadata": {
    "slideshow": {
     "slide_type": "fragment"
    }
   },
   "outputs": [],
   "source": [
    "ess.describe()"
   ]
  },
  {
   "cell_type": "markdown",
   "metadata": {
    "slideshow": {
     "slide_type": "slide"
    }
   },
   "source": [
    "## Slicing rows and selecting columns\n",
    "\n",
    "Selecting rows is refered to as *slicing*. Rows can be selected by their index using `[]`. It excludes the last index.\n",
    "\n",
    "Columns can be selected the same way by refering to the column name."
   ]
  },
  {
   "cell_type": "code",
   "execution_count": null,
   "metadata": {
    "slideshow": {
     "slide_type": "fragment"
    }
   },
   "outputs": [],
   "source": [
    "ess[0:1] # First row"
   ]
  },
  {
   "cell_type": "code",
   "execution_count": null,
   "metadata": {
    "slideshow": {
     "slide_type": "fragment"
    }
   },
   "outputs": [],
   "source": [
    "ess['alcfreq'] # Selecting alcfreq column."
   ]
  },
  {
   "cell_type": "markdown",
   "metadata": {
    "slideshow": {
     "slide_type": "slide"
    }
   },
   "source": [
    "The method `.loc[]` is used for subsetting the data. First rows, then columns. Columns have to be specified by their name.\n",
    "\n",
    "Several columns can be selected by refering to a list of column names.\n",
    "\n",
    "Unlike the \"standard\" indexing/slicing, using `.loc[]` includes the last index.\n",
    "\n",
    "*NOTE*: `.loc[]` is also used for recoding specific values."
   ]
  },
  {
   "cell_type": "code",
   "execution_count": null,
   "metadata": {
    "slideshow": {
     "slide_type": "fragment"
    }
   },
   "outputs": [],
   "source": [
    "ess.loc[2:4, 'alcfreq'] # Returns as a series"
   ]
  },
  {
   "cell_type": "code",
   "execution_count": null,
   "metadata": {
    "slideshow": {
     "slide_type": "fragment"
    }
   },
   "outputs": [],
   "source": [
    "ess.loc[2:4, ['alcfreq', 'yrbrn']] # Returns as a dataframe"
   ]
  },
  {
   "cell_type": "code",
   "execution_count": null,
   "metadata": {
    "slideshow": {
     "slide_type": "subslide"
    }
   },
   "outputs": [],
   "source": [
    "ess[2:4][['alcfreq', 'yrbrn']] # Alternative - excludes last index"
   ]
  },
  {
   "cell_type": "markdown",
   "metadata": {
    "slideshow": {
     "slide_type": "slide"
    }
   },
   "source": [
    "## Operations on dataframes\n",
    "Operations can be performed on DataFrame series much like on lists.\n",
    "\n",
    "Operations on DataFrames series are not restricted to pandas functions!"
   ]
  },
  {
   "cell_type": "code",
   "execution_count": null,
   "metadata": {
    "slideshow": {
     "slide_type": "fragment"
    }
   },
   "outputs": [],
   "source": [
    "(ess['height'] / 100).head() #converting to meters - first 5 rows"
   ]
  },
  {
   "cell_type": "code",
   "execution_count": null,
   "metadata": {
    "slideshow": {
     "slide_type": "fragment"
    }
   },
   "outputs": [],
   "source": [
    "ess['height'].mean()"
   ]
  },
  {
   "cell_type": "markdown",
   "metadata": {
    "slideshow": {
     "slide_type": "subslide"
    }
   },
   "source": [
    "The type of a dataframe column (series) can be inspected using the attribute `dtypes`."
   ]
  },
  {
   "cell_type": "code",
   "execution_count": null,
   "metadata": {
    "slideshow": {
     "slide_type": "fragment"
    }
   },
   "outputs": [],
   "source": [
    "ess['height'].dtypes"
   ]
  },
  {
   "cell_type": "markdown",
   "metadata": {
    "slideshow": {
     "slide_type": "slide"
    }
   },
   "source": [
    "## Creating variables\n",
    "\n",
    "Variables are created by refering to columns not yet in the dataframe."
   ]
  },
  {
   "cell_type": "code",
   "execution_count": null,
   "metadata": {
    "slideshow": {
     "slide_type": "fragment"
    }
   },
   "outputs": [],
   "source": [
    "ess['height_m'] = ess['height'] / 100"
   ]
  },
  {
   "cell_type": "code",
   "execution_count": null,
   "metadata": {
    "slideshow": {
     "slide_type": "fragment"
    }
   },
   "outputs": [],
   "source": [
    "list(ess.columns)"
   ]
  },
  {
   "cell_type": "markdown",
   "metadata": {
    "slideshow": {
     "slide_type": "slide"
    }
   },
   "source": [
    "Empty variables/columns are created the same way but by filling them with missing values (NaN).\n",
    "\n",
    "The `numpy` module allows us to work with the NaN value."
   ]
  },
  {
   "cell_type": "code",
   "execution_count": null,
   "metadata": {
    "slideshow": {
     "slide_type": "fragment"
    }
   },
   "outputs": [],
   "source": [
    "import numpy as np\n",
    "\n",
    "ess['height_category'] = np.nan\n",
    "ess.head()"
   ]
  },
  {
   "cell_type": "markdown",
   "metadata": {
    "slideshow": {
     "slide_type": "subslide"
    }
   },
   "source": [
    "### NaN: \"Not a Number\"\n",
    "\n",
    "`NaN` is the python equivalent of missing.\n",
    "\n",
    "Notice that python does not treat NaN-values as larger or smaller than zero. NaN-values do not have a value. We therefore need to use specific methods to refer to them (like `isnull()`)."
   ]
  },
  {
   "cell_type": "code",
   "execution_count": null,
   "metadata": {
    "slideshow": {
     "slide_type": "fragment"
    }
   },
   "outputs": [],
   "source": [
    "print(\n",
    "    ess.loc[2, 'height_category'] < 0,\n",
    "    ess.loc[2, 'height_category'] > 0,\n",
    "    ess.loc[2, 'height_category'] == 0\n",
    ")"
   ]
  },
  {
   "cell_type": "code",
   "execution_count": null,
   "metadata": {
    "slideshow": {
     "slide_type": "fragment"
    }
   },
   "outputs": [],
   "source": [
    "ess[2:3]['height_category'].isnull()"
   ]
  },
  {
   "cell_type": "markdown",
   "metadata": {
    "slideshow": {
     "slide_type": "slide"
    }
   },
   "source": [
    "## Recoding variables\n",
    "\n",
    "The standard way of recoding is by using booleans."
   ]
  },
  {
   "cell_type": "code",
   "execution_count": null,
   "metadata": {},
   "outputs": [],
   "source": [
    "mean_height = ess['height'].mean()"
   ]
  },
  {
   "cell_type": "code",
   "execution_count": null,
   "metadata": {
    "slideshow": {
     "slide_type": "fragment"
    }
   },
   "outputs": [],
   "source": [
    "ess.loc[(ess['height'] <= mean_height), 'height_category'] = \"short\"\n",
    "ess.loc[(ess['height'] > mean_height), 'height_category'] = \"tall\"\n",
    "ess.head()"
   ]
  },
  {
   "cell_type": "markdown",
   "metadata": {
    "slideshow": {
     "slide_type": "slide"
    }
   },
   "source": [
    "# EXERCISE 4: DataFrames\n",
    "\n",
    "1. Create a new variable/column called `bmi` containing the bmi of the respondents.\n",
    "    - BMI = kg/m<sup>2</sup> (power of 2 in python is written with `**2`)\n",
    "2. What is the lowest bmi? Use either `.describe` or `.min`\n",
    "\n",
    "## Bonus exercise\n",
    "\n",
    "- Using `.loc` and `.min()`, can you determine how many cigarettes (`cgtsday`) the person with the lowest bmi smokes per day? (think in booleans)"
   ]
  },
  {
   "cell_type": "code",
   "execution_count": null,
   "metadata": {
    "slideshow": {
     "slide_type": "subslide"
    }
   },
   "outputs": [],
   "source": [
    "ess['bmi'] = ess['weight'] * (ess['height']/100)**2 #Variable for bmi\n",
    "\n",
    "ess['bmi'].min() #smallet bmi"
   ]
  },
  {
   "cell_type": "code",
   "execution_count": null,
   "metadata": {
    "slideshow": {
     "slide_type": "fragment"
    }
   },
   "outputs": [],
   "source": [
    "ess.loc[ess['bmi'] == ess['bmi'].min(), 'cgtsday'] #Determine number of cigarettes per day"
   ]
  },
  {
   "cell_type": "markdown",
   "metadata": {
    "slideshow": {
     "slide_type": "slide"
    }
   },
   "source": [
    "# Writing and reading data\n",
    "Pandas supports exporting DataFrames as various files, including:\n",
    "\n",
    "* .csv (comma-separated values)\n",
    "* .xlsx (excel)\n",
    "* .dta (Stata)"
   ]
  },
  {
   "cell_type": "markdown",
   "metadata": {
    "slideshow": {
     "slide_type": "fragment"
    }
   },
   "source": [
    "## Exporting data with pandas\n",
    "\n",
    "Files are created using the methods `to_csv()`, `to_excel` and `to_stata` respectively."
   ]
  },
  {
   "cell_type": "code",
   "execution_count": null,
   "metadata": {
    "slideshow": {
     "slide_type": "fragment"
    }
   },
   "outputs": [],
   "source": [
    "ess.to_csv('my_ess.csv')\n",
    "ess.to_stata('my_ess.dta')"
   ]
  },
  {
   "cell_type": "markdown",
   "metadata": {
    "slideshow": {
     "slide_type": "slide"
    }
   },
   "source": [
    "## Reading a simple csv file\n",
    "The method `.read_csv` can be used to read a .csv-file as a dataframe.\n",
    "\n",
    "Note that unless you specify an index, one will be automatically generated."
   ]
  },
  {
   "cell_type": "code",
   "execution_count": null,
   "metadata": {
    "slideshow": {
     "slide_type": "fragment"
    }
   },
   "outputs": [],
   "source": [
    "ess_new = pd.read_csv('my_ess.csv', index_col=0) \n",
    "ess_new.head()"
   ]
  },
  {
   "cell_type": "markdown",
   "metadata": {
    "slideshow": {
     "slide_type": "slide"
    }
   },
   "source": [
    "# EXERCISE 5: WRITE AND READ DATA\n",
    "\n",
    "1. Save your ess data as a .csv\n",
    "2. Read your data file as a dataframe - does it look right?"
   ]
  }
 ],
 "metadata": {
  "celltoolbar": "Slideshow",
  "kernelspec": {
   "display_name": "Python 3",
   "language": "python",
   "name": "python3"
  },
  "language_info": {
   "codemirror_mode": {
    "name": "ipython",
    "version": 3
   },
   "file_extension": ".py",
   "mimetype": "text/x-python",
   "name": "python",
   "nbconvert_exporter": "python",
   "pygments_lexer": "ipython3",
   "version": "3.6.10"
  }
 },
 "nbformat": 4,
 "nbformat_minor": 2
}
