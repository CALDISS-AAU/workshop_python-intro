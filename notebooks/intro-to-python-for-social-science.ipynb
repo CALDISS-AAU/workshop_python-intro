{
 "cells": [
  {
   "cell_type": "markdown",
   "metadata": {},
   "source": [
    "# Introduktion til Python for Samfundsvidenskab\n",
    "\n",
    "Velkommen til kurset. Instruktion til brug af siden findes under videoen.\n",
    "\n",
    "{{< youtube qvC73ECZbDc >}}\n",
    "\n",
    "## Sådan bruges denne side\n",
    "\n",
    "Denne side introducerer til Python med et særligt fokus på anvendelse inden for samfundsvidenskabelig analyse.\n",
    "\n",
    "Siden er opbygget sekventielt. Det anbefales derfor, at man gennemgår sidens kursusmateriale i den rækkefølge, som det er sat i, da hver sektion bygger videre på den forrige.\n",
    "\n",
    "Du navigerer i siderne enten via menuen til venstre eller ved at bruge pilene i hhv. højre og venstre side.\n",
    "\n",
    "Kursusmaterialet består af videoer, tekstforklaringer og øvelser. Videoerne forklarer de forskellige koncepter i Python med tilhørende demonstration. Tekstforklaringerne gennemgår typisk det samme som videoerne, men i mere detalje. \n",
    "\n",
    "Øvelser består både af simple spøgrsmål (\"Videnschecks\") og kodeøvelser. Løsningerne på øvelserne kan altid ses ved at klikke \"Løsning\" under øvelsen. Det anbefales dog, at man forsøger at løse øvelsen først, inden man ser løsningen."
   ]
  },
  {
   "cell_type": "markdown",
   "metadata": {},
   "source": [
    "# {#Kapitel}Hvad er Python?\n",
    "\n",
    "Python er et programmeringssprog, der anvendes inden for mange områder: hjemmeside backend, appudvikling, databaseopbygning og -vedligehold, dataanalyse mm.\n",
    "\n",
    "I den seneste tid er Python blevet meget populært inden for dataanalyse og maskinlæring.\n",
    "\n",
    "I denne første sektion introduceres til, hvordan man arbejder med Python som et programmeringssprog."
   ]
  },
  {
   "cell_type": "markdown",
   "metadata": {},
   "source": [
    "{{< youtube IAd4VwiFXl0 >}}\n",
    "\n",
    "\n",
    "\n",
    "Python er et programmeringssprog. At arbejde med Python kræver derfor, at man \"taler\" det rette sprog, når man gerne vil have Python til at gøre noget.\n",
    "\n",
    "I bruger uden tvivl forskellige programmer, apps og softwareløsninger i jeres hverdag til forskellige ting. Disse er alle opbygget af kode skrevet i et programmeringssprog, men de leveres altid med en eller anden form for \"brugerflade\"; altså en måde vi kan bruge programmet ved at trykke på knapper og lignende, uden at skulle kende til den måde, som programmet er opbygget.\n",
    "\n",
    "Python er et programmeringssprog og har derfor ikke en brugerflade, så for at få Python til at gøre noget, skal vi \"fortælle\" Python, hvad vi gerne vil ved at skrive kommandoer i Python sproget.\n",
    "\n",
    "## Hvorfor arbejde med et programmeringssprog?\n",
    "\n",
    "At skulle arbejde på denne måde kan virke lidt gammeldags. Når nu programmer til dataanalyse laves med brugerflader og brugervenlige måder at bruge dem på, hvorfor så arbejde med dataanalyse i et program, hvor vi selv skal programmere og skrive kommandoer for at opnå det, som vi gerne vil?\n",
    "\n",
    "Programmer med brugerflader som Excel, Stata, SPSS osv. har selvfølgelig deres styrke i, at de er nemmere at gå til. Dog er sådanne programmer begrænset i deres funktionalitet, da de er udviklet til at arbejde med data på bestemte måder i bestemte formater og strukturer. Med Python kan vi opnå det samme og meget mere, da man i et programmeringssprog ikke er tvunget til at arbejde med bestemte dataformater, filtyper osv. Samtidig giver det at arbejde med et programmeringssprog os også den mulighed, at vi selv skriver vores egne \"mini-programmer\", der løser den specifikke udfordring, som vi lige står over for.\n",
    "\n",
    "## Python som programmeringssprog\n",
    "\n",
    "Der findes et væld af programmeringssprog. I dette materiale arbejdes med sproget Python. Mange logikker i programmering går på tværs af sprog, men de har hver deres styrker, svagheder og kendetegn. \n",
    "\n",
    "**Python er \"general purpose\"**\n",
    "\n",
    "Python er et \"general purpose\" programmeringssprog. Det vil sige, at det er udviklet til at blive brugt inden for så mange områder som muligt.\n",
    "\n",
    "**Python er \"objekt-orienteret\"**\n",
    "\n",
    "Python er et \"objekt-orienteret\" programmeringssprog. Det vil sige, at sproget er baseret på at arbejde med \"objekter\". Et objekt inden for programmering kan være nærmest hvad som helst. Meget kort sagt er et objekt en beholder for en eller anden form for information. At Python er \"objekt-orienteret\" betyder derfor, at vi arbejder med sproget ved kontinuerligt at definere og re-definere objekter (lagre information i beholdere) og interagere med disse.\n",
    "\n",
    "**Python er \"cross-platform\"**\n",
    "\n",
    "Python er et \"cross-platform\" programmeringssprog. Det vil sige, at man kan arbejde med Python på tværs af styresystemer (Windows, macOS, Linux).\n",
    "\n",
    "# Om dette materiale\n",
    "\n",
    "Der fokuseres i dette materiale på Pythons brugbarhed og anvendelse inden for samfundsvidenskabelig analyse. Materialet vil derfor ikke give indføring i, hvordan programmeringssprog fungerer generelt og logikkerne bag. Der fokuseres i stedet på at give en tilstrækkelig forståelse for, hvordan man arbejder med programmeringssproget Python, sådan at man kan anvende det i samfundsvidenskabelig analyse.\n",
    "\n",
    "Materialet er bygget op ved at give forståelse for relevante programmerings- som datatekniske termer gennem praktiske eksempler med Python."
   ]
  },
  {
   "cell_type": "markdown",
   "metadata": {},
   "source": [
    "{{< youtube IghykgHjDh0 >}}\n",
    "\n",
    "For at bruge Python skal vi \"tale\" Python. Man arbejder med Python ved at skrive kommandoer i Python-sproget. Hvis Python forstår din kommando udføres den. Hvis ikke, får du en eller anden form for fejl. Man kan se Python som et meget bogstaveligt og pernitten sprog: Kommandoer skal skrives på helt bestemte måder for at Python kan forstå, hvad du gerne vil.\n",
    "\n",
    "Barberes Python ned til sine grundsten består det ikke af mere end en \"interpreter\" (fortolker). Alle programmeringssprog er bygget op om en fortolker, der \"evaluerer\" kommandoer. Inden for programmering vil evaluering sige, at sproget forsøger at forstå, hvad der står i en kommando.\n",
    "\n",
    "## Python uden dikkedarer\n",
    "\n",
    "Den \"rene\" installation af Python tilføjer fortolkeren til styresystemet, så man kan arbejde med Python gennem en terminal: \n",
    "![python_terminal.png](/python_terminal.png)\n",
    "\n",
    "I terminalen kan vi skrive en kommando og trykke \"Enter\" for at få fortolkeren til at evaluere. I nedenstående skrives kommandoen `2+40` hvilket Python evaluerer og giver outputtet `42`:\n",
    "![python_interpret1.png](/python_interpret1.png)\n",
    "\n",
    "Python forstår matematiske operationer og vil returnere resultatet af en udregning, når man skriver den ind. \n",
    "\n",
    "I nedenstående forsøges at bede om en opskrift på pandekager. Det går knap så godt: \n",
    "![python_interpret1.png](/python_interpret2.png)\n",
    "\n",
    "Når Python ikke kan forstå kommandoen, returneres en fejl. Der findes et væld af fejltyper. I ovenstående gives en `SyntaxError`, fordi kommandoen er skrevet helt forkert (dette er dog ikke det eneste problem med denne kommando, men det er den første fejl, som fortolkeren støder på).\n",
    "\n",
    "## Brug af Python IDE'er (\"Integrated Development Environment\")\n",
    "\n",
    "Selvom man kan arbejde med Python direkte i terminalen frarådes det meget kraftigt, da det er meget vanskeligt at gemme sit arbejde undervejs og svært at bevare overblik over sin kode og arbejde. Derfor arbejder man for det meste gennem et IDE (Integrated Development Environment). Et IDE er et program, som man kan arbejde med Python igennem, som ofte har forskellige funktioner og egenskaber til at hjælpe en bevare overblikket. \n",
    "\n",
    "Her nævnes blot et mindre udvalg af IDE'er.\n",
    "\n",
    "### Spyder\n",
    "\n",
    "Spyder er bygget op omkring en \"script-editor\". Et script er et dokument bestående af en række af Python kommandoer, som man kan sende til fortolkeren på én gang. I et script kan fx samles al det databehandlings- og analysearbejde, som man skal lave. Ved at køre scriptet udføres så al arbejdet.\n",
    "Script-editoren er indbygget med farvekoder, så man nemt kan adskille dele af koden. Spyder giver også automatisk forslag til kommandoer (Spyder 4 og frem).\n",
    "\n",
    "Derudover giver Spyder en objekt-/variabeloversigt, så man kan se, hvad man har defineret og arbejder med; fx datasæt, resultater, osv.\n",
    "\n",
    "Spyder er god til de fleste ting og særligt, hvis man skal arbejde med længere scripts.\n",
    "\n",
    "Spyder kan installeres sammen med Anaconda: https://www.anaconda.com/products/individual#Downloads\n",
    "\n",
    "### Jupyter Notebook\n",
    "\n",
    "Jupyter Notebook er opbygget omkring en såkaldt \"notebook\". En notebook i Jupyter Notebook kombinerer Python kode med almindelig tekst (skrevet i \"Markdown\"). Jupyter Notebook egner sig særdeles godt, hvis man skal dokumentere sit kodearbejde undervejs, da man har mulighed for at skrive almindelig tekst, sætte billeder ind, lave tabeller osv. omkring sin kode.\n",
    "\n",
    "Materialet på denne kursusside er fx udarbejdet i Jupyter Notebook.\n",
    "\n",
    "Jupyter Notebook kan installeres sammen med Anaconda: https://www.anaconda.com/products/individual#Downloads"
   ]
  },
  {
   "cell_type": "markdown",
   "metadata": {},
   "source": [
    "# {#Kapitel}Fundamentale koncepter i Python\n",
    "\n",
    "I denne sektion gennemgås de grundlæggende koncepter i Python programmering. Disse kan siges at være byggestenene for næsten alt, som man foretager sig med programmering i Python.\n",
    "\n",
    "Det følgende materiale består af en del kodeeksempler, som er udarbejdet i Jupyter Notebook, men de kan køres i hvilken som helst Python IDE."
   ]
  },
  {
   "cell_type": "markdown",
   "metadata": {},
   "source": [
    "# {#Afsnit}Python sproget\n",
    "\n",
    "{{< youtube 1iD74PlcMUw >}}\n",
    "\n",
    "Som nævnt arbejder man med Python ved at skrive kommandoer i Python sproget. Kommandoer bliver \"evalueret\" af fortolkeren. Hvis koden forstås, bliver den kørt, og der gives et output, en ændring eller andet afhængigt af, hvad man beder om.\n",
    "\n",
    "Hvis man fx skriver en kommando besteånde af matematiske operationer i Python, vil man få resultatet tilbage som output:"
   ]
  },
  {
   "cell_type": "code",
   "execution_count": 12,
   "metadata": {},
   "outputs": [
    {
     "data": {
      "text/plain": [
       "7"
      ]
     },
     "execution_count": 12,
     "metadata": {},
     "output_type": "execute_result"
    }
   ],
   "source": [
    "2 + 5"
   ]
  },
  {
   "cell_type": "code",
   "execution_count": 13,
   "metadata": {},
   "outputs": [
    {
     "data": {
      "text/plain": [
       "42"
      ]
     },
     "execution_count": 13,
     "metadata": {},
     "output_type": "execute_result"
    }
   ],
   "source": [
    "7 * 6"
   ]
  },
  {
   "cell_type": "code",
   "execution_count": 14,
   "metadata": {},
   "outputs": [
    {
     "data": {
      "text/plain": [
       "20.511111111111113"
      ]
     },
     "execution_count": 14,
     "metadata": {},
     "output_type": "execute_result"
    }
   ],
   "source": [
    "923 / 45"
   ]
  },
  {
   "cell_type": "markdown",
   "metadata": {},
   "source": [
    "Her køres Python kode i Jupyter Notebook. Som vist i sidste sektion, kan man køre Python kode direkte fra en terminal, hvor man sender en kommando afsted ved at trykke \"Enter\". Med Jupyter Notebook (eller anden IDE) har vi mulighed for at skrive flere kommandoer efter hinanden adskilt af linjeskift. Når koden køres, evalueres linjerne enkeltvis i rækkefølge.\n",
    "\n",
    "Bemærk, at når flere linjer køres, vises kun output fra den sidste linje kørt (i Jupyter Notebook):"
   ]
  },
  {
   "cell_type": "code",
   "execution_count": 15,
   "metadata": {},
   "outputs": [
    {
     "data": {
      "text/plain": [
       "57"
      ]
     },
     "execution_count": 15,
     "metadata": {},
     "output_type": "execute_result"
    }
   ],
   "source": [
    "90 - 65\n",
    "0.7 * 23\n",
    "45 + 12"
   ]
  },
  {
   "cell_type": "markdown",
   "metadata": {},
   "source": [
    "Hvis output for alle linjer skal vises, kan man bede om det eksplicit med funktionen `print()`. "
   ]
  },
  {
   "cell_type": "code",
   "execution_count": 16,
   "metadata": {},
   "outputs": [
    {
     "name": "stdout",
     "output_type": "stream",
     "text": [
      "25\n",
      "16.099999999999998\n",
      "57\n"
     ]
    }
   ],
   "source": [
    "print(90 - 65)\n",
    "print(0.7 * 23)\n",
    "print(45 + 12)"
   ]
  },
  {
   "cell_type": "markdown",
   "metadata": {},
   "source": [
    "At arbejde med Python er at arbejde med funktioner. En funktion tager et eller flere input (kaldet \"argumenter\") og gør et eller andet ved dem. Funktionen `print()` tager enten et stykke tekst eller tal som input, og viser det som et stykke tekst:"
   ]
  },
  {
   "cell_type": "code",
   "execution_count": 17,
   "metadata": {},
   "outputs": [
    {
     "name": "stdout",
     "output_type": "stream",
     "text": [
      "Hello there!\n",
      "901\n"
     ]
    }
   ],
   "source": [
    "print(\"Hello there!\")\n",
    "print(921 - 20)"
   ]
  },
  {
   "cell_type": "markdown",
   "metadata": {},
   "source": [
    "{{% notice note %}}\n",
    "Bemærk at mellemrum ikke er nødvendige for at koden virker. Faktisk ignorerer Python mellemrum, når de er en del af en kommando. Dog kan brug af mellemrum være med til at gøre kode mere overskuelig og læsbar.\n",
    "{{% /notice%}}"
   ]
  },
  {
   "cell_type": "markdown",
   "metadata": {},
   "source": [
    "# {#Afsnit}Variable\n",
    "\n",
    "{{< youtube tNmobEPK_uU>}}\n",
    "\n",
    "Python er et objekt-orienteret programmeringssprog. Dette indebærer, at man kontinuerligt arbejder med forskellige objekter, som indeholder en eller anden for for information.\n",
    "\n",
    "En basal form for objekter i Python er \"variable\". Dette er ikke at forveksle med en variabel, som forstået i statistik som en egenskab ved en observation, da en variabel i Python blot er en beholder for en eller anden form for information.\n",
    "\n",
    "Alle disse kan være variable i Python:\n",
    "- Et tal\n",
    "- Et ord\n",
    "- En tekst\n",
    "- Et datasæt\n",
    "- En mappesti\n",
    "- En hjemmesideadresse\n",
    "- Et billede"
   ]
  },
  {
   "cell_type": "markdown",
   "metadata": {},
   "source": [
    "## Variable med tal\n",
    "\n",
    "En variabel defineres med `=`. På venstre side gives variablen et navn, og på højre skrives det, som variablen skal indeholde: "
   ]
  },
  {
   "cell_type": "code",
   "execution_count": 18,
   "metadata": {},
   "outputs": [],
   "source": [
    "a = 42\n",
    "b = 7\n",
    "c = 6"
   ]
  },
  {
   "cell_type": "markdown",
   "metadata": {},
   "source": [
    "Når først en variabel er defineret (altså at koden, hvor variablen defineres, er kørt), kan variablen kaldes frem og bruges i andre kommandoer:"
   ]
  },
  {
   "cell_type": "code",
   "execution_count": 19,
   "metadata": {},
   "outputs": [
    {
     "name": "stdout",
     "output_type": "stream",
     "text": [
      "42\n",
      "6.0\n"
     ]
    }
   ],
   "source": [
    "print(a)\n",
    "print(a / b)"
   ]
  },
  {
   "cell_type": "markdown",
   "metadata": {},
   "source": [
    "Defineres en variabel som et matematisk udtryk, er det resultatet af dette udtryk, som bliver lagret i variablen:"
   ]
  },
  {
   "cell_type": "code",
   "execution_count": 20,
   "metadata": {},
   "outputs": [
    {
     "name": "stdout",
     "output_type": "stream",
     "text": [
      "38\n"
     ]
    }
   ],
   "source": [
    "d = 13 + 25\n",
    "print(d)"
   ]
  },
  {
   "cell_type": "markdown",
   "metadata": {},
   "source": [
    "Bemærk at Python læser kode meget bogstaveligt, og skelner derfor mellem store og små bogstaver. Kaldes en variabel, som ikke findes, returnerer Python en fejl:"
   ]
  },
  {
   "cell_type": "code",
   "execution_count": 21,
   "metadata": {},
   "outputs": [
    {
     "name": "stdout",
     "output_type": "stream",
     "text": [
      "38\n"
     ]
    },
    {
     "ename": "NameError",
     "evalue": "name 'D' is not defined",
     "output_type": "error",
     "traceback": [
      "\u001b[1;31m---------------------------------------------------------------------------\u001b[0m",
      "\u001b[1;31mNameError\u001b[0m                                 Traceback (most recent call last)",
      "\u001b[1;32m<ipython-input-21-f03a0baf7732>\u001b[0m in \u001b[0;36m<module>\u001b[1;34m\u001b[0m\n\u001b[0;32m      1\u001b[0m \u001b[0mprint\u001b[0m\u001b[1;33m(\u001b[0m\u001b[0md\u001b[0m\u001b[1;33m)\u001b[0m\u001b[1;33m\u001b[0m\u001b[1;33m\u001b[0m\u001b[0m\n\u001b[1;32m----> 2\u001b[1;33m \u001b[0mprint\u001b[0m\u001b[1;33m(\u001b[0m\u001b[0mD\u001b[0m\u001b[1;33m)\u001b[0m\u001b[1;33m\u001b[0m\u001b[1;33m\u001b[0m\u001b[0m\n\u001b[0m",
      "\u001b[1;31mNameError\u001b[0m: name 'D' is not defined"
     ]
    }
   ],
   "source": [
    "print(d)\n",
    "print(D)"
   ]
  },
  {
   "cell_type": "markdown",
   "metadata": {},
   "source": [
    "## Variable med tekst"
   ]
  },
  {
   "cell_type": "markdown",
   "metadata": {},
   "source": [
    "En variabel kan også indeholde tekst. Tekst markeres med enten `'` eller `\"`:"
   ]
  },
  {
   "cell_type": "code",
   "execution_count": 22,
   "metadata": {},
   "outputs": [
    {
     "name": "stdout",
     "output_type": "stream",
     "text": [
      "Hello there!\n"
     ]
    }
   ],
   "source": [
    "e = \"Hello there!\"\n",
    "print(e)"
   ]
  },
  {
   "cell_type": "markdown",
   "metadata": {},
   "source": [
    "Hvis ikke Python fortælles, at noget er tekst, vil Python antage, at det er en eller anden form for variabel eller funktion, som der forsøges at blive kaldt frem:"
   ]
  },
  {
   "cell_type": "code",
   "execution_count": 23,
   "metadata": {},
   "outputs": [
    {
     "ename": "SyntaxError",
     "evalue": "invalid syntax (<ipython-input-23-d5c54fdddaa2>, line 1)",
     "output_type": "error",
     "traceback": [
      "\u001b[1;36m  File \u001b[1;32m\"<ipython-input-23-d5c54fdddaa2>\"\u001b[1;36m, line \u001b[1;32m1\u001b[0m\n\u001b[1;33m    e = Hello there\u001b[0m\n\u001b[1;37m                  ^\u001b[0m\n\u001b[1;31mSyntaxError\u001b[0m\u001b[1;31m:\u001b[0m invalid syntax\n"
     ]
    }
   ],
   "source": [
    "e = Hello there"
   ]
  },
  {
   "cell_type": "markdown",
   "metadata": {},
   "source": [
    "## Ændring af variable\n",
    "\n",
    "Som hovedregel ændres en variabel ikke blot ved at inddrage den. "
   ]
  },
  {
   "cell_type": "code",
   "execution_count": 24,
   "metadata": {},
   "outputs": [
    {
     "name": "stdout",
     "output_type": "stream",
     "text": [
      "49\n",
      "42\n"
     ]
    }
   ],
   "source": [
    "a = 42\n",
    "print(a + 7) # returnerer a + 7\n",
    "print(a)     # a er ikke ændret. Stadig 42"
   ]
  },
  {
   "cell_type": "markdown",
   "metadata": {},
   "source": [
    "Variablen skal defineres om, hvis man gerne vil ændre indholdet af variablen:"
   ]
  },
  {
   "cell_type": "code",
   "execution_count": 25,
   "metadata": {},
   "outputs": [
    {
     "name": "stdout",
     "output_type": "stream",
     "text": [
      "49\n"
     ]
    }
   ],
   "source": [
    "a = a + 7    # a overskrives med a +7\n",
    "print(a)     # a er nu ændret"
   ]
  },
  {
   "cell_type": "markdown",
   "metadata": {},
   "source": [
    "{{% notice tip %}}\n",
    "Brug `#` til at skrive kommentarer i din kode. Tekst der følger et `#` ignoreres af Python. Når man for alvor begynder at arbejde med kode, kan man nemt glemme, hvorfor man skrev bestemte kodestykker, eller hvad kodestykkerne gør. Kommentarer til ens kode hjælper både dig selv og evt. andre, som skal kigge på eller arbejde med din kode.\n",
    "{{% /notice%}}"
   ]
  },
  {
   "cell_type": "markdown",
   "metadata": {},
   "source": [
    "---\n",
    "## VIDENSCHECK\n",
    "\n",
    "Tag et kig på nedenstående kode:"
   ]
  },
  {
   "cell_type": "code",
   "execution_count": 26,
   "metadata": {},
   "outputs": [],
   "source": [
    "g = 90\n",
    "g + 10\n",
    "f = g - 10\n",
    "g = g - f"
   ]
  },
  {
   "cell_type": "markdown",
   "metadata": {},
   "source": [
    "*Hvad indeholder variablen `g` når ovenstående kode er kørt?*\n",
    "\n",
    "{{%expand \"Løsning\" %}}\n",
    "`g` indeholder tallet `10`. `g` bliver kun ændret ved den sidste linje (`g = g - f`), og `f` indeholder tallet `80`, da `g` på tidspunktet `f` defineres indeholder tallet `90`.\n",
    "{{% /expand%}}\n",
    "\n",
    "---"
   ]
  },
  {
   "cell_type": "markdown",
   "metadata": {},
   "source": [
    "## At arbejde med variable\n",
    "\n",
    "At arbejde med Python er at arbejde med variable. Man definerer hele tiden nye variable, som bruges senere hen. Selvom man kun er interesseret i ét endeligt produkt eller output, så bruges variable til at holde styr på information og mellemresultater undervejs.\n",
    "\n",
    "Det er en god ide at indarbejde en god navngivningsskik. Kunsten er at balancere mellem korte navne og navne, som er sigende for det, som variablen indeholder."
   ]
  },
  {
   "cell_type": "code",
   "execution_count": 27,
   "metadata": {},
   "outputs": [],
   "source": [
    "a = 10              # kort, men ikke sigende for indholdet\n",
    "the_number_ten = 10 # sigende, men ret langt, hvis man skal bruge variablen igen og igen"
   ]
  },
  {
   "cell_type": "markdown",
   "metadata": {},
   "source": [
    "{{% notice tip %}}\n",
    "\n",
    "**Tips til variabelnavne**\n",
    "\n",
    "Variable kan blive navngivet næsten alt, men der er visse restriktioner:\n",
    "\n",
    "* Variabelnavne kan ikke indeholde mellemrum.\n",
    "* De fleste specielle karakterer kan ikke bruges, som fx: `/`, `?`, `*`, `?`, `.` osv. Disse betyder noget i Python og vil blive forsøgt fortolket.\n",
    "\n",
    "Derudover er det en god ide at undgå at bruge allerede eksisterende navne i Python, da man ellers overskriver en allerede eksisterende funktion. Dette kan man nemt komme til i starten, når man ikke har stort kendskab til Pythons funktioner.\n",
    "\n",
    "{{% /notice%}}"
   ]
  },
  {
   "cell_type": "markdown",
   "metadata": {},
   "source": [
    "{{% notice info %}}\n",
    "Her ses en oversigt over de matematiske operationer, som kan bruges i Python:\n",
    "\n",
    "```\n",
    "a + b      # addition\n",
    "a * b      # multiplikation\n",
    "a - b      # subtraktion\n",
    "a / b      # division\n",
    "b ** a     # exponentiering\n",
    "a // b     # \"floor division\" - returner antal hele gange, at tal til venstre kan divideres med tal til højre\n",
    "a % b      # modulus - returnerer rest efter \"floor division\"\n",
    "```"
   ]
  },
  {
   "cell_type": "markdown",
   "metadata": {},
   "source": [
    "{{% /notice%}} "
   ]
  },
  {
   "cell_type": "markdown",
   "metadata": {},
   "source": [
    "---\n",
    "## ØVELSE: Definér variable\n",
    "\n",
    "Lav variablene `my_number1`, `my_number2` og `my_word`. \n",
    "\n",
    "* `my_number1` skal indeholde tallet `42` \n",
    "* `my_number2` skal indeholde tallet `9` \n",
    "* `my_word` skal indeholde ordet `hello` (husk at brug `'` eller `\"` til at fortælle Python, at det er tekst).\n",
    "\n",
    "Når de er defineret, prøv da nogen af de forskellige matematiske operationer på variablene, fx: \n",
    "\n",
    "* `my_number1 + 10`\n",
    "* `my_number2 / my_number1`\n",
    "* `my_word` + `my_number1`\n",
    "* `my_word` * `my_number2`\n",
    "\n",
    "Læg mærke til hvilke operationer, der kan lade sig gøre og hvilke resultater, de producerer (nogle af disse operationer vil give fejl).\n",
    "\n",
    "---"
   ]
  },
  {
   "cell_type": "markdown",
   "metadata": {},
   "source": [
    "# {#Afsnit}Typer\n",
    "\n",
    "{{< youtube ranfUBt6538 >}}\n",
    "\n",
    "En variabel er ikke bare en variabel i Python. Fordi en variabel kan være så mange ting, så er Python nødt til at kunne adskille variable fra hinanden. Dette gøres ved at variable lagres som en bestemt *type*. \n",
    "\n",
    "Typen af variabel fortæller Python, hvad det er for en slags information, som variablen indeholder, og sætter betingelserne for, hvad der kan lade sig gøre med variablen.\n",
    "\n",
    "Som man arbejder med Python, vil man støde på mange forskellige typer. I første omgang fokuseres på to af de mere gængse typer:\n",
    "\n",
    "- Numeriske typer (fx integers og floats)\n",
    "- Tekst typer (fx strings)\n",
    "\n",
    "## Numeriske typer\n",
    "\n",
    "Python gætter altid typen, når en variabel lagres. Når en variabel består af en talværdi, vil denne fx lagres som en numerisk type. Talværdier kan enten lagres som en *integer* (heltal) eller et *float point* (decimaltal). \n",
    "\n",
    "Python kan fortælle typen med funktionen `type()`:"
   ]
  },
  {
   "cell_type": "code",
   "execution_count": 29,
   "metadata": {},
   "outputs": [
    {
     "name": "stdout",
     "output_type": "stream",
     "text": [
      "<class 'int'>\n"
     ]
    }
   ],
   "source": [
    "a = 42\n",
    "print(type(a))"
   ]
  },
  {
   "cell_type": "markdown",
   "metadata": {},
   "source": [
    "Variablen `a` er typen `int`, som står for *integer* - et heltal. Som set i sidste afsnit, kan der foretages forskellige matematiske operationer med heltal.\n",
    "\n",
    "Tildeles en variabel et tal med decimaler, lagres det som et *float point*.:"
   ]
  },
  {
   "cell_type": "code",
   "execution_count": 30,
   "metadata": {},
   "outputs": [
    {
     "name": "stdout",
     "output_type": "stream",
     "text": [
      "<class 'float'>\n"
     ]
    }
   ],
   "source": [
    "b = 42.2\n",
    "print(type(b))"
   ]
  },
  {
   "cell_type": "markdown",
   "metadata": {},
   "source": [
    "Bemærk, at når man dividerer, så vil typen altid blive et *float point* - også selvom resultatet er et heltal:"
   ]
  },
  {
   "cell_type": "code",
   "execution_count": 31,
   "metadata": {},
   "outputs": [
    {
     "name": "stdout",
     "output_type": "stream",
     "text": [
      "42\n",
      "<class 'int'>\n",
      "21.0\n",
      "<class 'float'>\n"
     ]
    }
   ],
   "source": [
    "print(a)\n",
    "print(type(a))   # a er lige nu integer\n",
    "b = a / 2        # b defineres som a / 2\n",
    "print(b)\n",
    "print(type(b))   # b er et float point"
   ]
  },
  {
   "cell_type": "markdown",
   "metadata": {},
   "source": [
    "At Python gerne vil adskille mellem typer har at gøre med, hvordan én type information kræver mere computerhukommelse at lagre end en anden. Dette kan have betydning, når man arbejder med enorme datamængder, hvilket sjældent er tilfældet i samfundsvidenskabelige analysearbejder."
   ]
  },
  {
   "cell_type": "markdown",
   "metadata": {},
   "source": [
    "---\n",
    "## VIDENSCHECK\n",
    "\n",
    "I ovenstående bliver variablen `a` brugt til at definere variabel `b`. \n",
    "\n",
    "*Hvilken type er variablen `a` efter at variabel `b` defineres?*\n",
    "\n",
    "{{%expand \"Løsning\" %}}\n",
    "`a` er stadig en *integer*. `a` ændres ikke i koden, men bliver blot brugt til at lave variablen `b`.\n",
    "{{% /expand%}}\n",
    "\n",
    "---"
   ]
  },
  {
   "cell_type": "markdown",
   "metadata": {},
   "source": [
    "## Tekst typer\n",
    "\n",
    "Python lagrer en variabel som en tekst type, hvis det indeholder tekst. Python fortælles, at noget skal behandles som tekst, ved at indkapsle det med `'` eller `\"`:"
   ]
  },
  {
   "cell_type": "code",
   "execution_count": 32,
   "metadata": {},
   "outputs": [
    {
     "name": "stdout",
     "output_type": "stream",
     "text": [
      "<class 'str'>\n"
     ]
    }
   ],
   "source": [
    "a = \"Hello\"\n",
    "print(type(a))"
   ]
  },
  {
   "cell_type": "markdown",
   "metadata": {},
   "source": [
    "En variabel med et stykke tekst kaldes en `string` (forkortet i Python som `str`). \n",
    "\n",
    "I modsætning til numeriske typer, giver matematiske operationer ikke meget mening på et stykke tekst. Dog tillader Python at bruge visse matematiske operatorer på tekst:"
   ]
  },
  {
   "cell_type": "code",
   "execution_count": 33,
   "metadata": {},
   "outputs": [
    {
     "name": "stdout",
     "output_type": "stream",
     "text": [
      "HelloHello\n",
      "Hello there\n"
     ]
    }
   ],
   "source": [
    "b = \" there\"   # bemærk mellemrum i string\n",
    "print(a * 2)   # gentager string\n",
    "print(a + b)   # sætter de to strings sammen (kaldes også for \"paste\")"
   ]
  },
  {
   "cell_type": "markdown",
   "metadata": {},
   "source": [
    "{{% notice note %}}\n",
    "\n",
    "Bemærk at Python *altid* vil lagre variablen som string, hvis teksten er indkapslet med `'` eller `\"`. Dette gælder også, hvis tal lagres på denne måde:"
   ]
  },
  {
   "cell_type": "code",
   "execution_count": 34,
   "metadata": {},
   "outputs": [
    {
     "name": "stdout",
     "output_type": "stream",
     "text": [
      "84\n",
      "4242\n"
     ]
    }
   ],
   "source": [
    "a = 42    # integer\n",
    "b = '42'  # string\n",
    "\n",
    "print(a * 2) # 42 * 2 = 84 - kan lade sig gøre, da a er integer.\n",
    "print(b * 2) # b er ikke et tal. \"Pastes\" sammen, da det er en string."
   ]
  },
  {
   "cell_type": "markdown",
   "metadata": {},
   "source": [
    "Python gætter altid typen. Derfor gættes typen også, når man indlæser data i Python. Her kan problemet opstå, at Python læser information ind forkert - fx at tal læses ind som tekst.\n",
    "\n",
    "{{% /notice%}}"
   ]
  },
  {
   "cell_type": "markdown",
   "metadata": {
    "slideshow": {
     "slide_type": "slide"
    }
   },
   "source": [
    "## Ændring af typer (casting)\n",
    "\n",
    "I visse tilfælde kan variable tvinges til at være en anden type (casting) med bestemte funktioner:\n",
    "\n",
    "- Returnerer tekst type: `str(variabel)`.\n",
    "- Returnerer numerisk type: `int(variabel` (integer) eller `float(variabel)` (float point).\n",
    "\n",
    "Python vil altid gætte typen. Hvis Python gætter forkert, kan Python fortælles eksplicit, hvad typen skal være (hvis muligt).\n",
    "\n",
    "Fx kan det hænde, at tal ved en fejl indlæses som tekst. Disse kan tvinges om ved at *caste* til en anden type. Herunder ses hvordan dette gøres for enkelte værdier:"
   ]
  },
  {
   "cell_type": "code",
   "execution_count": 35,
   "metadata": {},
   "outputs": [
    {
     "name": "stdout",
     "output_type": "stream",
     "text": [
      "<class 'str'>\n",
      "<class 'int'>\n"
     ]
    }
   ],
   "source": [
    "print(type(b))  # typen for b er her string\n",
    "b = int(b)      # b dannes på ny som integer af b\n",
    "print(type(b))  # b er nu integer"
   ]
  },
  {
   "cell_type": "markdown",
   "metadata": {},
   "source": [
    "Alle typer kan selvfølgelig ikke castes om. Fx kan man ikke meningsfuldt konvertere tekst i form af ord om til tal:"
   ]
  },
  {
   "cell_type": "code",
   "execution_count": 36,
   "metadata": {},
   "outputs": [
    {
     "name": "stdout",
     "output_type": "stream",
     "text": [
      "<class 'str'>\n"
     ]
    },
    {
     "ename": "ValueError",
     "evalue": "invalid literal for int() with base 10: 'Hello'",
     "output_type": "error",
     "traceback": [
      "\u001b[1;31m---------------------------------------------------------------------------\u001b[0m",
      "\u001b[1;31mValueError\u001b[0m                                Traceback (most recent call last)",
      "\u001b[1;32m<ipython-input-36-cc7b3220923a>\u001b[0m in \u001b[0;36m<module>\u001b[1;34m\u001b[0m\n\u001b[0;32m      1\u001b[0m \u001b[0ma\u001b[0m \u001b[1;33m=\u001b[0m \u001b[1;34m\"Hello\"\u001b[0m     \u001b[1;31m# a dannes som string\u001b[0m\u001b[1;33m\u001b[0m\u001b[1;33m\u001b[0m\u001b[0m\n\u001b[0;32m      2\u001b[0m \u001b[0mprint\u001b[0m\u001b[1;33m(\u001b[0m\u001b[0mtype\u001b[0m\u001b[1;33m(\u001b[0m\u001b[0ma\u001b[0m\u001b[1;33m)\u001b[0m\u001b[1;33m)\u001b[0m  \u001b[1;31m# typen er string\u001b[0m\u001b[1;33m\u001b[0m\u001b[1;33m\u001b[0m\u001b[0m\n\u001b[1;32m----> 3\u001b[1;33m \u001b[0ma\u001b[0m \u001b[1;33m=\u001b[0m \u001b[0mint\u001b[0m\u001b[1;33m(\u001b[0m\u001b[0ma\u001b[0m\u001b[1;33m)\u001b[0m      \u001b[1;31m# forsøger at konvertere a til integer - ikke muligt\u001b[0m\u001b[1;33m\u001b[0m\u001b[1;33m\u001b[0m\u001b[0m\n\u001b[0m",
      "\u001b[1;31mValueError\u001b[0m: invalid literal for int() with base 10: 'Hello'"
     ]
    }
   ],
   "source": [
    "a = \"Hello\"     # a dannes som string\n",
    "print(type(a))  # typen er string\n",
    "a = int(a)      # forsøger at konvertere a til integer - ikke muligt"
   ]
  },
  {
   "cell_type": "markdown",
   "metadata": {},
   "source": [
    "---\n",
    "## ØVELSE: Typer\n",
    "\n",
    "Lav variablene `my_number3` og `my_number4`.\n",
    "\n",
    "* `my_number3` skal indeholde `21`\n",
    "* `my_number4` skal indeholde `\"12\"` (med anførselstegn!)\n",
    "\n",
    "Forsøg at dividere de to tal med hinanden (`my_number3 / my_number4`). Det giver fejl, men hvorfor?\n",
    "\n",
    "Undersøg hvilken type `my_number3` og `my_number4` er med `type()`. Begge skal gerne være numeriske typer, før de kan divideres.\n",
    "\n",
    "Ændr typen til numerisk for den variabel, som ikke er numerisk. \n",
    "\n",
    "Forsøg at dividere de to tal med hinanden igen. Hvis du har rettet typen korrekt, bør det kunne lade sig gøre og give tallet `1.75`.\n",
    "\n",
    "{{%expand \"Løsning\" %}}\n",
    "`my_number4` er lagret som tekst. Denne skal derfor konverteres til et tal, fx ved at definere variablen om som `my_number4 = int(my_number4)`. Derefter bør det kunne lade sig gøre at dividere de to tal med hinanden (`my_number3 / my_number4`)."
   ]
  },
  {
   "cell_type": "code",
   "execution_count": 37,
   "metadata": {},
   "outputs": [
    {
     "name": "stdout",
     "output_type": "stream",
     "text": [
      "<class 'int'>\n",
      "<class 'str'>\n",
      "<class 'int'>\n"
     ]
    },
    {
     "data": {
      "text/plain": [
       "1.75"
      ]
     },
     "execution_count": 37,
     "metadata": {},
     "output_type": "execute_result"
    }
   ],
   "source": [
    "my_number3 = 21\n",
    "my_number4 = \"12\"\n",
    "\n",
    "print(type(my_number3))\n",
    "print(type(my_number4))\n",
    "\n",
    "my_number4 = int(my_number4)\n",
    "print(type(my_number4))\n",
    "\n",
    "my_number3 / my_number4"
   ]
  },
  {
   "cell_type": "markdown",
   "metadata": {},
   "source": [
    "{{% /expand%}}\n",
    "\n",
    "---"
   ]
  },
  {
   "cell_type": "markdown",
   "metadata": {},
   "source": [
    "# {#Afsnit}Funktioner\n",
    "\n",
    "{{< youtube pKID5oLWy5k >}}\n",
    "\n",
    "En central del af det at arbejde med et programmeringssprog er at bruge funktioner. Funktioner tager et eller flere input (kaldet \"argumenter\"), foretager et eller andet med disse og returnerer (for det meste) et output.\n",
    "\n",
    "Funktioner i Python har følgende format:\n",
    "\n",
    "- `function(argument1, argument2, ...)`\n",
    "\n",
    "Funktioner bruges ved at skrive funktionens navn efterfulgt af argumenterne i parentes. Hvert argument adskilles med et komma (`,`). En funktion kan have et utal af argumenter, men oftest skal de som minimum have en eller flere variable som input.\n",
    "\n",
    "Udover argumenter tager funktioner også ofte en del \"keyword arguments\" som input. Disse kan betragte som indstillinger, som man slår til og fra i funktionen. \"keyword arguments\" indgår i funktionen med navnet på indstillingen, et `=` og hvad indstillingen skal sættes til; lig nedenstående:\n",
    "\n",
    "- `function(argument1, argument2, keywordargument1 = \"something\")`\n",
    "\n",
    "Ligesom med argumenter kan en funktion have rigtig mange \"keyword arguments\"/indstillinger. Det er dog sjældent, at man behøver at forholde sig til alle indstillingerne, da de fleste funktioner har en eller anden form for standardindstilling.\n",
    "\n",
    "## Sådan bruges funktioner\n",
    "\n",
    "Tidligere i dette materiale har funktionerne `print()` og `type()` været brugt. Ved `print()` har denne kun været brugt med et enkelt argument; altså den variabel, som skal printes, men faktisk accepterer print flere argumenter:"
   ]
  },
  {
   "cell_type": "code",
   "execution_count": 38,
   "metadata": {},
   "outputs": [
    {
     "name": "stdout",
     "output_type": "stream",
     "text": [
      "Hello there\n"
     ]
    }
   ],
   "source": [
    "a = \"Hello\"\n",
    "b = \"there\"\n",
    "print(a, b)"
   ]
  },
  {
   "cell_type": "markdown",
   "metadata": {},
   "source": [
    "Derudover har `print()` også en række \"keyword arguments\"/indstillinger, som det ses af dokumentationen herunder:\n",
    "\n",
    "```\n",
    "Docstring:\n",
    "print(value, ..., sep=' ', end='\\n', file=sys.stdout, flush=False)\n",
    "\n",
    "Prints the values to a stream, or to sys.stdout by default.\n",
    "Optional keyword arguments:\n",
    "file:  a file-like object (stream); defaults to the current sys.stdout.\n",
    "sep:   string inserted between values, default a space.\n",
    "end:   string appended after the last value, default a newline.\n",
    "flush: whether to forcibly flush the stream.\n",
    "Type:      builtin_function_or_method\n",
    "```\n",
    "\n",
    "Her ses det, at `print()` har adskilige indstillinger. `sep` bestemmer fx, hvad der skal adskille de forskellige værdier, som tages ind. Bemærk, at alle indstillinger er sat til en eller anden indstillling som standard. `sep=' '` betyder, at de forskellige værdier adskilles med et mellemrum som standard. Hvis denne ændres til noget andet, vil outputtet se anderledes ud:"
   ]
  },
  {
   "cell_type": "code",
   "execution_count": 39,
   "metadata": {},
   "outputs": [
    {
     "name": "stdout",
     "output_type": "stream",
     "text": [
      "Hello there\n",
      "Hello, there\n"
     ]
    }
   ],
   "source": [
    "print(a, b)              # printer a og b med standardindstilling (adskiller med mellemrum)\n",
    "print(a, b, sep = \", \")  # sep ændres til komma"
   ]
  },
  {
   "cell_type": "markdown",
   "metadata": {},
   "source": [
    "En funktion kan have rigtig mange indstillinger, og i praksis forholder man sig kun til få af disse, da man for det meste kan lade standardinstillingerne være, som de er. \n",
    "\n",
    "{{% notice info %}}\n",
    "Man kan altid få hjælpefilen/dokumentationen frem til en funktion ved at skrive `?[function]` (fx `?print` for dokumentationen for `print()`). Mange IDE'er understøtter også, at man trykker `Shift + Tab` inde i parentesen af en funktion for at få vist dele af hjælpefilen.\n",
    "{{% /notice%}}\n",
    "\n",
    "{{% notice note %}}\n",
    "Det, som der står i de forskellige \"keyword arguments\" i dokumentationen for en funktion, er funktionens standardindstillinger. \n",
    "{{% /notice%}}"
   ]
  },
  {
   "cell_type": "markdown",
   "metadata": {},
   "source": [
    "---\n",
    "## VIDENSCHECK\n",
    "\n",
    "Hvordan får man `print()` til at adskille input værdierne med en `-`?\n",
    "\n",
    "{{%expand \"Løsning\" %}}\n",
    "Indstillingen `sep` sættes til `sep = '-'`."
   ]
  },
  {
   "cell_type": "code",
   "execution_count": 40,
   "metadata": {},
   "outputs": [
    {
     "name": "stdout",
     "output_type": "stream",
     "text": [
      "Hello-there\n"
     ]
    }
   ],
   "source": [
    "print(a, b, sep = '-')"
   ]
  },
  {
   "cell_type": "markdown",
   "metadata": {},
   "source": [
    "{{%/expand%}}\n",
    "\n",
    "---"
   ]
  },
  {
   "cell_type": "markdown",
   "metadata": {},
   "source": [
    "## Hvor kommer funktioner fra?\n",
    "\n",
    "Python har en række funktioner indbygget, men faktisk kommer størstedelen af funktionerne i Python fra alle mulige andre, som har udviklet funktioner til forskellige formål, som andre derefter kan gøre brug af. Andre funktioner hentes ind i form af \"pakker\", som gennemgås senere i dette materiale.\n",
    "\n",
    "Man kan fristes til at lære Python ved at forsøge at lære så mange funktioner som muligt. Dette er en håbløs og nærmest umulig opgave givet omfanget af, hvad der findes af funktioner, der kan hentes til Python. I praksis opbygger man arbejdsgange eller workflows, hvori man har tendens til at bruge de samme funktioner igen og igen. Derfor er en god tilgang til Python at spørge: *\"Kan jeg bruge Python til X?\"* eller *\"Hvordan løser jeg problem Y i Python?\"*, og så forsøge at finde de rette funktioner til det, frem for at spørge: *\"Hvad kan jeg bruge Python til?\"*, da man med dette spørgsmål ikke får nogen retning på det, man gerne vil lære om Python.\n",
    "\n",
    "At Python kan så mange ting i dag skyldes netop, at folk rundt omkring i verden har stået over for forskellige udfordringer, som de har løst ved at udvikle funktioner til Python, som de derefter stiller til rådighed. \n",
    "\n",
    "Python fortæller med det samme, hvis funktionen, som man forsøger at bruge, ikke kendes af Python:"
   ]
  },
  {
   "cell_type": "code",
   "execution_count": 41,
   "metadata": {},
   "outputs": [
    {
     "ename": "NameError",
     "evalue": "name 'add10' is not defined",
     "output_type": "error",
     "traceback": [
      "\u001b[1;31m---------------------------------------------------------------------------\u001b[0m",
      "\u001b[1;31mNameError\u001b[0m                                 Traceback (most recent call last)",
      "\u001b[1;32m<ipython-input-41-7452fc393844>\u001b[0m in \u001b[0;36m<module>\u001b[1;34m\u001b[0m\n\u001b[1;32m----> 1\u001b[1;33m \u001b[0madd10\u001b[0m\u001b[1;33m(\u001b[0m\u001b[1;36m5\u001b[0m\u001b[1;33m)\u001b[0m\u001b[1;33m\u001b[0m\u001b[1;33m\u001b[0m\u001b[0m\n\u001b[0m",
      "\u001b[1;31mNameError\u001b[0m: name 'add10' is not defined"
     ]
    }
   ],
   "source": [
    "add10(5)"
   ]
  },
  {
   "cell_type": "markdown",
   "metadata": {},
   "source": [
    "Man kan dog til enhver tid definere sine egne funktioner:"
   ]
  },
  {
   "cell_type": "code",
   "execution_count": 42,
   "metadata": {},
   "outputs": [
    {
     "name": "stdout",
     "output_type": "stream",
     "text": [
      "15\n"
     ]
    }
   ],
   "source": [
    "def add10(x):\n",
    "    result = x + 10\n",
    "    return result\n",
    "\n",
    "print(add10(5))"
   ]
  },
  {
   "cell_type": "markdown",
   "metadata": {},
   "source": [
    "Funktioner defineres med `def` efterfulgt af navnet på den funktion, man gerne vil lave. I parenteserne skrives de input, som funktionen skal have. I ovenstående dannes funktionen `add10`, der tager et enkelt input og lægger 10 til. `x` i ovenstående er blot en \"pladsholder\", da `x` erstattes med hvadend, der sættes i funktionen, når den bruges.\n",
    "\n",
    "Efter `:` skrives det, som skal ske i funktionen. Alle variable, som defineres inde i funktionen, eksisterer *kun* i selve funktionen. Sagt på en anden måde, så kan variable, der defineres i funktionen, ikke kaldes frem. I funktionen `add10()` defineres `result` undervejs, men den eksisterer ikke uden for funktionen:"
   ]
  },
  {
   "cell_type": "code",
   "execution_count": 43,
   "metadata": {},
   "outputs": [
    {
     "ename": "NameError",
     "evalue": "name 'result' is not defined",
     "output_type": "error",
     "traceback": [
      "\u001b[1;31m---------------------------------------------------------------------------\u001b[0m",
      "\u001b[1;31mNameError\u001b[0m                                 Traceback (most recent call last)",
      "\u001b[1;32m<ipython-input-43-6459d04d738f>\u001b[0m in \u001b[0;36m<module>\u001b[1;34m\u001b[0m\n\u001b[1;32m----> 1\u001b[1;33m \u001b[0mprint\u001b[0m\u001b[1;33m(\u001b[0m\u001b[0mresult\u001b[0m\u001b[1;33m)\u001b[0m\u001b[1;33m\u001b[0m\u001b[1;33m\u001b[0m\u001b[0m\n\u001b[0m",
      "\u001b[1;31mNameError\u001b[0m: name 'result' is not defined"
     ]
    }
   ],
   "source": [
    "print(result)"
   ]
  },
  {
   "cell_type": "markdown",
   "metadata": {},
   "source": [
    "`result` er en variabel, der dannes inde i funktionen til at lave den nødvendige beregning. \n",
    "\n",
    "Hvis man vil lagre outputtet af en funktion til en variabel, kan man blot tilskrive variablen funktionen med det input, som funktionen skal have, for at få det ønskede output:"
   ]
  },
  {
   "cell_type": "code",
   "execution_count": 44,
   "metadata": {},
   "outputs": [
    {
     "name": "stdout",
     "output_type": "stream",
     "text": [
      "15\n"
     ]
    }
   ],
   "source": [
    "a = add10(5)\n",
    "\n",
    "print(a)"
   ]
  },
  {
   "cell_type": "markdown",
   "metadata": {},
   "source": [
    "En funktion skal gerne slutte med en `return` linje. Denne bestemmer, hvad funktionen skal sende tilbage. Udelades denne, returnerer funktionen `None`; altså intet:"
   ]
  },
  {
   "cell_type": "code",
   "execution_count": 45,
   "metadata": {},
   "outputs": [
    {
     "name": "stdout",
     "output_type": "stream",
     "text": [
      "None\n"
     ]
    }
   ],
   "source": [
    "def add10(x):\n",
    "    result = x + 10\n",
    "    \n",
    "print(add10(10))"
   ]
  },
  {
   "cell_type": "markdown",
   "metadata": {},
   "source": [
    "En funktion afsluttes altid, når den når til en `return` linje. Det vil sige, at ting i funktionen, som skrives ind efter `return`, ignoreres:"
   ]
  },
  {
   "cell_type": "code",
   "execution_count": 46,
   "metadata": {},
   "outputs": [
    {
     "name": "stdout",
     "output_type": "stream",
     "text": [
      "Adding 10...\n",
      "20\n"
     ]
    }
   ],
   "source": [
    "def add10(x):\n",
    "    print(\"Adding 10...\")          # Denne linje printes, da den ligger før return-linjen\n",
    "    result = x + 10\n",
    "    return result\n",
    "    print(\"And then more stuff!\")  # Denne linje printes ikke, da den ligger efter return-linjen\n",
    "    \n",
    "print(add10(10))"
   ]
  },
  {
   "cell_type": "markdown",
   "metadata": {},
   "source": [
    "Indrykningen er ikke kun for syns skyld, men er her med til at afgrænse, hvor meget funktionen indeholder. Funktionens indhold (linjer skrevet efter `def`-linjen) skal rykkes ind med et enkelt tab eller fire mellemrum."
   ]
  },
  {
   "cell_type": "markdown",
   "metadata": {},
   "source": [
    "---\n",
    "##  VIDENSCHECK\n",
    "\n",
    "*Hvad returnerer nedenstående funktion, hvis `x = 122`?*"
   ]
  },
  {
   "cell_type": "code",
   "execution_count": 47,
   "metadata": {},
   "outputs": [],
   "source": [
    "def tenth(x):\n",
    "    result = x / 10\n",
    "    return result\n",
    "    result = x * 10\n",
    "    return result"
   ]
  },
  {
   "cell_type": "markdown",
   "metadata": {},
   "source": [
    "{{%expand \"Løsning\" %}}\n",
    "Funktionen returnerer `12.2`, hvis input er `122`, da input divideres med 10 og returneres. Alt efter den første return-linje ignoreres.\n",
    "{{%/expand%}}\n",
    "\n",
    "---"
   ]
  },
  {
   "cell_type": "markdown",
   "metadata": {},
   "source": [
    "---\n",
    "## ØVELSE\n",
    "\n",
    "*Lav en funktion, der udregner arealet af en trekant (A), ved at tage højde (h) og grundlinje (g) som input.*\n",
    "\n",
    "\\[A = {{1 \\over 2} * h * g}\\]\n",
    "\n",
    "{{%expand \"Løsning\" %}} "
   ]
  },
  {
   "cell_type": "code",
   "execution_count": 48,
   "metadata": {},
   "outputs": [
    {
     "name": "stdout",
     "output_type": "stream",
     "text": [
      "22.5\n"
     ]
    }
   ],
   "source": [
    "def triarea(h, g):\n",
    "    area = 0.5 * h * g\n",
    "    return area\n",
    "\n",
    "print(triarea(5, 9))"
   ]
  },
  {
   "cell_type": "markdown",
   "metadata": {},
   "source": [
    "{{%/expand%}}\n",
    "\n",
    "---"
   ]
  },
  {
   "cell_type": "markdown",
   "metadata": {},
   "source": [
    "# {#Afsnit}Metoder\n",
    "\n",
    "{{< youtube xOz52Dmn-GY >}}\n",
    "\n",
    "Udover funktioner i Python findes der også \"metoder\". Lig funktioner tager metoder også en form for input og returnerer et output. \n",
    "\n",
    "I modsætning til funktioner er metoder bundet op på bestemte variabeltyper (eller rettere en bestemt \"class\"). Det vil sige at variablen skal være en bestemt type for, at metoden kan bruges. Metoder kaldes med `variabel.method(option1 = something)`. Tekstværdier (strings) har fx en række metoder tilknyttet til at ændre teksten:"
   ]
  },
  {
   "cell_type": "code",
   "execution_count": 49,
   "metadata": {},
   "outputs": [
    {
     "name": "stdout",
     "output_type": "stream",
     "text": [
      "HELLO\n",
      "hello\n"
     ]
    }
   ],
   "source": [
    "word = \"Hello\"\n",
    "\n",
    "print(word.upper())  # Konverterer til store bogstaver\n",
    "print(word.lower())  # Konverterer til små bogstaver"
   ]
  },
  {
   "cell_type": "markdown",
   "metadata": {},
   "source": [
    "Bemærk at metoder ikke altid ændrer på variablen. For ovenstående metoder skal variablen derfor defineres om eller på ny, hvis output af en metode skal lagres:"
   ]
  },
  {
   "cell_type": "code",
   "execution_count": 50,
   "metadata": {},
   "outputs": [
    {
     "name": "stdout",
     "output_type": "stream",
     "text": [
      "Hello\n",
      "HELLO\n"
     ]
    }
   ],
   "source": [
    "print(word)         # Stadig som det oprindeligt blev lavet\n",
    "\n",
    "word = word.upper() \n",
    "print(word)         # Er nu overskrevet til at være med store bogstaver"
   ]
  },
  {
   "cell_type": "markdown",
   "metadata": {},
   "source": [
    "Forsøger man at bruge metoder på en variabel af en forkert type, gives der fejl:"
   ]
  },
  {
   "cell_type": "code",
   "execution_count": 51,
   "metadata": {},
   "outputs": [
    {
     "ename": "AttributeError",
     "evalue": "'int' object has no attribute 'upper'",
     "output_type": "error",
     "traceback": [
      "\u001b[1;31m---------------------------------------------------------------------------\u001b[0m",
      "\u001b[1;31mAttributeError\u001b[0m                            Traceback (most recent call last)",
      "\u001b[1;32m<ipython-input-51-d30eebf09ae0>\u001b[0m in \u001b[0;36m<module>\u001b[1;34m\u001b[0m\n\u001b[0;32m      1\u001b[0m \u001b[0mnumber\u001b[0m \u001b[1;33m=\u001b[0m \u001b[1;36m627\u001b[0m\u001b[1;33m\u001b[0m\u001b[1;33m\u001b[0m\u001b[0m\n\u001b[0;32m      2\u001b[0m \u001b[1;33m\u001b[0m\u001b[0m\n\u001b[1;32m----> 3\u001b[1;33m \u001b[0mnumber\u001b[0m\u001b[1;33m.\u001b[0m\u001b[0mupper\u001b[0m\u001b[1;33m(\u001b[0m\u001b[1;33m)\u001b[0m\u001b[1;33m\u001b[0m\u001b[1;33m\u001b[0m\u001b[0m\n\u001b[0m",
      "\u001b[1;31mAttributeError\u001b[0m: 'int' object has no attribute 'upper'"
     ]
    }
   ],
   "source": [
    "number = 627\n",
    "\n",
    "number.upper()"
   ]
  },
  {
   "cell_type": "markdown",
   "metadata": {},
   "source": [
    "Metoder tager ofte yderligere argumenter og indstillinger. I nedenstående bruges metoden `.replace()` til at erstatte et ord i tekstvariablen med et andet."
   ]
  },
  {
   "cell_type": "code",
   "execution_count": 52,
   "metadata": {},
   "outputs": [
    {
     "data": {
      "text/plain": [
       "'Hello world!'"
      ]
     },
     "execution_count": 52,
     "metadata": {},
     "output_type": "execute_result"
    }
   ],
   "source": [
    "words = \"Hello there!\"\n",
    "\n",
    "words.replace(\"there\", \"world\")"
   ]
  },
  {
   "cell_type": "markdown",
   "metadata": {},
   "source": [
    "{{% notice note %}} Bemærk i hjælpefilen for `.replace()` at de to argumenter, som der tages kaldes `old` og `new` og står i den rækkefølge. Det er derfor også den rækkefølge, som de skal skrives ind, når man bruger metoden.\n",
    "{{% /notice%}}"
   ]
  },
  {
   "cell_type": "markdown",
   "metadata": {},
   "source": [
    "---\n",
    "## VIDENSCHECK\n",
    "\n",
    "I ovenstående er metoden `.replace()` brugt til at erstatte ordet \"there\" med \"world\" i variablen `words`.\n",
    "\n",
    "*Hvad indeholder `words` efter `.replace()` er brugt?*\n",
    "\n",
    "{{%expand \"Løsning\" %}} \n",
    "`words` indeholder stadig `\"Hello there!\"`, da variablen ikke er defineret om.\n",
    "{{%/expand%}}\n",
    "\n",
    "---"
   ]
  },
  {
   "cell_type": "markdown",
   "metadata": {},
   "source": [
    "# {#Afsnit}Pakker\n",
    "\n",
    "{{< youtube Nvmy6HD8DJ0 >}}\n",
    "\n",
    "Pakker i Python er samlinger af funktioner, metoder, værdier osv. Selvom man kan meget i Python, så når man ikke særlig langt uden at importere pakker.\n",
    "\n",
    "Funktioner, metoder, værdier osv. fra pakker kan nemt indlæses ved at importere dem. Så snart pakken er importeret, er pakkens indhold tilgængeligt.\n",
    "\n",
    "Fx kender Python ikke værdien pi med det samme:"
   ]
  },
  {
   "cell_type": "code",
   "execution_count": 53,
   "metadata": {},
   "outputs": [
    {
     "ename": "NameError",
     "evalue": "name 'pi' is not defined",
     "output_type": "error",
     "traceback": [
      "\u001b[1;31m---------------------------------------------------------------------------\u001b[0m",
      "\u001b[1;31mNameError\u001b[0m                                 Traceback (most recent call last)",
      "\u001b[1;32m<ipython-input-53-9e2d2bd32686>\u001b[0m in \u001b[0;36m<module>\u001b[1;34m\u001b[0m\n\u001b[1;32m----> 1\u001b[1;33m \u001b[0mprint\u001b[0m\u001b[1;33m(\u001b[0m\u001b[0mpi\u001b[0m\u001b[1;33m)\u001b[0m\u001b[1;33m\u001b[0m\u001b[1;33m\u001b[0m\u001b[0m\n\u001b[0m",
      "\u001b[1;31mNameError\u001b[0m: name 'pi' is not defined"
     ]
    }
   ],
   "source": [
    "print(pi)"
   ]
  },
  {
   "cell_type": "markdown",
   "metadata": {},
   "source": [
    "Værdien pi er en del af `math` pakken, så ved at importere pakken, kan man arbejde med værdien:"
   ]
  },
  {
   "cell_type": "code",
   "execution_count": 54,
   "metadata": {},
   "outputs": [
    {
     "name": "stdout",
     "output_type": "stream",
     "text": [
      "3.141592653589793\n"
     ]
    }
   ],
   "source": [
    "import math\n",
    "\n",
    "print(math.pi)"
   ]
  },
  {
   "cell_type": "markdown",
   "metadata": {},
   "source": [
    "Bemærk at man kalder noget frem, som er en del af en pakke, ved at skrive pakkens navn, punktum og det, som man skal bruge fra pakken.\n",
    "\n",
    "Det er også muligt kun at importere enkelte dele af en pakke. I sådanne tilfælde er det ikke nødvendigt at skrive pakkens navn først:"
   ]
  },
  {
   "cell_type": "code",
   "execution_count": 55,
   "metadata": {},
   "outputs": [
    {
     "name": "stdout",
     "output_type": "stream",
     "text": [
      "3.141592653589793\n"
     ]
    }
   ],
   "source": [
    "from math import pi\n",
    "\n",
    "print(pi)"
   ]
  },
  {
   "cell_type": "markdown",
   "metadata": {},
   "source": [
    "Pakker kan have lange navne, så det er muligt at forkorte navnet, når de importeres:"
   ]
  },
  {
   "cell_type": "code",
   "execution_count": 56,
   "metadata": {},
   "outputs": [
    {
     "name": "stdout",
     "output_type": "stream",
     "text": [
      "3.141592653589793\n"
     ]
    }
   ],
   "source": [
    "import math as m\n",
    "\n",
    "print(m.pi)"
   ]
  },
  {
   "cell_type": "markdown",
   "metadata": {},
   "source": [
    "{{% notice warning %}} Vær varsom med blot at importere dele af pakker ind enkeltvis. En af grundene til, at man kalder dele af pakker ved at skrive pakken først er for at holde styr på, hvor funktionen, metoden eller værdien kommer fra. Man kan nemt miste overblikket eller, endnu værre, kalde den forkerte funktion, hvis man ikke har styr på, hvordan man har importeret.\n",
    "\n",
    "Derudover bør man også altid overveje læsbarheden af ens kode, hvis andre skal kunne inspicere det, eller der skal samarbejdes om det. Derfor bør man også overveje, hvordan man forkorter pakkenavne ved import, da det også kan gøre koden sværere at gennemskue. Mange pakker har dog gængse standardforkortelser, som man hurtigt lærer.\n",
    "{{% /notice%}}"
   ]
  },
  {
   "cell_type": "markdown",
   "metadata": {},
   "source": [
    "Python kommer med et standardbibliotek af pakker. Selvom funktionerne altså er installeret sammen med Python i pakker, så skal de stadig importeres, før de kan bruges. Python er opbygget sådan både for at gøre det hurtigere at arbejde med (jo mindre der skal indlæses ved opstart, jo hurtigere kan man komme i gang), og for at gøre det nemmere at håndtere funktioner, metoder og værdier fra forskellige pakker. \n",
    "\n",
    "Der et utal af pakker, som Python kan udvides med. I materiale fra CALDISS anvendes primært pakker inden for dataanalyse, web scraping, tekstanalyse og maskinlæring. Hvis du har installeret Python med Anaconda, så er mange af disse pakker allerede installeret og klar til import."
   ]
  },
  {
   "cell_type": "markdown",
   "metadata": {},
   "source": [
    "# {#Afsnit}Logiske værdier (booleans)\n",
    "\n",
    "{{< youtube Vm8gu-hJV68 >}}\n",
    "\n",
    "En stor del af programmeringsarbejde involverer at arbejde med logiske værdier; også kaldt booleanske værdier. Disse lagres som typen `bool`.\n",
    "\n",
    "Variable af typen `bool` kan *kun* antage værdien sandt (`True`) eller falsk (`False`). Python har en række operatorer, som altid returnerer en booleansk værdi:"
   ]
  },
  {
   "cell_type": "code",
   "execution_count": 57,
   "metadata": {},
   "outputs": [
    {
     "data": {
      "text/plain": [
       "False"
      ]
     },
     "execution_count": 57,
     "metadata": {},
     "output_type": "execute_result"
    }
   ],
   "source": [
    "a = 10\n",
    "b = 12\n",
    "\n",
    "a == b"
   ]
  },
  {
   "cell_type": "markdown",
   "metadata": {},
   "source": [
    "I ovenstående bruges `==` til at spørge: \"Er a lig med b?\" (`=` bruges selvfølgelig ikke, da denne bruges til at danne variable).\n",
    "\n",
    "En booleansk værdi kan tilskrives en variabel ligesom alle mulige andre værdier. Sådanne variable bliver typen boolean, som altså kun kan være sand (`True`) eller falsk (`False`)."
   ]
  },
  {
   "cell_type": "code",
   "execution_count": 58,
   "metadata": {},
   "outputs": [
    {
     "name": "stdout",
     "output_type": "stream",
     "text": [
      "False <class 'bool'>\n"
     ]
    }
   ],
   "source": [
    "check = a == b\n",
    "\n",
    "print(check, \n",
    "      type(check))"
   ]
  },
  {
   "cell_type": "markdown",
   "metadata": {},
   "source": [
    "Her er en række operatorer, som altid returnerer en booleansk værdi:\n",
    "\n",
    "```\n",
    "a == b  # Lig med\n",
    "a != b  # Ikke lig med\n",
    "a > b   # Større end\n",
    "a >= b  # Større end eller lig med\n",
    "a < b   # Mindre end\n",
    "a <= b  # Mindre end eller lig med\n",
    "```"
   ]
  },
  {
   "cell_type": "markdown",
   "metadata": {},
   "source": [
    "Mange funktioner og metoder returnerer også booleanske værdier. Fx returnerer metoden `.startswith()` en booleansk værdi afhængig af, om en tekststreng starter med et vis stykke tekst eller ej:"
   ]
  },
  {
   "cell_type": "code",
   "execution_count": 60,
   "metadata": {},
   "outputs": [
    {
     "name": "stdout",
     "output_type": "stream",
     "text": [
      "True\n"
     ]
    }
   ],
   "source": [
    "words = \"Hello there!\"\n",
    "\n",
    "print(words.startswith(\"Hello\"))"
   ]
  },
  {
   "cell_type": "markdown",
   "metadata": {},
   "source": [
    "Booleanske værdier har mange formål:\n",
    "\n",
    "- Check af resultat: Værdier checkes op imod et sæt af gyldige værdier\n",
    "- Filtrering: Værdier udvælges efter bestemte betingelser\n",
    "- Betinget udførelse: Dele af kode udføres kun, hvis en bestemt betingelse er mødt (noget er \"sandt\" eller \"falsk\")\n",
    "- Fejlhåndtering: Visse fejl kan forventes ved at sætte betingelser op for derefter at håndtere dem"
   ]
  },
  {
   "cell_type": "markdown",
   "metadata": {},
   "source": [
    "---\n",
    "## VIDENSCHECK\n",
    "\n",
    "Tag et kig på nedenstående kode:"
   ]
  },
  {
   "cell_type": "code",
   "execution_count": 61,
   "metadata": {},
   "outputs": [],
   "source": [
    "a = 7\n",
    "b = 17\n",
    "c = a < b"
   ]
  },
  {
   "cell_type": "markdown",
   "metadata": {},
   "source": [
    "*Hvilken variabel indeholder en booleansk værdi?*\n",
    "\n",
    "{{%expand \"Løsning\" %}} `c` indeholder en booleansk værdi (`True`), da det er resultatet af testen af, hvorvidt `a` er mindre end `b`.\n",
    "{{%/expand%}} \n",
    "\n",
    "---"
   ]
  },
  {
   "cell_type": "markdown",
   "metadata": {},
   "source": [
    "# {#Kapitel}Arbejd med flere værdier\n",
    "\n",
    "Indtil videre har materialet fokuseret på at arbejde med enkelte værdier i Python. I denne sektion gennemgås de forskellige indbyggede datastrukturer til at håndtere flere værdier.\n",
    "\n",
    "Derudover introduceres såkaldte kontrolstrukturer, der er måder at udføre funktioner (på en eller flere værdier) baseret på givne betingelser."
   ]
  },
  {
   "cell_type": "markdown",
   "metadata": {},
   "source": [
    "# {#Afsnit}Lister og tuples\n",
    "\n",
    "{{< youtube mXQXpWdLFvI >}}\n",
    "\n",
    "## Lister\n",
    "\n",
    "Den mest basale datastruktur er en liste. En liste defineres med `[]`:"
   ]
  },
  {
   "cell_type": "code",
   "execution_count": 62,
   "metadata": {},
   "outputs": [],
   "source": [
    "my_list = [2, 7, 9, 10]"
   ]
  },
  {
   "cell_type": "markdown",
   "metadata": {},
   "source": [
    "I ovenstående defineres listen `my_list` til at indeholde værdierne 2, 7, 9 og 10. En liste kan fremkaldes ligesom hvilken som helst anden variabel:"
   ]
  },
  {
   "cell_type": "code",
   "execution_count": 63,
   "metadata": {},
   "outputs": [
    {
     "name": "stdout",
     "output_type": "stream",
     "text": [
      "[2, 7, 9, 10]\n"
     ]
    }
   ],
   "source": [
    "print(my_list)"
   ]
  },
  {
   "cell_type": "markdown",
   "metadata": {},
   "source": [
    "En liste er blot en beholder af forskellige variable. Lister kan derfor indeholde variable af forskellig typer:"
   ]
  },
  {
   "cell_type": "code",
   "execution_count": 64,
   "metadata": {},
   "outputs": [
    {
     "name": "stdout",
     "output_type": "stream",
     "text": [
      "[2, 'hello', 10, True]\n"
     ]
    }
   ],
   "source": [
    "my_list2 = [2, \"hello\", 10, True]\n",
    "\n",
    "print(my_list2)"
   ]
  },
  {
   "cell_type": "markdown",
   "metadata": {},
   "source": [
    "Lister kan også indeholde andre lister:"
   ]
  },
  {
   "cell_type": "code",
   "execution_count": 65,
   "metadata": {},
   "outputs": [
    {
     "name": "stdout",
     "output_type": "stream",
     "text": [
      "[9, 17, [2, 91], 16]\n"
     ]
    }
   ],
   "source": [
    "my_list3 = [9, 17, [2, 91], 16]\n",
    "\n",
    "print(my_list3)"
   ]
  },
  {
   "cell_type": "markdown",
   "metadata": {},
   "source": [
    "**Variable i lister**\n",
    "\n",
    "En liste kan bestå af en række variable:"
   ]
  },
  {
   "cell_type": "code",
   "execution_count": 66,
   "metadata": {},
   "outputs": [
    {
     "name": "stdout",
     "output_type": "stream",
     "text": [
      "[4, 9, 11]\n"
     ]
    }
   ],
   "source": [
    "a = 4\n",
    "b = 9\n",
    "c = 11\n",
    "\n",
    "my_list4 = [a, b, c]\n",
    "\n",
    "print(my_list4)"
   ]
  },
  {
   "cell_type": "markdown",
   "metadata": {},
   "source": [
    "Bemærk dog, at når en liste dannes med variable, så er det variablenes værdi(er), der lagres i listen og ikke selve variablen. \n",
    "\n",
    "Det kan ses, hvis man ændrer en af variablerne i listen. Herunder ændres variabel `a` fra `4` til `21`. Selvom variablen ændres, så er indholdet af listen (`my_list4`) ikke ændret. "
   ]
  },
  {
   "cell_type": "code",
   "execution_count": 67,
   "metadata": {},
   "outputs": [
    {
     "name": "stdout",
     "output_type": "stream",
     "text": [
      "[4, 9, 11]\n",
      "[4, 9, 11]\n"
     ]
    }
   ],
   "source": [
    "print(my_list4)   # listen består af værdierne 4, 9 og 11 tilsvarende variable a, b og c\n",
    "\n",
    "a = 21            # værdien af variabel af ændres\n",
    "\n",
    "print(my_list4)   # listens indhold er uændret (stadig 4, 9 og 11)"
   ]
  },
  {
   "cell_type": "markdown",
   "metadata": {},
   "source": [
    "Når listen genereres, lagres den værdi, som `a` har på det tidspunkt, listen generes. Værdiens tilknytning til variabel `a` lagres altså ikke i listen."
   ]
  },
  {
   "cell_type": "markdown",
   "metadata": {},
   "source": [
    "**Index**\n",
    "\n",
    "Hvert element i en liste tildeles et *index*. Et bestemt element kan altid kaldes frem ved at refere til elementets index med `[]`:"
   ]
  },
  {
   "cell_type": "code",
   "execution_count": 68,
   "metadata": {},
   "outputs": [
    {
     "name": "stdout",
     "output_type": "stream",
     "text": [
      "2\n"
     ]
    }
   ],
   "source": [
    "my_list = [2, 7, 9, 10]\n",
    "print(my_list[0])"
   ]
  },
  {
   "cell_type": "markdown",
   "metadata": {},
   "source": [
    "Index i Python starter altid med 0. Derfor gives i ovenstående det første element af listen `my_list` ved at refere til index 0.\n",
    "\n",
    "Et element i en liste kan overskrives ved at refere til dets index:"
   ]
  },
  {
   "cell_type": "code",
   "execution_count": 69,
   "metadata": {},
   "outputs": [
    {
     "name": "stdout",
     "output_type": "stream",
     "text": [
      "[2, 7, 9, 10]\n",
      "[2, 7, 28, 10]\n"
     ]
    }
   ],
   "source": [
    "print(my_list)\n",
    "\n",
    "my_list[2] = 28\n",
    "print(my_list)"
   ]
  },
  {
   "cell_type": "markdown",
   "metadata": {},
   "source": [
    "**Slicing**\n",
    "\n",
    "Elementer i et vis interval kan kaldes frem ved brug af `:` (også omtalt \"slicing\"). Slicing tager elementer fra det første index givet (inklusiv) til det sidste index givet (eksklusiv)."
   ]
  },
  {
   "cell_type": "code",
   "execution_count": 70,
   "metadata": {},
   "outputs": [
    {
     "name": "stdout",
     "output_type": "stream",
     "text": [
      "[7, 28]\n"
     ]
    }
   ],
   "source": [
    "print(my_list[1:3])"
   ]
  },
  {
   "cell_type": "markdown",
   "metadata": {},
   "source": [
    "Ovenstående tages fra index 1 og op til index 3 eksklusivt index 3; altså index 1 (listens andet element: 7) og index 2 (listens tredje element: 9)."
   ]
  },
  {
   "cell_type": "markdown",
   "metadata": {},
   "source": [
    "Listens længde (antallet af elementer) returneres med funktionen `len()`:"
   ]
  },
  {
   "cell_type": "code",
   "execution_count": 71,
   "metadata": {},
   "outputs": [
    {
     "data": {
      "text/plain": [
       "4"
      ]
     },
     "execution_count": 71,
     "metadata": {},
     "output_type": "execute_result"
    }
   ],
   "source": [
    "len(my_list)"
   ]
  },
  {
   "cell_type": "markdown",
   "metadata": {},
   "source": [
    "---\n",
    "## VIDENSCHECK\n",
    "\n",
    "Tag et kig på nedenstående liste:"
   ]
  },
  {
   "cell_type": "code",
   "execution_count": 72,
   "metadata": {},
   "outputs": [],
   "source": [
    "a_list = [45, 67, 3, 36, 87]"
   ]
  },
  {
   "cell_type": "markdown",
   "metadata": {},
   "source": [
    "*Hvilket element (tal i listen) har index 3?*\n",
    "\n",
    "{{%expand \"Løsning\" %}} Index 3 af `a_list` (`a_list[3]`) indeholder tallet 36; altså det fjerde element, da index tælles fra 0.  "
   ]
  },
  {
   "cell_type": "code",
   "execution_count": 73,
   "metadata": {},
   "outputs": [
    {
     "name": "stdout",
     "output_type": "stream",
     "text": [
      "36\n"
     ]
    }
   ],
   "source": [
    "print(a_list[3])"
   ]
  },
  {
   "cell_type": "markdown",
   "metadata": {},
   "source": [
    "{{%/expand%}}\n",
    "\n",
    "---"
   ]
  },
  {
   "cell_type": "markdown",
   "metadata": {},
   "source": [
    "## Tuples\n",
    "\n",
    "Tuples fungerer på mange måder ligesom lister med den undtagelse, at værdier i en tuple ikke kan ændres.\n",
    "\n",
    "Tuples laves med `()`:"
   ]
  },
  {
   "cell_type": "code",
   "execution_count": 74,
   "metadata": {},
   "outputs": [
    {
     "name": "stdout",
     "output_type": "stream",
     "text": [
      "('Katarn', 'Kenobi', 'Windu')\n"
     ]
    }
   ],
   "source": [
    "my_tuple = (\"Katarn\", \"Kenobi\", \"Windu\")\n",
    "\n",
    "print(my_tuple)"
   ]
  },
  {
   "cell_type": "markdown",
   "metadata": {},
   "source": [
    "Elementer i en tuple har indexes ligesom ved lister:"
   ]
  },
  {
   "cell_type": "code",
   "execution_count": 75,
   "metadata": {},
   "outputs": [
    {
     "data": {
      "text/plain": [
       "'Katarn'"
      ]
     },
     "execution_count": 75,
     "metadata": {},
     "output_type": "execute_result"
    }
   ],
   "source": [
    "my_tuple[0]"
   ]
  },
  {
   "cell_type": "markdown",
   "metadata": {},
   "source": [
    "Forsøger man at ændre et element af en tuple, får man dog fejl:"
   ]
  },
  {
   "cell_type": "code",
   "execution_count": 76,
   "metadata": {},
   "outputs": [
    {
     "ename": "TypeError",
     "evalue": "'tuple' object does not support item assignment",
     "output_type": "error",
     "traceback": [
      "\u001b[1;31m---------------------------------------------------------------------------\u001b[0m",
      "\u001b[1;31mTypeError\u001b[0m                                 Traceback (most recent call last)",
      "\u001b[1;32m<ipython-input-76-b2ea6727d80b>\u001b[0m in \u001b[0;36m<module>\u001b[1;34m\u001b[0m\n\u001b[1;32m----> 1\u001b[1;33m \u001b[0mmy_tuple\u001b[0m\u001b[1;33m[\u001b[0m\u001b[1;36m0\u001b[0m\u001b[1;33m]\u001b[0m \u001b[1;33m=\u001b[0m \u001b[1;34m\"Palpatine\"\u001b[0m\u001b[1;33m\u001b[0m\u001b[1;33m\u001b[0m\u001b[0m\n\u001b[0m",
      "\u001b[1;31mTypeError\u001b[0m: 'tuple' object does not support item assignment"
     ]
    }
   ],
   "source": [
    "my_tuple[0] = \"Palpatine\""
   ]
  },
  {
   "cell_type": "markdown",
   "metadata": {},
   "source": [
    "---\n",
    "## VIDENSCHECK\n",
    "\n",
    "Tag et kig på de to nedenstående datastrukturer (`a` og `b`):"
   ]
  },
  {
   "cell_type": "code",
   "execution_count": 77,
   "metadata": {},
   "outputs": [],
   "source": [
    "a = [2, 90, 10, 17]\n",
    "b = (56, 78, 3, -9)"
   ]
  },
  {
   "cell_type": "markdown",
   "metadata": {},
   "source": [
    "*Kan tredje element af `b` (index 2: `3`) ændres til `49` ved at skrive `b[2] = 49`?* \n",
    "\n",
    "{{%expand \"Løsning\" %}} Nej. `b` er en tuple, og værdierne kan derfor ikke ændres. Værdierne i `a` kan dog ændres, da det er en liste. {{%/expand%}}\n",
    "\n",
    "---"
   ]
  },
  {
   "cell_type": "markdown",
   "metadata": {},
   "source": [
    "# {#Afsnit}Dictionaries\n",
    "\n",
    "{{< youtube ZW_chK-cDlM >}}\n",
    "\n",
    "Man kan også lagre flere værdier i Python med *dictionaries*. Dictionaries består af en række sæt af nøgler og værdier. \n",
    "\n",
    "Dictionaries defineres med `{}`:"
   ]
  },
  {
   "cell_type": "code",
   "execution_count": 78,
   "metadata": {},
   "outputs": [],
   "source": [
    "my_dict = {\"jedi\": \"Katarn\", \"sith\": \"Desann\"}"
   ]
  },
  {
   "cell_type": "markdown",
   "metadata": {},
   "source": [
    "Hvert nøgle- og værdisæt defineres med en nøgle i form af en string efterfulgt af værdien efter `:`. Værdien kan være tal, tekst, liste, en anden dictionary osv.\n",
    "\n",
    "De forskellige nøgle- og værdisæt adskilles med `,`.\n",
    "\n",
    "Dictionaries har ikke et index, da Python ikke betragter dem som værende i en bestemt rækkefølge. Værdierne kaldes derfor frem ved at referere til deres nøgle:"
   ]
  },
  {
   "cell_type": "code",
   "execution_count": 79,
   "metadata": {},
   "outputs": [
    {
     "name": "stdout",
     "output_type": "stream",
     "text": [
      "Katarn\n"
     ]
    }
   ],
   "source": [
    "print(my_dict[\"jedi\"])"
   ]
  },
  {
   "cell_type": "markdown",
   "metadata": {},
   "source": [
    "Nøgler *skal* være unikke. Det er ikke muligt at lave en dictionary med to identiske nøgler. Hvis man forsøger at gøre det, vil den senest skrevne værdi til nøglen blive lagret:"
   ]
  },
  {
   "cell_type": "code",
   "execution_count": 80,
   "metadata": {},
   "outputs": [
    {
     "name": "stdout",
     "output_type": "stream",
     "text": [
      "{'jedi': 'Kenobi', 'sith': 'Desann'}\n"
     ]
    }
   ],
   "source": [
    "my_dict = {\"jedi\": \"Katarn\", \"sith\": \"Desann\", \"jedi\": \"Kenobi\"}\n",
    "\n",
    "print(my_dict)"
   ]
  },
  {
   "cell_type": "markdown",
   "metadata": {},
   "source": [
    "Ligeledes kan værdier til en bestemt nøgle overskrives:"
   ]
  },
  {
   "cell_type": "code",
   "execution_count": 81,
   "metadata": {},
   "outputs": [
    {
     "name": "stdout",
     "output_type": "stream",
     "text": [
      "{'jedi': 'Katarn', 'sith': 'Desann'}\n"
     ]
    }
   ],
   "source": [
    "my_dict[\"jedi\"] = \"Katarn\"\n",
    "\n",
    "print(my_dict)"
   ]
  },
  {
   "cell_type": "markdown",
   "metadata": {},
   "source": [
    "Elementer kan tilføjes til en dictionary ved blot at tilknytte det til en nøgle, som endnu ikke er brugt i dictionarien:"
   ]
  },
  {
   "cell_type": "code",
   "execution_count": 82,
   "metadata": {},
   "outputs": [
    {
     "name": "stdout",
     "output_type": "stream",
     "text": [
      "{'jedi': 'Katarn', 'sith': 'Desann', 'dealer': 'Watto'}\n"
     ]
    }
   ],
   "source": [
    "my_dict[\"dealer\"] = \"Watto\"\n",
    "\n",
    "print(my_dict)"
   ]
  },
  {
   "cell_type": "markdown",
   "metadata": {},
   "source": [
    "---\n",
    "## VIDENSCHECK\n",
    "\n",
    "*Kan en dictionary indeholde forskellige typer af værdier?*\n",
    "\n",
    "{{%expand \"Løsning\" %}} Ja. Værdier i en dictionary kan være af alle mulige typer, men nøglen skal altid være en string. {{%/expand%}}\n",
    "\n",
    "---"
   ]
  },
  {
   "cell_type": "markdown",
   "metadata": {},
   "source": [
    "---\n",
    "## VIDENSCHECK\n",
    "\n",
    "Tag et kig på nedenstående dictionary:"
   ]
  },
  {
   "cell_type": "code",
   "execution_count": 83,
   "metadata": {},
   "outputs": [],
   "source": [
    "famous_animals = {\"Pluto\": \"dog\", \"Oggy\": \"cat\", \"Pinky\": \"mouse\", \"Pumba\": \"warthog\"}"
   ]
  },
  {
   "cell_type": "markdown",
   "metadata": {},
   "source": [
    "*Hvordan fremkaldes den 3. værdi (\"mouse\")?*\n",
    "\n",
    "{{%expand \"Løsning\" %}} Den 3. værdi fremkaldes ved at refere til den rigtige nøgle: `famous_animals[\"Pinky\"]`. Python betragter ikke værdien som den 3. værdi, da værdien knyttes op på nøglen og ikke på rækkefølgen, som den er skrevet ind i en dictionary. {{%/expand%}}\n",
    "\n",
    "---"
   ]
  },
  {
   "cell_type": "markdown",
   "metadata": {},
   "source": [
    "# {#Afsnit}Loops\n",
    "\n",
    "{{< youtube mH_EWKqdo88 >}}\n",
    "\n",
    "I arbejdet med dataanalyse udfører man ofte de samme kommandoer, kontroller, kørsler osv. igen og igen:\n",
    "\n",
    "- En række oplysninger kan kontrolleres, om de er korrekte. Har de den rigtige type? Er værdierne gyldige? (fx at aldersværdier ikke har skøre værdier som 987 år).\n",
    "- Den samme beregning skal foretages for en række oplysninger - fx udregning af gennemsnit for indkomst, alder, år i arbejde osv.\n",
    "- De samme oplysninger skal hentes fra en række forskellige kilder (filer, hjemmesider eller andet).\n",
    "\n",
    "I Python (og mange andre programmeringssprog) kan man anvende \"loops\" til at gentage kommandoer. De mest gængse loop typer er \"for loops\" og \"while loops\". \"for loops\" gentager en eller flere kommandoer over en afgrænset mængde værdier. \"while loops\" gentager en kommando, så længe en vis betingelse er opfyldt.\n",
    "\n",
    "Loops kaldes også for kontrolstrukturer i programmeringssprog, da de er med til at sætte rammer og betingelser for, hvad visse kommandoer skal køre på.\n",
    "\n",
    "## For loops\n",
    "\n",
    "I nedenstående dannes tre variable. Det antages, at der er tale om tre forskellige aldersværdier. De tre værdier lagres i listen `ages`."
   ]
  },
  {
   "cell_type": "code",
   "execution_count": 84,
   "metadata": {},
   "outputs": [],
   "source": [
    "age1 = 29\n",
    "age2 = \"41\"\n",
    "age3 = 87\n",
    "\n",
    "ages = [age1, age2, age3]"
   ]
  },
  {
   "cell_type": "markdown",
   "metadata": {},
   "source": [
    "Som tidligere gennemgået i materialet, adskiller Python mellem forskellige variabeltyper. For at Python kan arbejde med tal, skal Python fortælles, at variablen er et tal, hvis ikke Python har gættet det i forvejen. En typisk del af forarbejdet til dataanalyse er, at validere oplysninger på en eller anden måde for at sikre, at data er i gyldige formater og typer.\n",
    "\n",
    "Hver variabel skal altså kontrolleres for, at det er en numerisk type, hvilket kan gøres med `type()`:"
   ]
  },
  {
   "cell_type": "code",
   "execution_count": 85,
   "metadata": {},
   "outputs": [
    {
     "name": "stdout",
     "output_type": "stream",
     "text": [
      "<class 'int'>\n"
     ]
    }
   ],
   "source": [
    "print(type(age1))"
   ]
  },
  {
   "cell_type": "markdown",
   "metadata": {},
   "source": [
    "Skal det gøres for alle variable, skal kommandoen gentages for hver variabel:"
   ]
  },
  {
   "cell_type": "code",
   "execution_count": 86,
   "metadata": {},
   "outputs": [
    {
     "name": "stdout",
     "output_type": "stream",
     "text": [
      "<class 'int'>\n",
      "<class 'str'>\n",
      "<class 'int'>\n"
     ]
    }
   ],
   "source": [
    "print(type(age1))\n",
    "print(type(age2))\n",
    "print(type(age3))"
   ]
  },
  {
   "cell_type": "markdown",
   "metadata": {},
   "source": [
    "Af ovenstående erfares, at `age2` er en string, og derfor skal konverteres, før der kan arbejdes videre med den.\n",
    "\n",
    "At skulle gentage kommandoer ved at skrive dem ud hver gang, bliver dog hurtigt en tidsslugende og meget kedsommelig affære. Alternativt kan et loop bruges til at gøre det samme. \n",
    "\n",
    "Ovenstående kan gøres med et loop på følgende måde (husk at listen `ages` består af værdierne fra variablerne `age1`, `age2` og `age3`):"
   ]
  },
  {
   "cell_type": "code",
   "execution_count": 87,
   "metadata": {},
   "outputs": [
    {
     "name": "stdout",
     "output_type": "stream",
     "text": [
      "<class 'int'>\n",
      "<class 'str'>\n",
      "<class 'int'>\n"
     ]
    }
   ],
   "source": [
    "for age in ages:\n",
    "    print(type(age))"
   ]
  },
  {
   "cell_type": "markdown",
   "metadata": {},
   "source": [
    "**Opbygning af et for loop**\n",
    "\n",
    "Et for loop består overordnet af to dele:\n",
    "- En række værdier, som loopet skal køre over\n",
    "- En eller flere kommandoer, som skal gentages for hver værdi\n",
    "\n",
    "I ovenstående kommando bruges listen `ages` som den række værdier, som loopet skal køre over. `age` er en pladsholder for de enkelte værdier, som er i `ages`. Hver gang loopet gentages, ændrer `age` sig til den næste værdi i `ages`. \n",
    "\n",
    "Pladsholderen `age` bruges i kommandoerne, som skal gentages for hvert loop. Kommandoerne skrives på linjen efter `:`. Her er det vigtigt, at kommandoerne i loopet er rykket ind (enten med tab eller fire mellemrum, men de fleste IDE'er laver dette indryk automatisk).\n",
    "\n",
    "Der kunne have været brugt hvilket som helst navn som pladsholder i stedet for `age`, så længe at pladsholder-navnet ændres i kommandoerne også.\n",
    "\n",
    "Herunder ses et andet for loop, der går igennem hver værdi i `values` og printer værdien ganget med to:"
   ]
  },
  {
   "cell_type": "code",
   "execution_count": 88,
   "metadata": {},
   "outputs": [
    {
     "name": "stdout",
     "output_type": "stream",
     "text": [
      "18\n",
      "20\n",
      "8\n",
      "182\n",
      "54\n"
     ]
    }
   ],
   "source": [
    "values = [9, 10, 4, 91, 27]\n",
    "\n",
    "for value in values:\n",
    "    print(value * 2)"
   ]
  },
  {
   "cell_type": "markdown",
   "metadata": {},
   "source": [
    "Når for loopet sættes i gang, ser Python på værdierne i `values` og tager den første værdi (`9`). `value` er altså lig med `9` i den første kørsel af loopet. Derefter udføres kommandoen, som i dette tilfælde er at printe værdien ganget med to: `print(value * 2)`. `value = 9` i den første kørsel af loopet, så derfor udføres: `print(9 * 2)`, som giver `18`.\n",
    "\n",
    "Når enden af kommandoerne i loopet nås, går Python tilbage til værdierne i `values` og tager den næste værdi (`10`), så `value` er lig med `10` i den næste kørsel: `print(10 * 2)`, som giver `20`. Sådan fortsætter Python, indtil der ikke er flere værdier i listen (eller at der stødes på en eller anden fejl).\n",
    "\n",
    "Bemærk, at en liste ikke behøver at være defineret som variabel, inden den bruges i et loop:"
   ]
  },
  {
   "cell_type": "code",
   "execution_count": 89,
   "metadata": {},
   "outputs": [
    {
     "name": "stdout",
     "output_type": "stream",
     "text": [
      "18\n",
      "20\n",
      "8\n",
      "182\n",
      "54\n"
     ]
    }
   ],
   "source": [
    "for value in [9, 10, 4, 91, 27]:\n",
    "    print(value * 2)"
   ]
  },
  {
   "cell_type": "markdown",
   "metadata": {},
   "source": [
    "---\n",
    "## VIDENSCHECK\n",
    "\n",
    "*Hvornår giver det mening at bruge et for loop?*\n",
    "\n",
    "{{%expand \"Løsning\" %}} Når de samme kommandoer skal gentages for en række værdier.{{%/expand%}}\n",
    "\n",
    "---"
   ]
  },
  {
   "cell_type": "markdown",
   "metadata": {},
   "source": [
    "---\n",
    "## ØVELSE\n",
    "\n",
    "Tidligere i dette materiale er metoder blevet gennemgået. Blandt andet kan man bruge `.upper()` på en tekstværdi, for at få værdien tilbage i blokbogstaver. \n",
    "\n",
    "Tag et kig på denne liste af ord:"
   ]
  },
  {
   "cell_type": "code",
   "execution_count": 90,
   "metadata": {},
   "outputs": [],
   "source": [
    "words = [\"potato\", \"cat\", \"scrumptious\", \"monitor\", \"carpenter\"]"
   ]
  },
  {
   "cell_type": "markdown",
   "metadata": {},
   "source": [
    "*Skriv et for loop, der printer hvert ord i `words` i blokbogstaver.*\n",
    "\n",
    "{{%expand \"Løsning\" %}}"
   ]
  },
  {
   "cell_type": "code",
   "execution_count": 91,
   "metadata": {},
   "outputs": [
    {
     "name": "stdout",
     "output_type": "stream",
     "text": [
      "POTATO\n",
      "CAT\n",
      "SCRUMPTIOUS\n",
      "MONITOR\n",
      "CARPENTER\n"
     ]
    }
   ],
   "source": [
    "for word in words:\n",
    "    print(word.upper())"
   ]
  },
  {
   "cell_type": "markdown",
   "metadata": {},
   "source": [
    "{{%/expand%}}\n",
    "\n",
    "---"
   ]
  },
  {
   "cell_type": "markdown",
   "metadata": {},
   "source": [
    "**Loop over talrækker**\n",
    "\n",
    "Et for loop kan køres på et interval med kommandoen `range()`:"
   ]
  },
  {
   "cell_type": "code",
   "execution_count": 92,
   "metadata": {},
   "outputs": [
    {
     "name": "stdout",
     "output_type": "stream",
     "text": [
      "15\n",
      "16\n",
      "17\n",
      "18\n",
      "19\n",
      "20\n",
      "21\n",
      "22\n",
      "23\n",
      "24\n"
     ]
    }
   ],
   "source": [
    "for x in range(10, 20):\n",
    "    print(x+5)"
   ]
  },
  {
   "cell_type": "markdown",
   "metadata": {},
   "source": [
    "`range()` danner en talrække fra det første tal angivet til tallet *før* det sidste tal angivet ([10:20[).\n",
    "\n",
    "Angives et enkelt tal som argument, antages det, at intervallet skal dannes fra `0` og frem til tallet før tallet angivet:"
   ]
  },
  {
   "cell_type": "code",
   "execution_count": 93,
   "metadata": {},
   "outputs": [
    {
     "name": "stdout",
     "output_type": "stream",
     "text": [
      "0\n",
      "1\n",
      "2\n",
      "3\n",
      "4\n"
     ]
    }
   ],
   "source": [
    "for x in range(5):\n",
    "    print(x)"
   ]
  },
  {
   "cell_type": "markdown",
   "metadata": {},
   "source": [
    "Som standard dannes intervallet med skridt på `1`; altså hver enkelt heltal mellem det første tal og tallet før det sidste tal. Dette kan ændres ved at tilføje et tredje argument for, hvor store \"skridt\", der skal være i intervallet:"
   ]
  },
  {
   "cell_type": "code",
   "execution_count": 94,
   "metadata": {},
   "outputs": [
    {
     "name": "stdout",
     "output_type": "stream",
     "text": [
      "5\n",
      "7\n",
      "9\n"
     ]
    }
   ],
   "source": [
    "for x in range(5, 10, 2):\n",
    "    print(x)"
   ]
  },
  {
   "cell_type": "markdown",
   "metadata": {},
   "source": [
    "## While loops\n",
    "\n",
    "While loops er en anden type loops i Python. Hvor for loops gentager en eller flere kommandoer for hver værdi i en række af værdier, så gentager while loops en eller flere kommandoer, så længe en given betingelse er opfyldt.\n",
    "\n",
    "Herunder ses et eksempel på et simpel while loop:"
   ]
  },
  {
   "cell_type": "code",
   "execution_count": 95,
   "metadata": {},
   "outputs": [
    {
     "name": "stdout",
     "output_type": "stream",
     "text": [
      "loopet kører videre\n",
      "loopet kører videre\n",
      "loopet kører videre\n",
      "loopet kører videre\n"
     ]
    }
   ],
   "source": [
    "x = 1\n",
    "\n",
    "while x < 5:\n",
    "    print(\"loopet kører videre\")\n",
    "    x = x + 1"
   ]
  },
  {
   "cell_type": "markdown",
   "metadata": {},
   "source": [
    "Et while loop består overordnet af to dele:\n",
    "- En betingelse som skal være opfyldt for, at loopet gentages\n",
    "- En eller flere kommandoer, som skal gentages for hvert loop\n",
    "\n",
    "I ovenstående defineres først `x` til at være `1`. Derefter igangsættes et while loop, som skal køre, så længe at `x < 5`. Kommandoerne, som skal køre i loopet, skrives på linjen efter `:`. Her er det igen vigtigt, at kommandoerne i loopet er rykket ind (enten med tab eller fire mellemrum, men de fleste IDE'er laver dette indryk automatisk).\n",
    "\n",
    "Derefter overskrives `x` til at være `x + 1`; altså at værdien af `x` øges med `1`. *Bemærk at hvis denne linje undlades, så bliver loopet ved med at gentage sig, da `x` ikke ændres og derfor bliver ved med at være `1`; altså mindre end `5`, som er betingelsen for, at loopet kører*.\n",
    "\n",
    "{{% notice warning %}} Man skal være forsigtig, når man skriver while loops, da man meget nemt kan komme til at skabe uendelige loops! \n",
    "\n",
    "Uendelige loops sker, hvis ikke den betingelse, som while loopet baseres på, ændres. Uendelige loops skal afbrydes manuelt, men i tilfælde, hvor det, der sker i loopet, er krævende, kan Python ende med at gå helt i stå af at arbejde med loopet, da Python (og computeren) til sidst ikke kan følge med. {{% /notice%}}"
   ]
  },
  {
   "cell_type": "markdown",
   "metadata": {},
   "source": [
    "Herunder ses et andet while loop, der bliver ved, så længe antallet af karakterer i variablen `fruit` ikke overstiger 22:"
   ]
  },
  {
   "cell_type": "code",
   "execution_count": 96,
   "metadata": {},
   "outputs": [
    {
     "name": "stdout",
     "output_type": "stream",
     "text": [
      "the word is banana\n",
      "the word is bananana\n",
      "the word is banananana\n",
      "the word is bananananana\n",
      "the word is banananananana\n",
      "the word is bananananananana\n",
      "the word is banananananananana\n",
      "the word is bananananananananana\n",
      "the word is banananananananananana\n"
     ]
    }
   ],
   "source": [
    "fruit = \"banana\"\n",
    "\n",
    "while len(fruit) <= 22:\n",
    "    print(\"the word is \" + fruit)\n",
    "    fruit = fruit + \"na\""
   ]
  },
  {
   "cell_type": "markdown",
   "metadata": {},
   "source": [
    "{{% notice info %}} Funktionen `len()` har tidligere været brugt til at give antallet af elementer i en liste. Bruges `len()` på en tekstværdi (en string), returneres antallet af karakterer i tekstværdien. {{% /notice%}}"
   ]
  },
  {
   "cell_type": "markdown",
   "metadata": {},
   "source": [
    "Når Python læser linjen med while loopet, starter Python med at evaluere betingelsen: `len(fruit) <= 22`. Hvis denne er `True`, udføres kommandoerne. `fruit` indeholder til at starte med teksten `banana` og har en længde på 6 bogstaver; altså mindre end 22, så kommandoerne udføres. \n",
    "\n",
    "Første kommando er at printe teksten `\"the word is \" + fruit` (husk at tekststykker kan sættes sammen med `+`). Da `fruit` i den første kørsel indeholder `banana` bliver teksten `the word is banana`. \n",
    "\n",
    "Dernæst ændres `fruit` til at få tilføjet teksten `na`, så `fruit` nu indeholder `bananana`. \n",
    "\n",
    "Loopet starter herefter forfra, og betingelsen evalueres igen. Nu indeholder `fruit` teksten `bananana` med en længde på 8 bogstaver; altså stadig mindre end 22, hvorfor kommandoerne igen udføres. Da `fruit` nu indeholder `bananana` printes teksten `the word is bananana`. "
   ]
  },
  {
   "cell_type": "markdown",
   "metadata": {},
   "source": [
    "**Brug af while loops**\n",
    "\n",
    "Det kan måske virke svært at se, hvad while loops kan bruges til. De bruges meget i programmering i det hele taget, men finder sjældent anvendelse i analysearbejde. \n",
    "\n",
    "Arbejder man med web scraping (indsamling af data fra nettet), kan while loops være brugbare. En teknik i web scraping er fx at sætte \"crawlers\" op. En crawler fungerer kort sagt ved at gå fra hjemmeside til hjemmeside ud fra de links, som der findes på siden. Her kan et while loop bruges til at begrænse, hvor langt crawleren skal gå; fx ved at sætte den til at stoppe efter et vis antal sider er indsamlet eller sætte den til at stoppe, hvis crawleren bevæger sig ud fra et eller andet hoveddomæne. \n",
    "\n",
    "Hvis man fx gerne vil indsamle tekster og artikler fra EU's hjemmeside (https://europa.eu/), kan man bruge et while loop til at fortsætte indsamlingen, så længe siden befinder sig under domænet https://europa.eu/. "
   ]
  },
  {
   "cell_type": "markdown",
   "metadata": {},
   "source": [
    "---\n",
    "## ØVELSE\n",
    "\n",
    "Bør nedenstående while loop køres?:"
   ]
  },
  {
   "cell_type": "markdown",
   "metadata": {},
   "source": [
    "```python\n",
    "y = 10\n",
    "\n",
    "while y > 5:\n",
    "    print(\"the value is \" + str(y))\n",
    "```"
   ]
  },
  {
   "cell_type": "markdown",
   "metadata": {},
   "source": [
    "{{%expand \"Løsning\" %}}Nej. Det er et uendeligt loop. `y` ændres ikke og betingelsen for while loopet bliver derfor ved med at være sand. {{%/expand%}}\n",
    "\n",
    "---"
   ]
  },
  {
   "cell_type": "markdown",
   "metadata": {},
   "source": [
    "# {#Afsnit}If-betingelser\n",
    "\n",
    "{{< youtube zaJBdItYYPs >}}\n",
    "\n",
    "Når man arbejder med Python, kan det ofte være brugbart at sætte if-betingelser i sin kode. If-betingelser er kodestumper, hvor visse kommandoer kun udføres, hvis en betingelse er opfyldt:\n"
   ]
  },
  {
   "cell_type": "code",
   "execution_count": 97,
   "metadata": {},
   "outputs": [
    {
     "name": "stdout",
     "output_type": "stream",
     "text": [
      "Tallet er større end 10!\n"
     ]
    }
   ],
   "source": [
    "x = 12\n",
    "\n",
    "if x > 10:\n",
    "    print(\"Tallet er større end 10!\")\n",
    "else:\n",
    "    print(\"Tallet er ikke større end 10!\")"
   ]
  },
  {
   "cell_type": "markdown",
   "metadata": {},
   "source": [
    "Ovenstående kode består af to blokke: en if-blok og en else-blok. \n",
    "\n",
    "I koden evalueres først if-betingelsen: `x > 10`. Hvis denne evalueres til `True`, udføres kommandoen efter `:`. I ovenstående er `x = 12`, hvorfor kommandoen udføres. Her er kommandoen blot at printe teksten `Tallet er større end 10!`.\n",
    "\n",
    "Herunder ses hvad der sker med samme kode, hvis x er mindre end 10:"
   ]
  },
  {
   "cell_type": "code",
   "execution_count": 98,
   "metadata": {},
   "outputs": [
    {
     "name": "stdout",
     "output_type": "stream",
     "text": [
      "Tallet er ikke større end 10!\n"
     ]
    }
   ],
   "source": [
    "x = 8\n",
    "\n",
    "if x > 10:\n",
    "    print(\"Tallet er større end 10!\")\n",
    "else:\n",
    "    print(\"Tallet er ikke større end 10!\")"
   ]
  },
  {
   "cell_type": "markdown",
   "metadata": {},
   "source": [
    "I ovenstående er `x = 8`. Derfor evaluerer betingelsen denne gang til `False`, og kommandoen lige efter if-betingelsen udføres ikke. I stedet springes videre til else-blokken, hvor kommandoen er at printe teksten `Tallet er ikke større end 10!`.\n",
    "\n",
    "Else-blokken udløses i alle tilfælde, hvor if-betingelsen ikke er opfyldt. En else-blok er ikke nødvendig. Udelades den, sker der blot ingenting, hvis if-betingelsen ikke er opfyldt:"
   ]
  },
  {
   "cell_type": "code",
   "execution_count": 99,
   "metadata": {},
   "outputs": [],
   "source": [
    "x = 8\n",
    "\n",
    "if x > 10:\n",
    "    print(\"Tallet er større end 10!\")"
   ]
  },
  {
   "cell_type": "markdown",
   "metadata": {},
   "source": [
    "**Flere if-betingelser**\n",
    "\n",
    "Det er muligt at udvide med flere betingelser med `elif` (\"else if\"). `elif` fungerer ved, at hvis if-betingelsen ikke er opfyldt, så evalueres den første `elif`. Sådan kører Python videre indtil, at der findes en betingelse, der evaluerer til sand, eller der nås en else-blok. "
   ]
  },
  {
   "cell_type": "code",
   "execution_count": 100,
   "metadata": {},
   "outputs": [
    {
     "name": "stdout",
     "output_type": "stream",
     "text": [
      "Tallet er større end 5!\n"
     ]
    }
   ],
   "source": [
    "x = 7\n",
    "\n",
    "if x > 10:\n",
    "    print(\"Tallet er større end 10!\")\n",
    "elif x > 5:\n",
    "    print(\"Tallet er større end 5!\")\n",
    "else:\n",
    "    print(\"Tallet er ikke større end 5!\")"
   ]
  },
  {
   "cell_type": "markdown",
   "metadata": {},
   "source": [
    "---\n",
    "## ØVELSE\n",
    "\n",
    "Tag et kig på nedenstående kode:"
   ]
  },
  {
   "cell_type": "code",
   "execution_count": 101,
   "metadata": {},
   "outputs": [],
   "source": [
    "master = \"Obi-Wan Kenobi\"\n",
    "\n",
    "if master == \"Luke Skywalker\":\n",
    "    apprentice = \"Ben Solo\"\n",
    "elif master == \"Qui-Gon Jinn\":\n",
    "    apprentice = \"Obi-Wan Kenobi\"\n",
    "elif master == \"Obi-Wan Kenobi\":\n",
    "    apprentice = \"Anakin Skywalker\"\n",
    "elif master == \"Yoda\":\n",
    "    apprentice = \"Mace Windu\"\n",
    "else:\n",
    "    apprentice = \"Ingen\""
   ]
  },
  {
   "cell_type": "markdown",
   "metadata": {},
   "source": [
    "*Hvad indeholder variablen `apprentice`, når koden er kørt? (se om du kan løse det uden at køre koden)*\n",
    "\n",
    "{{%expand \"Løsning\" %}}Variablen indeholder \"Anakin Skywalker\", da det er sætningen `master = \"Obi-Wan Kenobi\"`, som er sand.{{%/expand%}}\n",
    "\n",
    "---"
   ]
  },
  {
   "cell_type": "markdown",
   "metadata": {},
   "source": [
    "## If-betingelser og for loops\n",
    "\n",
    "If-betingelser er yderst nyttige i kombination med andre kontrolstrukturer. Fx kan man i kombinationen med for loops og if-betingelser skrive kode, hvor en kommando kun udføres på visse værdier i en liste:"
   ]
  },
  {
   "cell_type": "code",
   "execution_count": 102,
   "metadata": {},
   "outputs": [
    {
     "name": "stdout",
     "output_type": "stream",
     "text": [
      "1 kan ikke divideres med 3!\n",
      "2 kan ikke divideres med 3!\n",
      "3 kan divideres med 3!\n",
      "4 kan ikke divideres med 3!\n",
      "5 kan ikke divideres med 3!\n",
      "6 kan divideres med 3!\n",
      "7 kan ikke divideres med 3!\n",
      "8 kan ikke divideres med 3!\n",
      "9 kan divideres med 3!\n"
     ]
    }
   ],
   "source": [
    "values = range(1, 10)\n",
    "\n",
    "for value in values:\n",
    "    if value % 3 == 0:\n",
    "        print(str(value) + \" kan divideres med 3!\")\n",
    "    else:\n",
    "        print(str(value) + \" kan ikke divideres med 3!\")"
   ]
  },
  {
   "cell_type": "markdown",
   "metadata": {},
   "source": [
    "I ovenstående ses et for loop, der kører over værdierne 1 til 9 (`range(1, 10)`). Hver værdi tjekkes om det kan divideres med 3 (`value % 3 == 0`). Hvis den kan det, printes at det kan divideres med 3. Hvis ikke, printes teksten, at det ikke kan divideres med 3."
   ]
  },
  {
   "cell_type": "markdown",
   "metadata": {},
   "source": [
    "{{% notice note %}}Husk at `%` bruges til at returnere den rest, der er tilbage efter heltalsdivision. `7 % 3` giver fx 1, da 7 kan divideres med 3 to hele gange, hvorefter der er 1 tilbage.{{% /notice%}}"
   ]
  },
  {
   "cell_type": "markdown",
   "metadata": {},
   "source": [
    "## If-betingelser og funktioner\n",
    "\n",
    "Funktioner kan skrives med if-betingelser. På den måde kan man skrive funktioner sådan, at det, der returneres, varierer afhængigt af, hvad det er for et input:"
   ]
  },
  {
   "cell_type": "code",
   "execution_count": 103,
   "metadata": {},
   "outputs": [
    {
     "name": "stdout",
     "output_type": "stream",
     "text": [
      "jedi\n",
      "sith\n"
     ]
    }
   ],
   "source": [
    "jedis = [\"Kenobi\", \"Yoda\", \"Windu\", \"Ki-Adi-Mundi\", \"Koon\", \"Skywalker\", \"Katarn\"]\n",
    "siths = [\"Sidious\", \"Desann\", \"Tyrannus\", \"Revan\", \"Maul\", \"Vader\", \"Plagueis\"]\n",
    "\n",
    "def jedi_checker(name):\n",
    "    if name in jedis:\n",
    "        return \"jedi\"\n",
    "    elif name in siths:\n",
    "        return \"sith\"\n",
    "    else:\n",
    "        return \"neither jedi nor sith\"\n",
    "    \n",
    "print(jedi_checker(\"Windu\"))\n",
    "print(jedi_checker(\"Revan\"))"
   ]
  },
  {
   "cell_type": "markdown",
   "metadata": {},
   "source": [
    "{{% notice note %}}Bemærk at ovenstående funktion er meget begrænset, da den kun baserer sig på en begrænset mængde navne og kun accepterer, at navnet er stavet på en helt bestemt måde.{{% /notice%}}"
   ]
  },
  {
   "cell_type": "markdown",
   "metadata": {},
   "source": [
    "---\n",
    "## ØVELSE\n",
    "\n",
    "*Skriv et stykke kode, der går igennem hvert ord i listen `words` og printer ordet i blokbogstaver, hvis ordet er mere end 6 bogstaver langt. Ellers skal der ikke ske noget.*"
   ]
  },
  {
   "cell_type": "code",
   "execution_count": 104,
   "metadata": {},
   "outputs": [],
   "source": [
    "words = [\"potato\", \"cat\", \"scrumptious\", \"monitor\", \"carpenter\"]"
   ]
  },
  {
   "cell_type": "markdown",
   "metadata": {},
   "source": [
    "{{%expand \"Løsning\" %}}"
   ]
  },
  {
   "cell_type": "code",
   "execution_count": 105,
   "metadata": {},
   "outputs": [
    {
     "name": "stdout",
     "output_type": "stream",
     "text": [
      "SCRUMPTIOUS\n",
      "MONITOR\n",
      "CARPENTER\n"
     ]
    }
   ],
   "source": [
    "for word in words:\n",
    "    if len(word) > 6:\n",
    "        print(word.upper())"
   ]
  },
  {
   "cell_type": "markdown",
   "metadata": {},
   "source": [
    "{{%/expand%}}\n",
    "\n",
    "---"
   ]
  },
  {
   "cell_type": "markdown",
   "metadata": {},
   "source": [
    "# {#Kapitel}Supplerende materiale\n",
    "\n",
    "De følgende sider indeholder diverse materiale til at hjælpe videre med Python."
   ]
  },
  {
   "cell_type": "markdown",
   "metadata": {},
   "source": [
    "# {#Afsnit}Python IDE'er\n",
    "\n",
    "Der findes mange måder at arbejde med Python. Her er blot tre forslag til IDE'er (\"Integrated development environment\").\n",
    "\n",
    "---\n",
    "\n",
    "\n",
    "**Jupyter Notebook**\n",
    "Med Jupyter Notebook arbejder man med Python i celler. Det egner sig især til kortere kodestykker, hvor der skal kommenteres undervejs. Det er muligt at kombinere Python kode med normale tekstceller. \n",
    "\n",
    "Jupyter Notebook tillader både en meget interaktiv måde at arbejde med Python samt nemme løsninger til at lave samlede rapporter og dokumenter, hvor kode, beskrivelse og output kombineres.\n",
    "\n",
    "Læs mere om Jupyter Notebook her: https://jupyter.org/\n",
    "\n",
    "Jupyter Notebook kan installeres sammen med Anaconda: https://www.anaconda.com/products/individual#Downloads\n",
    "\n",
    "---\n",
    "\n",
    "**Jupyter Lab**\n",
    "Jupyter Lab er en videreudvikling af Jupyter Notebook. Jupyter Lab er en samlet platform, der giver bedre overblik over forskellige filer og dokumenter, som man har liggende i sin arbejdssti. \n",
    "\n",
    "Læs mere om Jupyter Lab her: https://jupyter.org/\n",
    "\n",
    "---\n",
    "\n",
    "**Spyder**\n",
    "Spyder er baseret på en script-editor, hvor ens kode skrives i et langt stykke tekst. Det kan være lidt mere avanceret at arbejde med, men til gengæld har Spyder en del funktionalitet, der hjælper med at holde styr på ens data, variable, funktioner osv.\n",
    "\n",
    "Læs mere om Spyder her: https://www.spyder-ide.org/\n",
    "\n",
    "Spyder kan installeres sammen med Anaconda: https://www.anaconda.com/products/individual#Downloads\n",
    "\n",
    "---"
   ]
  },
  {
   "cell_type": "markdown",
   "metadata": {},
   "source": [
    "# {#Afsnit}Serverløsninger til Python\n",
    "\n",
    "Der findes adskillige online løsninger til at arbejde med Python. På den måde slipper man for selv at skulle sætte det op, og man vil ofte have mere computerkraft til rådighed, end man har på sin egen computer.\n",
    "\n",
    "---\n",
    "\n",
    "**Google Colab**\n",
    "\n",
    "Google Colab fungerer ligesom en online version af Jupyter Notebook. Her kan man skrive notebooks, som man gør i Jupyter Notebook, men køre dem over Google's servere. Det kræver en Google konto for at bruge.\n",
    "\n",
    "Læs mere her: https://colab.research.google.com/notebooks/intro.ipynb (i øvrigt en fin introduktion til at arbejde med notebooks også).\n",
    "\n",
    "---\n"
   ]
  },
  {
   "cell_type": "markdown",
   "metadata": {},
   "source": [
    "# {#Afsnit}Litteratur og yderligere materiale\n",
    "\n",
    "Her ses forslag til steder, hvor du kan lære mere om basal brug af Python.\n",
    "\n",
    "\n",
    "## Online kurser\n",
    "\n",
    "- \"Python for Everybody\" af Charles R. Severance: https://www.py4e.com/\n",
    "- \"Data Analysis and Visualization with Python for Social Scientists *alpha*\" af DataCarpentry: https://datacarpentry.org/python-socialsci/\n",
    "- \"Python Tutorial\" af Tutorialspoint: https://www.tutorialspoint.com/python/index.htm\n",
    "- \"Introduction to Python\" af DataCamp: https://www.datacamp.com/courses/intro-to-python-for-data-science (betalingsside, men første del er gratis)"
   ]
  },
  {
   "cell_type": "markdown",
   "metadata": {},
   "source": [
    "# {#END}"
   ]
  }
 ],
 "metadata": {
  "celltoolbar": "Slideshow",
  "kernelspec": {
   "display_name": "Python 3",
   "language": "python",
   "name": "python3"
  },
  "language_info": {
   "codemirror_mode": {
    "name": "ipython",
    "version": 3
   },
   "file_extension": ".py",
   "mimetype": "text/x-python",
   "name": "python",
   "nbconvert_exporter": "python",
   "pygments_lexer": "ipython3",
   "version": "3.7.9"
  }
 },
 "nbformat": 4,
 "nbformat_minor": 4
}
