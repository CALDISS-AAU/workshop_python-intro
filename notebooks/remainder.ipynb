{
 "cells": [
  {
   "cell_type": "markdown",
   "metadata": {},
   "source": [
    "**Learning objectives:**\n",
    "- Understanding basic Python programming concepts: variables, assignment, evaluation\n",
    "- Assign and manipulate variables\n",
    "- Working with variable of different types: numeric, character and booleans\n",
    "- Manipulating and creating variables using functions\n",
    "- Using and manipulating the content of basic Python storage types: lists, dictionaries, tuples\n",
    "- Using basic control structures: for/while loops and if-else statements\n",
    "- Importing and using packages\n",
    "- Importing and inspecting a tabular data set\n",
    "\n",
    "**Evidence/evaluation types**\n",
    "- Knowledge checks: what does \"evaluation\" mean in programming?\n",
    "- Performing simple arithmetic operations\n",
    "- Able to assign a variable\n",
    "- Able to distnguish between types\n",
    "- Able to assign a varable using a function\n",
    "- Able to assign values to a list or dictionary\n",
    "- Knowledge checks: what type is a variable after being manipulated using a function?\n",
    "- Able to have commands be evaluated only when a condition is met\n",
    "- Knowledge check: will a command be evaluated or not? (based on visual inspection of code)\n",
    "- Able to repeat commands using a for loop\n",
    "- Able to import a package\n",
    "- Able to import a tabular data set from a URL"
   ]
  },
  {
   "cell_type": "markdown",
   "metadata": {
    "slideshow": {
     "slide_type": "slide"
    }
   },
   "source": [
    "# Working with table data: Pandas\n",
    "\n",
    "*Pandas* is a module that allows you to create dataframes in python: A spreadsheet-like data structure for data with rows and columns.\n",
    "\n",
    "The pandas modules contain a lot of instruments and methods for data handling and processing.\n",
    "\n",
    "A `DataFrame` is a type. An important subtype is a `series`: A one-dimensional datastructure with an index (like a type-specific list or a variable, as it is understood in statistics)."
   ]
  },
  {
   "cell_type": "code",
   "execution_count": null,
   "metadata": {
    "slideshow": {
     "slide_type": "-"
    }
   },
   "outputs": [],
   "source": [
    "import pandas as pd"
   ]
  },
  {
   "cell_type": "markdown",
   "metadata": {
    "slideshow": {
     "slide_type": "slide"
    }
   },
   "source": [
    "# Pandas Series\n",
    "* One dimensional data\n",
    "* Data is labeled with a index\n",
    "* Series consist of pairs (index, data)"
   ]
  },
  {
   "cell_type": "code",
   "execution_count": null,
   "metadata": {
    "slideshow": {
     "slide_type": "fragment"
    }
   },
   "outputs": [],
   "source": [
    "a = pd.Series([4, 2, 7, 8, 4, 4])\n",
    "print(a)"
   ]
  },
  {
   "cell_type": "code",
   "execution_count": null,
   "metadata": {
    "slideshow": {
     "slide_type": "fragment"
    }
   },
   "outputs": [],
   "source": [
    "print(a*2 + 4)"
   ]
  },
  {
   "cell_type": "markdown",
   "metadata": {
    "slideshow": {
     "slide_type": "slide"
    }
   },
   "source": [
    "A wide range of operations can be performed on series (like variables in any other statistics software)."
   ]
  },
  {
   "cell_type": "code",
   "execution_count": null,
   "metadata": {
    "slideshow": {
     "slide_type": "fragment"
    }
   },
   "outputs": [],
   "source": [
    "print(a.unique())"
   ]
  },
  {
   "cell_type": "code",
   "execution_count": null,
   "metadata": {
    "slideshow": {
     "slide_type": "fragment"
    }
   },
   "outputs": [],
   "source": [
    "print(a.isin([2, 4]))"
   ]
  },
  {
   "cell_type": "markdown",
   "metadata": {
    "slideshow": {
     "slide_type": "slide"
    }
   },
   "source": [
    "# EXERCISE 3: Lists and Series\n",
    "1. Create a list containing the numbers: 5, 13, 26, 42, 101\n",
    "2. Try multiplying the list by 4 - What happens?\n",
    "3. Create a panda series containing the same numbers (Note: you can create a panda series from a list)\n",
    "4. Try multiplying the panda series by 4 - What happens?\n",
    "5. Check if the number 20 is in your series using the `.isin()` method. (*NOTE:* `isin()` requires a list as input)."
   ]
  },
  {
   "cell_type": "code",
   "execution_count": null,
   "metadata": {
    "slideshow": {
     "slide_type": "subslide"
    }
   },
   "outputs": [],
   "source": [
    "my_list = [5, 13, 26, 42, 101] #Creating the list\n",
    "my_list * 4 #Multiplying by 4"
   ]
  },
  {
   "cell_type": "code",
   "execution_count": null,
   "metadata": {
    "slideshow": {
     "slide_type": "subslide"
    }
   },
   "outputs": [],
   "source": [
    "my_series = pd.Series(my_list) #Converting to series\n",
    "my_series * 4 #Multiplying by 4"
   ]
  },
  {
   "cell_type": "code",
   "execution_count": null,
   "metadata": {
    "slideshow": {
     "slide_type": "fragment"
    }
   },
   "outputs": [],
   "source": [
    "my_series.isin([13]) #Does the series contain the number 13"
   ]
  },
  {
   "cell_type": "markdown",
   "metadata": {
    "slideshow": {
     "slide_type": "slide"
    }
   },
   "source": [
    "# Pandas DataFrames\n",
    "* Two dimensional data (rows and columns)\n",
    "* Data is labelled with an index and a column name\n",
    "\n",
    "With the pandas module, various files can be imported directly as dataframes (also from the web).\n",
    "\n",
    "We are working with a subset of the danish section of the 2014 European Social Survey: http://www.europeansocialsurvey.org/"
   ]
  },
  {
   "cell_type": "code",
   "execution_count": null,
   "metadata": {
    "slideshow": {
     "slide_type": "fragment"
    }
   },
   "outputs": [],
   "source": [
    "import pandas as pd\n",
    "\n",
    "ess = pd.read_csv('https://github.com/CALDISS-AAU/workshop_python-intro/raw/master/data/ESS2014DK_subset.csv')\n",
    "#ess = pd.read_csv('./data/ESS2014DK_subset.csv')"
   ]
  },
  {
   "cell_type": "markdown",
   "metadata": {
    "slideshow": {
     "slide_type": "-"
    }
   },
   "source": [
    "*Load the Iris dataset into your own environment now*"
   ]
  },
  {
   "cell_type": "markdown",
   "metadata": {
    "slideshow": {
     "slide_type": "slide"
    }
   },
   "source": [
    "## Inspecting DataFrames\n",
    "\n",
    "Use the method `.head()` to inspect the first 5 rows of the data."
   ]
  },
  {
   "cell_type": "code",
   "execution_count": null,
   "metadata": {
    "slideshow": {
     "slide_type": "fragment"
    }
   },
   "outputs": [],
   "source": [
    "ess.head()"
   ]
  },
  {
   "cell_type": "markdown",
   "metadata": {
    "slideshow": {
     "slide_type": "fragment"
    }
   },
   "source": [
    "Inspect column names with method .columns"
   ]
  },
  {
   "cell_type": "code",
   "execution_count": null,
   "metadata": {
    "slideshow": {
     "slide_type": "fragment"
    }
   },
   "outputs": [],
   "source": [
    "list(ess.columns)"
   ]
  },
  {
   "cell_type": "markdown",
   "metadata": {
    "slideshow": {
     "slide_type": "slide"
    }
   },
   "source": [
    "See key summary statistics using `.descibe()`. (n, mean, std, min, max, quartiles)."
   ]
  },
  {
   "cell_type": "code",
   "execution_count": null,
   "metadata": {
    "slideshow": {
     "slide_type": "fragment"
    }
   },
   "outputs": [],
   "source": [
    "ess.describe()"
   ]
  },
  {
   "cell_type": "markdown",
   "metadata": {
    "slideshow": {
     "slide_type": "slide"
    }
   },
   "source": [
    "## Slicing rows and selecting columns\n",
    "\n",
    "Selecting rows is refered to as *slicing*. Rows can be selected by their index using `[]`. It excludes the last index.\n",
    "\n",
    "Columns can be selected the same way by refering to the column name."
   ]
  },
  {
   "cell_type": "code",
   "execution_count": null,
   "metadata": {
    "slideshow": {
     "slide_type": "fragment"
    }
   },
   "outputs": [],
   "source": [
    "ess[0:1] # First row"
   ]
  },
  {
   "cell_type": "code",
   "execution_count": null,
   "metadata": {
    "slideshow": {
     "slide_type": "fragment"
    }
   },
   "outputs": [],
   "source": [
    "ess['alcfreq'] # Selecting alcfreq column."
   ]
  },
  {
   "cell_type": "markdown",
   "metadata": {
    "slideshow": {
     "slide_type": "slide"
    }
   },
   "source": [
    "The method `.loc[]` is used for subsetting the data. First rows, then columns. Columns have to be specified by their name.\n",
    "\n",
    "Several columns can be selected by refering to a list of column names.\n",
    "\n",
    "Unlike the \"standard\" indexing/slicing, using `.loc[]` includes the last index.\n",
    "\n",
    "*NOTE*: `.loc[]` is also used for recoding specific values."
   ]
  },
  {
   "cell_type": "code",
   "execution_count": null,
   "metadata": {
    "slideshow": {
     "slide_type": "fragment"
    }
   },
   "outputs": [],
   "source": [
    "ess.loc[2:4, 'alcfreq'] # Returns as a series"
   ]
  },
  {
   "cell_type": "code",
   "execution_count": null,
   "metadata": {
    "slideshow": {
     "slide_type": "fragment"
    }
   },
   "outputs": [],
   "source": [
    "ess.loc[2:4, ['alcfreq', 'yrbrn']] # Returns as a dataframe"
   ]
  },
  {
   "cell_type": "code",
   "execution_count": null,
   "metadata": {
    "slideshow": {
     "slide_type": "subslide"
    }
   },
   "outputs": [],
   "source": [
    "ess[2:4][['alcfreq', 'yrbrn']] # Alternative - excludes last index"
   ]
  },
  {
   "cell_type": "markdown",
   "metadata": {
    "slideshow": {
     "slide_type": "slide"
    }
   },
   "source": [
    "## Operations on dataframes\n",
    "Operations can be performed on DataFrame series much like on lists.\n",
    "\n",
    "Operations on DataFrames series are not restricted to pandas functions!"
   ]
  },
  {
   "cell_type": "code",
   "execution_count": null,
   "metadata": {
    "slideshow": {
     "slide_type": "fragment"
    }
   },
   "outputs": [],
   "source": [
    "(ess['height'] / 100).head() #converting to meters - first 5 rows"
   ]
  },
  {
   "cell_type": "code",
   "execution_count": null,
   "metadata": {
    "slideshow": {
     "slide_type": "fragment"
    }
   },
   "outputs": [],
   "source": [
    "ess['height'].mean()"
   ]
  },
  {
   "cell_type": "markdown",
   "metadata": {
    "slideshow": {
     "slide_type": "subslide"
    }
   },
   "source": [
    "The type of a dataframe column (series) can be inspected using the attribute `dtypes`."
   ]
  },
  {
   "cell_type": "code",
   "execution_count": null,
   "metadata": {
    "slideshow": {
     "slide_type": "fragment"
    }
   },
   "outputs": [],
   "source": [
    "ess['height'].dtypes"
   ]
  },
  {
   "cell_type": "markdown",
   "metadata": {
    "slideshow": {
     "slide_type": "slide"
    }
   },
   "source": [
    "## Creating variables\n",
    "\n",
    "Variables are created by refering to columns not yet in the dataframe."
   ]
  },
  {
   "cell_type": "code",
   "execution_count": null,
   "metadata": {
    "slideshow": {
     "slide_type": "fragment"
    }
   },
   "outputs": [],
   "source": [
    "ess['height_m'] = ess['height'] / 100"
   ]
  },
  {
   "cell_type": "code",
   "execution_count": null,
   "metadata": {
    "slideshow": {
     "slide_type": "fragment"
    }
   },
   "outputs": [],
   "source": [
    "list(ess.columns)"
   ]
  },
  {
   "cell_type": "markdown",
   "metadata": {
    "slideshow": {
     "slide_type": "slide"
    }
   },
   "source": [
    "Empty variables/columns are created the same way but by filling them with missing values (NaN).\n",
    "\n",
    "The `numpy` module allows us to work with the NaN value."
   ]
  },
  {
   "cell_type": "code",
   "execution_count": null,
   "metadata": {
    "slideshow": {
     "slide_type": "fragment"
    }
   },
   "outputs": [],
   "source": [
    "import numpy as np\n",
    "\n",
    "ess['height_category'] = np.nan\n",
    "ess.head()"
   ]
  },
  {
   "cell_type": "markdown",
   "metadata": {
    "slideshow": {
     "slide_type": "subslide"
    }
   },
   "source": [
    "### NaN: \"Not a Number\"\n",
    "\n",
    "`NaN` is the python equivalent of missing.\n",
    "\n",
    "Notice that python does not treat NaN-values as larger or smaller than zero. NaN-values do not have a value. We therefore need to use specific methods to refer to them (like `isnull()`)."
   ]
  },
  {
   "cell_type": "code",
   "execution_count": null,
   "metadata": {
    "slideshow": {
     "slide_type": "fragment"
    }
   },
   "outputs": [],
   "source": [
    "print(\n",
    "    ess.loc[2, 'height_category'] < 0,\n",
    "    ess.loc[2, 'height_category'] > 0,\n",
    "    ess.loc[2, 'height_category'] == 0\n",
    ")"
   ]
  },
  {
   "cell_type": "code",
   "execution_count": null,
   "metadata": {
    "slideshow": {
     "slide_type": "fragment"
    }
   },
   "outputs": [],
   "source": [
    "ess[2:3]['height_category'].isnull()"
   ]
  },
  {
   "cell_type": "markdown",
   "metadata": {
    "slideshow": {
     "slide_type": "slide"
    }
   },
   "source": [
    "## Recoding variables\n",
    "\n",
    "The standard way of recoding is by using booleans."
   ]
  },
  {
   "cell_type": "code",
   "execution_count": null,
   "metadata": {},
   "outputs": [],
   "source": [
    "mean_height = ess['height'].mean()"
   ]
  },
  {
   "cell_type": "code",
   "execution_count": null,
   "metadata": {
    "slideshow": {
     "slide_type": "fragment"
    }
   },
   "outputs": [],
   "source": [
    "ess.loc[(ess['height'] <= mean_height), 'height_category'] = \"short\"\n",
    "ess.loc[(ess['height'] > mean_height), 'height_category'] = \"tall\"\n",
    "ess.head()"
   ]
  },
  {
   "cell_type": "markdown",
   "metadata": {
    "slideshow": {
     "slide_type": "slide"
    }
   },
   "source": [
    "# EXERCISE 4: DataFrames\n",
    "\n",
    "1. Create a new variable/column called `bmi` containing the bmi of the respondents.\n",
    "    - BMI = kg/m<sup>2</sup> (power of 2 in python is written with `**2`)\n",
    "2. What is the lowest bmi? Use either `.describe` or `.min`\n",
    "\n",
    "## Bonus exercise\n",
    "\n",
    "- Using `.loc` and `.min()`, can you determine how many cigarettes (`cgtsday`) the person with the lowest bmi smokes per day? (think in booleans)"
   ]
  },
  {
   "cell_type": "code",
   "execution_count": null,
   "metadata": {
    "slideshow": {
     "slide_type": "subslide"
    }
   },
   "outputs": [],
   "source": [
    "ess['bmi'] = ess['weight'] * (ess['height']/100)**2 #Variable for bmi\n",
    "\n",
    "ess['bmi'].min() #smallet bmi"
   ]
  },
  {
   "cell_type": "code",
   "execution_count": null,
   "metadata": {
    "slideshow": {
     "slide_type": "fragment"
    }
   },
   "outputs": [],
   "source": [
    "ess.loc[ess['bmi'] == ess['bmi'].min(), 'cgtsday'] #Determine number of cigarettes per day"
   ]
  },
  {
   "cell_type": "markdown",
   "metadata": {
    "slideshow": {
     "slide_type": "slide"
    }
   },
   "source": [
    "# Writing and reading data\n",
    "Pandas supports exporting DataFrames as various files, including:\n",
    "\n",
    "* .csv (comma-separated values)\n",
    "* .xlsx (excel)\n",
    "* .dta (Stata)"
   ]
  },
  {
   "cell_type": "markdown",
   "metadata": {
    "slideshow": {
     "slide_type": "fragment"
    }
   },
   "source": [
    "## Exporting data with pandas\n",
    "\n",
    "Files are created using the methods `to_csv()`, `to_excel` and `to_stata` respectively."
   ]
  },
  {
   "cell_type": "code",
   "execution_count": null,
   "metadata": {
    "slideshow": {
     "slide_type": "fragment"
    }
   },
   "outputs": [],
   "source": [
    "ess.to_csv('my_ess.csv')\n",
    "ess.to_stata('my_ess.dta')"
   ]
  },
  {
   "cell_type": "markdown",
   "metadata": {
    "slideshow": {
     "slide_type": "slide"
    }
   },
   "source": [
    "## Reading a simple csv file\n",
    "The method `.read_csv` can be used to read a .csv-file as a dataframe.\n",
    "\n",
    "Note that unless you specify an index, one will be automatically generated."
   ]
  },
  {
   "cell_type": "code",
   "execution_count": null,
   "metadata": {
    "slideshow": {
     "slide_type": "fragment"
    }
   },
   "outputs": [],
   "source": [
    "ess_new = pd.read_csv('my_ess.csv', index_col=0) \n",
    "ess_new.head()"
   ]
  },
  {
   "cell_type": "markdown",
   "metadata": {
    "slideshow": {
     "slide_type": "slide"
    }
   },
   "source": [
    "# EXERCISE 5: WRITE AND READ DATA\n",
    "\n",
    "1. Save your ess data as a .csv\n",
    "2. Read your data file as a dataframe - does it look right?"
   ]
  },
  {
   "cell_type": "code",
   "execution_count": null,
   "metadata": {},
   "outputs": [],
   "source": []
  }
 ],
 "metadata": {
  "kernelspec": {
   "display_name": "Python 3",
   "language": "python",
   "name": "python3"
  },
  "language_info": {
   "codemirror_mode": {
    "name": "ipython",
    "version": 3
   },
   "file_extension": ".py",
   "mimetype": "text/x-python",
   "name": "python",
   "nbconvert_exporter": "python",
   "pygments_lexer": "ipython3",
   "version": "3.7.4"
  }
 },
 "nbformat": 4,
 "nbformat_minor": 2
}
