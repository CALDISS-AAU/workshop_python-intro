{
 "cells": [
  {
   "cell_type": "code",
   "execution_count": 1,
   "metadata": {
    "slideshow": {
     "slide_type": "skip"
    }
   },
   "outputs": [],
   "source": [
    "#prep\n",
    "my_name = \"kenobi\"\n",
    "my_num1 = 42 \n",
    "my_num2 = \"42\"\n",
    "my_calc = 42 * 42"
   ]
  },
  {
   "cell_type": "markdown",
   "metadata": {
    "slideshow": {
     "slide_type": "slide"
    }
   },
   "source": [
    "# Introduction to Python for Social Science"
   ]
  },
  {
   "cell_type": "markdown",
   "metadata": {
    "slideshow": {
     "slide_type": "slide"
    }
   },
   "source": [
    "## What is python and why use it?\n",
    "\n",
    "Python is a general purpose programming language. It has in recent years gained a lot of popularity as a tool for data science and statistics.\n",
    "It has a number of advantages:\n",
    "\n",
    "1. General purpose language - add what you need\n",
    "2. Portable (Linux, Windows, Mac)\n",
    "3. Interactive\n",
    "4. Free\n",
    "5. Large community and eco-system"
   ]
  },
  {
   "cell_type": "markdown",
   "metadata": {
    "slideshow": {
     "slide_type": "subslide"
    }
   },
   "source": [
    "## Installing Anaconda\n",
    "* Go to (https://www.anaconda.com/download)\n",
    "* Install a version 3.x\n",
    "* Open Jupyter notebook\n",
    "  * Windows: search for jupyter\n",
    "  * Mac and linux: $ <anaconda_root_dir>/jupyter notebook"
   ]
  },
  {
   "cell_type": "markdown",
   "metadata": {
    "slideshow": {
     "slide_type": "slide"
    }
   },
   "source": [
    "## Content of the python introduction\n",
    "\n",
    "- Working with python\n",
    "- The Jupyter Notebook environment\n",
    "- Working with variables\n",
    "- Expanding python functionality by importing modules\n",
    "- Working with tables in python (`pandas` module)\n",
    "- Exporting data"
   ]
  },
  {
   "cell_type": "markdown",
   "metadata": {
    "slideshow": {
     "slide_type": "fragment"
    }
   },
   "source": [
    "### Working with Python\n",
    "* Workflows - many - find your own!\n",
    "* In this course - Jupyter notebook and pandas:\n",
    "  * Python + Jupyter notebook + pandas = A complete environment\n",
    "  * Interactive\n",
    "  * Encourage an iterative work process (research?)\n",
    "  * Documentation, code and visualization in one - literate programming\n",
    "  * Reproducing results"
   ]
  },
  {
   "cell_type": "markdown",
   "metadata": {
    "slideshow": {
     "slide_type": "slide"
    }
   },
   "source": [
    "## Class room rules\n",
    "* Discuss with your neighbour\n",
    "* Help each other\n",
    "* Try everything out yourself (write along as we go)\n",
    "* Stickers: Put a sticker up on your laptop if you need help"
   ]
  },
  {
   "cell_type": "markdown",
   "metadata": {
    "slideshow": {
     "slide_type": "slide"
    }
   },
   "source": [
    "# Using Jupyter Notebook\n",
    "\n",
    "Jupyter Notebook is a web-based interactive computational environment for creating notebooks for codes.\n",
    "\n",
    "It is originally developed for python but can be used for other code as well (for example R).\n",
    "\n",
    "Jupyter Notebook works in a cell-structure. Each notebook is comprised of cells. The cells can be either code cells or markdown cells (or raw cells)\n",
    "\n",
    "- Code cells: Contains python code\n",
    "- Markdown cells: Write text\n",
    "\n",
    "Run cells by highlighting it and pressing `Shift + Enter`."
   ]
  },
  {
   "cell_type": "markdown",
   "metadata": {
    "slideshow": {
     "slide_type": "slide"
    }
   },
   "source": [
    "## Adding documentation\n",
    "* Comment on a line using `#` (code following will not be interpreted)\n",
    "* Doc-strings for longer comments using `\"\"\"`"
   ]
  },
  {
   "cell_type": "code",
   "execution_count": 2,
   "metadata": {
    "slideshow": {
     "slide_type": "fragment"
    }
   },
   "outputs": [
    {
     "data": {
      "text/plain": [
       "4"
      ]
     },
     "execution_count": 2,
     "metadata": {},
     "output_type": "execute_result"
    }
   ],
   "source": [
    "2 + 2 # wow!"
   ]
  },
  {
   "cell_type": "code",
   "execution_count": 3,
   "metadata": {
    "slideshow": {
     "slide_type": "fragment"
    }
   },
   "outputs": [
    {
     "data": {
      "text/plain": [
       "0"
      ]
     },
     "execution_count": 3,
     "metadata": {},
     "output_type": "execute_result"
    }
   ],
   "source": [
    "\"\"\"What I'm about to do here\n",
    "is really cool!\"\"\"\n",
    "\n",
    "2 - 2"
   ]
  },
  {
   "cell_type": "markdown",
   "metadata": {
    "slideshow": {
     "slide_type": "slide"
    }
   },
   "source": [
    "# Python basics\n",
    "\n",
    "Working with python means working entirely almost entirely with codes written in the python language. \n",
    "Python works by writing lines of code (commands) and having python interpret that code (running commands or cells)."
   ]
  },
  {
   "cell_type": "markdown",
   "metadata": {
    "slideshow": {
     "slide_type": "fragment"
    }
   },
   "source": [
    "## Python as a calculator\n",
    "So what does it mean that python interprets our code?\n",
    "It means that you tell python to do something by writing a command and python will do that (if python can understand you).\n",
    "\n",
    "Python, for example, understands mathematical expressions:"
   ]
  },
  {
   "cell_type": "code",
   "execution_count": 4,
   "metadata": {
    "slideshow": {
     "slide_type": "fragment"
    }
   },
   "outputs": [
    {
     "data": {
      "text/plain": [
       "7"
      ]
     },
     "execution_count": 4,
     "metadata": {},
     "output_type": "execute_result"
    }
   ],
   "source": [
    "2 + 5"
   ]
  },
  {
   "cell_type": "code",
   "execution_count": 5,
   "metadata": {
    "slideshow": {
     "slide_type": "fragment"
    }
   },
   "outputs": [
    {
     "data": {
      "text/plain": [
       "94.72"
      ]
     },
     "execution_count": 5,
     "metadata": {},
     "output_type": "execute_result"
    }
   ],
   "source": [
    "0.37 * 256"
   ]
  },
  {
   "cell_type": "markdown",
   "metadata": {
    "slideshow": {
     "slide_type": "slide"
    }
   },
   "source": [
    "## Working with variables, functions and methods\n",
    "\n",
    "Working with python means working with variables. \n",
    "\n",
    "Variables in python can store all kinds of values and information: text, numbers, datasets, graphs. \n",
    "\n",
    "Using a function or calling a method can then transform the variable or create something from it: calculating a statistical model, saving a file, creating a graph and so on."
   ]
  },
  {
   "cell_type": "markdown",
   "metadata": {
    "slideshow": {
     "slide_type": "fragment"
    }
   },
   "source": [
    "Data analysis in python can mostly be boiled down to 3 basic steps:\n",
    "\n",
    "1. Assign values to a variable: `data = pd.read_csv('employees.csv')`\n",
    "2. Make sure python interprets the variable correctly (its type): `data['Compensation'].dtypes()`\n",
    "3. Perfom some operation or manipulation on the variable using a function or calling a method: `data['Compensation'].mean()`"
   ]
  },
  {
   "cell_type": "markdown",
   "metadata": {
    "slideshow": {
     "slide_type": "slide"
    }
   },
   "source": [
    "## Variables\n",
    "\n",
    "A lot of writing in python is about defining variables: A name to use to call up stored data.\n",
    "\n",
    "Variables can be a lot of things: \n",
    "- a word\n",
    "- a number\n",
    "- a series of numbers\n",
    "- a dataset \n",
    "- a URL\n",
    "- a formula\n",
    "- a result \n",
    "- a filepath\n",
    "- and so on...\n",
    "\n",
    "When a variable is defined, it is available in the current working space (or environment).\n",
    "\n",
    "This makes it possible to store and work with a variety of informaiton simultaneously."
   ]
  },
  {
   "cell_type": "markdown",
   "metadata": {
    "slideshow": {
     "slide_type": "slide"
    }
   },
   "source": [
    "### Defining variables\n",
    "\n",
    "Variables are defined using `=`"
   ]
  },
  {
   "cell_type": "code",
   "execution_count": 6,
   "metadata": {
    "slideshow": {
     "slide_type": "fragment"
    }
   },
   "outputs": [],
   "source": [
    "a = 2 + 5"
   ]
  },
  {
   "cell_type": "code",
   "execution_count": 7,
   "metadata": {
    "slideshow": {
     "slide_type": "fragment"
    }
   },
   "outputs": [
    {
     "name": "stdout",
     "output_type": "stream",
     "text": [
      "7\n"
     ]
    }
   ],
   "source": [
    "print(a)"
   ]
  },
  {
   "cell_type": "code",
   "execution_count": 8,
   "metadata": {
    "slideshow": {
     "slide_type": "fragment"
    }
   },
   "outputs": [],
   "source": [
    "b = 'jedi'"
   ]
  },
  {
   "cell_type": "code",
   "execution_count": 9,
   "metadata": {
    "slideshow": {
     "slide_type": "fragment"
    }
   },
   "outputs": [
    {
     "name": "stdout",
     "output_type": "stream",
     "text": [
      "jedi\n"
     ]
    }
   ],
   "source": [
    "print(b)"
   ]
  },
  {
   "cell_type": "markdown",
   "metadata": {
    "slideshow": {
     "slide_type": "-"
    }
   },
   "source": [
    "Using `' '` or `\" \"` denotes that the code should be read as text."
   ]
  },
  {
   "cell_type": "markdown",
   "metadata": {
    "slideshow": {
     "slide_type": "slide"
    }
   },
   "source": [
    "### Naming variables\n",
    "Variables can be named almost anything but a good rule of thumb is to use names that are indicative of what the variable contains.\n",
    "\n",
    "#### Restrictions for naming variables\n",
    "- Most special characters not allowed: `/`, `?`, `*`, `+`, `.` and so on (most characters mean something in python and will be read as an expression)\n",
    "- Already existing names in python (will overwrite the function/variable in the environment)\n",
    "\n",
    "#### Good naming conventions \n",
    "- Using '`_`': `my_variable`, `room_number`\n",
    "\n",
    "or:\n",
    "\n",
    "- Capitalize each word except the first: `myVariable`, `roomNumber`\n"
   ]
  },
  {
   "cell_type": "markdown",
   "metadata": {
    "slideshow": {
     "slide_type": "slide"
    }
   },
   "source": [
    "# EXERCISE 1: DEFINING VARIABLES\n",
    "\n",
    "1. Define the following variables:\n",
    "\n",
    "    - `my_num1`: `42` (without quotation marks)\n",
    "    - `my_num2`: `\"42\"` (with quotation marks)\n",
    "    - `my_calc`: `42 * 42`\n",
    "    - `my_name`: `\"kenobi\"`\n",
    "\n",
    "2. Divide each variable by 2\n",
    "\n",
    "## Bonus exercise\n",
    "- Try multiplying each variable by 2"
   ]
  },
  {
   "cell_type": "markdown",
   "metadata": {
    "slideshow": {
     "slide_type": "slide"
    }
   },
   "source": [
    "# EXERCISE 1: DEFINING VARIABLES\n",
    "*What happens?*"
   ]
  },
  {
   "cell_type": "code",
   "execution_count": 10,
   "metadata": {
    "slideshow": {
     "slide_type": "fragment"
    },
    "tags": [
     "remove_cell"
    ]
   },
   "outputs": [
    {
     "data": {
      "text/plain": [
       "21.0"
      ]
     },
     "execution_count": 10,
     "metadata": {},
     "output_type": "execute_result"
    }
   ],
   "source": [
    "my_num1 / 2"
   ]
  },
  {
   "cell_type": "code",
   "execution_count": 11,
   "metadata": {
    "slideshow": {
     "slide_type": "fragment"
    }
   },
   "outputs": [
    {
     "ename": "TypeError",
     "evalue": "unsupported operand type(s) for /: 'str' and 'int'",
     "output_type": "error",
     "traceback": [
      "\u001b[1;31m---------------------------------------------------------------------------\u001b[0m",
      "\u001b[1;31mTypeError\u001b[0m                                 Traceback (most recent call last)",
      "\u001b[1;32m<ipython-input-11-f9204a0794f1>\u001b[0m in \u001b[0;36m<module>\u001b[1;34m\u001b[0m\n\u001b[1;32m----> 1\u001b[1;33m \u001b[0mmy_num2\u001b[0m \u001b[1;33m/\u001b[0m \u001b[1;36m2\u001b[0m\u001b[1;33m\u001b[0m\u001b[1;33m\u001b[0m\u001b[0m\n\u001b[0m",
      "\u001b[1;31mTypeError\u001b[0m: unsupported operand type(s) for /: 'str' and 'int'"
     ]
    }
   ],
   "source": [
    "my_num2 / 2"
   ]
  },
  {
   "cell_type": "code",
   "execution_count": 12,
   "metadata": {
    "slideshow": {
     "slide_type": "fragment"
    }
   },
   "outputs": [
    {
     "data": {
      "text/plain": [
       "882.0"
      ]
     },
     "execution_count": 12,
     "metadata": {},
     "output_type": "execute_result"
    }
   ],
   "source": [
    "my_calc / 2"
   ]
  },
  {
   "cell_type": "code",
   "execution_count": 13,
   "metadata": {
    "slideshow": {
     "slide_type": "fragment"
    }
   },
   "outputs": [
    {
     "ename": "TypeError",
     "evalue": "unsupported operand type(s) for /: 'str' and 'int'",
     "output_type": "error",
     "traceback": [
      "\u001b[1;31m---------------------------------------------------------------------------\u001b[0m",
      "\u001b[1;31mTypeError\u001b[0m                                 Traceback (most recent call last)",
      "\u001b[1;32m<ipython-input-13-8ad4b2923cc6>\u001b[0m in \u001b[0;36m<module>\u001b[1;34m\u001b[0m\n\u001b[1;32m----> 1\u001b[1;33m \u001b[0mmy_name\u001b[0m \u001b[1;33m/\u001b[0m \u001b[1;36m2\u001b[0m\u001b[1;33m\u001b[0m\u001b[1;33m\u001b[0m\u001b[0m\n\u001b[0m",
      "\u001b[1;31mTypeError\u001b[0m: unsupported operand type(s) for /: 'str' and 'int'"
     ]
    }
   ],
   "source": [
    "my_name / 2"
   ]
  },
  {
   "cell_type": "markdown",
   "metadata": {
    "slideshow": {
     "slide_type": "slide"
    }
   },
   "source": [
    "# Different types of variables\n",
    "Why did we get errors in the previous exercise?"
   ]
  },
  {
   "cell_type": "markdown",
   "metadata": {
    "slideshow": {
     "slide_type": "fragment"
    }
   },
   "source": [
    "Because python distinguishes between different types of variables!\n",
    "\n",
    "A variable is stored as a *type*. The type denotes what kind of variable it is and affects what operations are possible."
   ]
  },
  {
   "cell_type": "markdown",
   "metadata": {
    "slideshow": {
     "slide_type": "slide"
    }
   },
   "source": [
    "## Numeric and character types\n",
    "As you work with python, you will encounter a lot of different types. For now we will be focusing on two of the more common ones:\n",
    "- Numeric types (like integers or floats)\n",
    "- Character types (like strings)\n",
    "\n",
    "Numbers are automatically stored as a numeric type (like a float, integer etc.).\n",
    "\n",
    "When using `''` or `\"\"` around the information to be stored in the variable, python will interpret that as text. Variables containing text are refered to as *strings*.\n",
    "\n",
    "*Numbers enclosed in `''` or `\"\"` are therefore stored as strings, as python interprets it as text!*\n",
    "\n",
    "Python has to be told that something is text as Python would otherwise interpret it as an existing variable."
   ]
  },
  {
   "cell_type": "code",
   "execution_count": 14,
   "metadata": {
    "slideshow": {
     "slide_type": "fragment"
    }
   },
   "outputs": [
    {
     "ename": "NameError",
     "evalue": "name 'vader' is not defined",
     "output_type": "error",
     "traceback": [
      "\u001b[1;31m---------------------------------------------------------------------------\u001b[0m",
      "\u001b[1;31mNameError\u001b[0m                                 Traceback (most recent call last)",
      "\u001b[1;32m<ipython-input-14-946b0bf3c309>\u001b[0m in \u001b[0;36m<module>\u001b[1;34m\u001b[0m\n\u001b[1;32m----> 1\u001b[1;33m \u001b[0mmy_name2\u001b[0m \u001b[1;33m=\u001b[0m \u001b[0mvader\u001b[0m\u001b[1;33m\u001b[0m\u001b[1;33m\u001b[0m\u001b[0m\n\u001b[0m",
      "\u001b[1;31mNameError\u001b[0m: name 'vader' is not defined"
     ]
    }
   ],
   "source": [
    "my_name2 = vader"
   ]
  },
  {
   "cell_type": "markdown",
   "metadata": {
    "slideshow": {
     "slide_type": "subslide"
    }
   },
   "source": [
    "Note that python can interpret multiplying and adding text:"
   ]
  },
  {
   "cell_type": "code",
   "execution_count": 15,
   "metadata": {
    "slideshow": {
     "slide_type": "fragment"
    }
   },
   "outputs": [
    {
     "data": {
      "text/plain": [
       "'kenobikenobi'"
      ]
     },
     "execution_count": 15,
     "metadata": {},
     "output_type": "execute_result"
    }
   ],
   "source": [
    "2 * my_name"
   ]
  },
  {
   "cell_type": "code",
   "execution_count": 16,
   "metadata": {
    "slideshow": {
     "slide_type": "fragment"
    }
   },
   "outputs": [
    {
     "data": {
      "text/plain": [
       "'4242'"
      ]
     },
     "execution_count": 16,
     "metadata": {},
     "output_type": "execute_result"
    }
   ],
   "source": [
    "2 * my_num2"
   ]
  },
  {
   "cell_type": "code",
   "execution_count": 17,
   "metadata": {
    "slideshow": {
     "slide_type": "fragment"
    }
   },
   "outputs": [
    {
     "data": {
      "text/plain": [
       "'obi-wan kenobi'"
      ]
     },
     "execution_count": 17,
     "metadata": {},
     "output_type": "execute_result"
    }
   ],
   "source": [
    "'obi-wan ' + my_name"
   ]
  },
  {
   "cell_type": "markdown",
   "metadata": {
    "slideshow": {
     "slide_type": "slide"
    }
   },
   "source": [
    "## Casting types\n",
    "\n",
    "The type of a variable can be examined with `type(variable)`.\n",
    "\n",
    "Variables can be coerced with specific functions:\n",
    "\n",
    "- Coerce to character type:`str(variable)`\n",
    "- Coerce to numeric type: `int(variable)` or `float(variable)`\n",
    "\n",
    "Python will always try to \"guess\" the type. If python guesses wrong, you can tell python what type it should be (if possible)."
   ]
  },
  {
   "cell_type": "code",
   "execution_count": 18,
   "metadata": {
    "slideshow": {
     "slide_type": "fragment"
    }
   },
   "outputs": [
    {
     "name": "stdout",
     "output_type": "stream",
     "text": [
      "<class 'str'>\n"
     ]
    }
   ],
   "source": [
    "a_number = '56'\n",
    "print(type(a_number))"
   ]
  },
  {
   "cell_type": "code",
   "execution_count": 19,
   "metadata": {
    "slideshow": {
     "slide_type": "fragment"
    }
   },
   "outputs": [
    {
     "name": "stdout",
     "output_type": "stream",
     "text": [
      "<class 'int'>\n"
     ]
    }
   ],
   "source": [
    "a_number = int(a_number)\n",
    "print(type(a_number))"
   ]
  },
  {
   "cell_type": "markdown",
   "metadata": {
    "slideshow": {
     "slide_type": "subslide"
    }
   },
   "source": [
    "### Integers and floats\n",
    "\n",
    "Wholenumbers will by default be interpreted as integers. Any number with a decimal will be interpreted as a float.\n",
    "\n",
    "Dividing will always convert the variable to a float."
   ]
  },
  {
   "cell_type": "code",
   "execution_count": 20,
   "metadata": {
    "slideshow": {
     "slide_type": "fragment"
    }
   },
   "outputs": [
    {
     "name": "stdout",
     "output_type": "stream",
     "text": [
      "<class 'int'> <class 'int'>\n"
     ]
    }
   ],
   "source": [
    "a_number = 36\n",
    "b_number = 12\n",
    "print(type(a_number), type(b_number))"
   ]
  },
  {
   "cell_type": "code",
   "execution_count": 21,
   "metadata": {
    "slideshow": {
     "slide_type": "fragment"
    }
   },
   "outputs": [
    {
     "name": "stdout",
     "output_type": "stream",
     "text": [
      "3.0 <class 'float'>\n"
     ]
    }
   ],
   "source": [
    "c_number = a_number / b_number\n",
    "print(c_number, type(c_number))"
   ]
  },
  {
   "cell_type": "markdown",
   "metadata": {
    "slideshow": {
     "slide_type": "slide"
    }
   },
   "source": [
    "# EXERCISE 2: TYPES\n",
    "\n",
    "1. Create the variable `my_product` containing the product of your 2 my_num variables: `my_num1 * my_num2`\n",
    "2. Does `my_product` contain the number you would expect? \n",
    "3. Change the type of `my_num2` to an integer (use `int()` and overwrite `my_num2`)\n",
    "4. Try creating the variable `my_product` again\n",
    "5. Check if `my_product` is equal to `my_calc` using `==`. Assign it to the variable `my_test`\n",
    "6. Check the type of `my_test`. What type is it?"
   ]
  },
  {
   "cell_type": "code",
   "execution_count": 22,
   "metadata": {
    "slideshow": {
     "slide_type": "subslide"
    }
   },
   "outputs": [
    {
     "data": {
      "text/plain": [
       "'424242424242424242424242424242424242424242424242424242424242424242424242424242424242'"
      ]
     },
     "execution_count": 22,
     "metadata": {},
     "output_type": "execute_result"
    }
   ],
   "source": [
    "my_num1 * my_num2"
   ]
  },
  {
   "cell_type": "code",
   "execution_count": 23,
   "metadata": {
    "slideshow": {
     "slide_type": "fragment"
    }
   },
   "outputs": [
    {
     "data": {
      "text/plain": [
       "1764"
      ]
     },
     "execution_count": 23,
     "metadata": {},
     "output_type": "execute_result"
    }
   ],
   "source": [
    "my_num2 = int(my_num2)\n",
    "my_product = my_num1 * my_num2\n",
    "my_product"
   ]
  },
  {
   "cell_type": "code",
   "execution_count": 24,
   "metadata": {
    "slideshow": {
     "slide_type": "fragment"
    }
   },
   "outputs": [
    {
     "data": {
      "text/plain": [
       "True"
      ]
     },
     "execution_count": 24,
     "metadata": {},
     "output_type": "execute_result"
    }
   ],
   "source": [
    "my_test = my_product == my_calc\n",
    "my_test"
   ]
  },
  {
   "cell_type": "code",
   "execution_count": 25,
   "metadata": {
    "slideshow": {
     "slide_type": "fragment"
    }
   },
   "outputs": [
    {
     "data": {
      "text/plain": [
       "bool"
      ]
     },
     "execution_count": 25,
     "metadata": {},
     "output_type": "execute_result"
    }
   ],
   "source": [
    "type(my_test)"
   ]
  },
  {
   "cell_type": "markdown",
   "metadata": {
    "slideshow": {
     "slide_type": "slide"
    }
   },
   "source": [
    "# The boolean type\n",
    "*Boolean* variables are variables containing the value `True` or `False`.\n",
    "\n",
    "When using the following operators (among others), python will interpret it as a boolean:\n",
    "- `>`\n",
    "- `>=`\n",
    "- `<`\n",
    "- `<=`\n",
    "- `==`\n",
    "- `!=`\n",
    "\n",
    "Booleans can be used in functions, loops and if-statements to ensure that a certain condition is met before something is run."
   ]
  },
  {
   "cell_type": "markdown",
   "metadata": {
    "slideshow": {
     "slide_type": "slide"
    }
   },
   "source": [
    "# Importing modules\n",
    "Base python has very limited functionality. You will always have to import various modules in order to perform your analysis.\n",
    "\n",
    "A module is a collection of functions, variables and methods that can be loaded into your python environment.\n",
    "\n",
    "Once loaded, the contents of the module is usable in the python environment.\n",
    "\n",
    "It is possible to either import whole modules or parts of a module."
   ]
  },
  {
   "cell_type": "code",
   "execution_count": 26,
   "metadata": {
    "slideshow": {
     "slide_type": "slide"
    }
   },
   "outputs": [
    {
     "ename": "NameError",
     "evalue": "name 'sqrt' is not defined",
     "output_type": "error",
     "traceback": [
      "\u001b[1;31m---------------------------------------------------------------------------\u001b[0m",
      "\u001b[1;31mNameError\u001b[0m                                 Traceback (most recent call last)",
      "\u001b[1;32m<ipython-input-26-7dabf7cb2afc>\u001b[0m in \u001b[0;36m<module>\u001b[1;34m\u001b[0m\n\u001b[1;32m----> 1\u001b[1;33m \u001b[0mc\u001b[0m \u001b[1;33m=\u001b[0m \u001b[0msqrt\u001b[0m\u001b[1;33m(\u001b[0m\u001b[0ma\u001b[0m\u001b[1;33m**\u001b[0m\u001b[1;36m2\u001b[0m \u001b[1;33m+\u001b[0m \u001b[0mb\u001b[0m\u001b[1;33m**\u001b[0m\u001b[1;36m2\u001b[0m\u001b[1;33m)\u001b[0m\u001b[1;33m\u001b[0m\u001b[1;33m\u001b[0m\u001b[0m\n\u001b[0m\u001b[0;32m      2\u001b[0m \u001b[0mprint\u001b[0m\u001b[1;33m(\u001b[0m\u001b[0mc\u001b[0m\u001b[1;33m)\u001b[0m\u001b[1;33m\u001b[0m\u001b[1;33m\u001b[0m\u001b[0m\n",
      "\u001b[1;31mNameError\u001b[0m: name 'sqrt' is not defined"
     ]
    }
   ],
   "source": [
    "c = sqrt(a**2 + b**2)\n",
    "print(c)"
   ]
  },
  {
   "cell_type": "code",
   "execution_count": 27,
   "metadata": {
    "slideshow": {
     "slide_type": "fragment"
    }
   },
   "outputs": [],
   "source": [
    "import math #whole module/package\n",
    "\n",
    "# Or...\n",
    "\n",
    "from math import sqrt #specific function/method"
   ]
  },
  {
   "cell_type": "code",
   "execution_count": 28,
   "metadata": {
    "slideshow": {
     "slide_type": "fragment"
    }
   },
   "outputs": [
    {
     "name": "stdout",
     "output_type": "stream",
     "text": [
      "59.39696961966999\n"
     ]
    }
   ],
   "source": [
    "c = sqrt(my_num1**2 + my_num2**2)\n",
    "print(c)"
   ]
  },
  {
   "cell_type": "markdown",
   "metadata": {
    "slideshow": {
     "slide_type": "slide"
    }
   },
   "source": [
    "# Lists\n",
    "So far we have looked at python variables containing single values: a number, a word or a boolean.\n",
    "\n",
    "Python has different ways of storing a series of elements (values, variables, etc.). One of the more common is the *list*.\n",
    "\n",
    "A list is a grouping of elements. They are created by enclosing the values in `[]`:"
   ]
  },
  {
   "cell_type": "code",
   "execution_count": 29,
   "metadata": {
    "slideshow": {
     "slide_type": "fragment"
    }
   },
   "outputs": [
    {
     "name": "stdout",
     "output_type": "stream",
     "text": [
      "[1, 9, 7, 3]\n"
     ]
    }
   ],
   "source": [
    "my_list = [1, 9, 7, 3]\n",
    "print(my_list)"
   ]
  },
  {
   "cell_type": "markdown",
   "metadata": {
    "slideshow": {
     "slide_type": "fragment"
    }
   },
   "source": [
    "Note that lists can contain variables of different types."
   ]
  },
  {
   "cell_type": "code",
   "execution_count": 30,
   "metadata": {
    "slideshow": {
     "slide_type": "fragment"
    }
   },
   "outputs": [
    {
     "name": "stdout",
     "output_type": "stream",
     "text": [
      "['kenobi', 3, 42.0, True]\n"
     ]
    }
   ],
   "source": [
    "my_list2 = [my_name, 3, 42.0, my_test]\n",
    "print(my_list2)"
   ]
  },
  {
   "cell_type": "markdown",
   "metadata": {
    "slideshow": {
     "slide_type": "slide"
    }
   },
   "source": [
    "## Adding to lists\n",
    "\n",
    "Elements can be added to the list with the method `append`.\n",
    "\n",
    "*Note that using this method changes the contents of the list*"
   ]
  },
  {
   "cell_type": "code",
   "execution_count": 31,
   "metadata": {
    "slideshow": {
     "slide_type": "fragment"
    }
   },
   "outputs": [
    {
     "name": "stdout",
     "output_type": "stream",
     "text": [
      "[1, 9, 7, 3, 22]\n"
     ]
    }
   ],
   "source": [
    "my_list.append(22)\n",
    "print(my_list)"
   ]
  },
  {
   "cell_type": "markdown",
   "metadata": {
    "slideshow": {
     "slide_type": "slide"
    }
   },
   "source": [
    "## Indexes\n",
    "\n",
    "Each element in the list is assigned an index running from 0 to the number of elements - 1. We can use the index to refer to specific elements with `[]`:"
   ]
  },
  {
   "cell_type": "code",
   "execution_count": 32,
   "metadata": {
    "slideshow": {
     "slide_type": "fragment"
    }
   },
   "outputs": [
    {
     "data": {
      "text/plain": [
       "'kenobi'"
      ]
     },
     "execution_count": 32,
     "metadata": {},
     "output_type": "execute_result"
    }
   ],
   "source": [
    "my_list2[0]"
   ]
  },
  {
   "cell_type": "markdown",
   "metadata": {
    "slideshow": {
     "slide_type": "fragment"
    }
   },
   "source": [
    "Single elements in a list can be changed by refering to their index:"
   ]
  },
  {
   "cell_type": "code",
   "execution_count": 33,
   "metadata": {
    "slideshow": {
     "slide_type": "fragment"
    }
   },
   "outputs": [
    {
     "name": "stdout",
     "output_type": "stream",
     "text": [
      "['vader', 3, 42.0, True]\n"
     ]
    }
   ],
   "source": [
    "my_list2[0] = 'vader'\n",
    "print(my_list2)"
   ]
  },
  {
   "cell_type": "markdown",
   "metadata": {
    "slideshow": {
     "slide_type": "subslide"
    }
   },
   "source": [
    "## Tuples\n",
    "\n",
    "*Tuples* are immutable lists meaning their values can't be changed.\n",
    "\n",
    "They are created by enclosing elements in `()`:"
   ]
  },
  {
   "cell_type": "code",
   "execution_count": 34,
   "metadata": {
    "slideshow": {
     "slide_type": "fragment"
    }
   },
   "outputs": [
    {
     "data": {
      "text/plain": [
       "((1.0, 4.0), tuple)"
      ]
     },
     "execution_count": 34,
     "metadata": {},
     "output_type": "execute_result"
    }
   ],
   "source": [
    "t = (1.0, 4.0)\n",
    "t, type(t)"
   ]
  },
  {
   "cell_type": "code",
   "execution_count": 35,
   "metadata": {
    "slideshow": {
     "slide_type": "fragment"
    }
   },
   "outputs": [
    {
     "data": {
      "text/plain": [
       "4.0"
      ]
     },
     "execution_count": 35,
     "metadata": {},
     "output_type": "execute_result"
    }
   ],
   "source": [
    "t[1]"
   ]
  },
  {
   "cell_type": "code",
   "execution_count": 36,
   "metadata": {
    "slideshow": {
     "slide_type": "fragment"
    }
   },
   "outputs": [
    {
     "ename": "TypeError",
     "evalue": "'tuple' object does not support item assignment",
     "output_type": "error",
     "traceback": [
      "\u001b[1;31m---------------------------------------------------------------------------\u001b[0m",
      "\u001b[1;31mTypeError\u001b[0m                                 Traceback (most recent call last)",
      "\u001b[1;32m<ipython-input-36-b9aa97991a78>\u001b[0m in \u001b[0;36m<module>\u001b[1;34m\u001b[0m\n\u001b[1;32m----> 1\u001b[1;33m \u001b[0mt\u001b[0m\u001b[1;33m[\u001b[0m\u001b[1;36m1\u001b[0m\u001b[1;33m]\u001b[0m \u001b[1;33m=\u001b[0m \u001b[1;36m2\u001b[0m\u001b[1;33m\u001b[0m\u001b[1;33m\u001b[0m\u001b[0m\n\u001b[0m",
      "\u001b[1;31mTypeError\u001b[0m: 'tuple' object does not support item assignment"
     ]
    }
   ],
   "source": [
    "t[1] = 2"
   ]
  },
  {
   "cell_type": "markdown",
   "metadata": {
    "slideshow": {
     "slide_type": "slide"
    }
   },
   "source": [
    "# Working with table data: Pandas\n",
    "\n",
    "*Pandas* is a module that allows you to create dataframes in python: A spreadsheet-like data structure for data with rows and columns.\n",
    "\n",
    "The pandas modules contain a lot of instruments and methods for data handling and processing.\n",
    "\n",
    "A `DataFrame` is a type. An important subtype is a `series`: A one-dimensional datastructure with an index (like a type-specific list or a variable, as it is understood in statistics)."
   ]
  },
  {
   "cell_type": "code",
   "execution_count": 37,
   "metadata": {
    "slideshow": {
     "slide_type": "-"
    }
   },
   "outputs": [],
   "source": [
    "import pandas as pd"
   ]
  },
  {
   "cell_type": "markdown",
   "metadata": {
    "slideshow": {
     "slide_type": "slide"
    }
   },
   "source": [
    "# Pandas Series\n",
    "* One dimensional data\n",
    "* Data is labeled with a index\n",
    "* Series consist of pairs (index, data)"
   ]
  },
  {
   "cell_type": "code",
   "execution_count": 38,
   "metadata": {
    "slideshow": {
     "slide_type": "fragment"
    }
   },
   "outputs": [
    {
     "name": "stdout",
     "output_type": "stream",
     "text": [
      "0    4\n",
      "1    2\n",
      "2    7\n",
      "3    8\n",
      "4    4\n",
      "5    4\n",
      "dtype: int64\n"
     ]
    }
   ],
   "source": [
    "a = pd.Series([4, 2, 7, 8, 4, 4])\n",
    "print(a)"
   ]
  },
  {
   "cell_type": "code",
   "execution_count": 39,
   "metadata": {
    "slideshow": {
     "slide_type": "fragment"
    }
   },
   "outputs": [
    {
     "name": "stdout",
     "output_type": "stream",
     "text": [
      "0    12\n",
      "1     8\n",
      "2    18\n",
      "3    20\n",
      "4    12\n",
      "5    12\n",
      "dtype: int64\n"
     ]
    }
   ],
   "source": [
    "print(a*2 + 4)"
   ]
  },
  {
   "cell_type": "markdown",
   "metadata": {
    "slideshow": {
     "slide_type": "slide"
    }
   },
   "source": [
    "A wide range of operations can be performed on series (like variables in any other statistics software)."
   ]
  },
  {
   "cell_type": "code",
   "execution_count": 40,
   "metadata": {
    "slideshow": {
     "slide_type": "fragment"
    }
   },
   "outputs": [
    {
     "name": "stdout",
     "output_type": "stream",
     "text": [
      "[4 2 7 8]\n"
     ]
    }
   ],
   "source": [
    "print(a.unique())"
   ]
  },
  {
   "cell_type": "code",
   "execution_count": 41,
   "metadata": {
    "slideshow": {
     "slide_type": "fragment"
    }
   },
   "outputs": [
    {
     "name": "stdout",
     "output_type": "stream",
     "text": [
      "0     True\n",
      "1     True\n",
      "2    False\n",
      "3    False\n",
      "4     True\n",
      "5     True\n",
      "dtype: bool\n"
     ]
    }
   ],
   "source": [
    "print(a.isin([2, 4]))"
   ]
  },
  {
   "cell_type": "markdown",
   "metadata": {
    "slideshow": {
     "slide_type": "slide"
    }
   },
   "source": [
    "# EXERCISE 3: Lists and Series\n",
    "1. Create a list containing the numbers: 5, 13, 26, 42, 101\n",
    "2. Try multiplying the list by 4 - What happens?\n",
    "3. Create a panda series containing the same numbers (Note: you can create a panda series from a list)\n",
    "4. Try multiplying the panda series by 4 - What happens?\n",
    "5. Check if the number 20 is in your series using the `.isin()` method. (*NOTE:* `isin()` requires a list as input)."
   ]
  },
  {
   "cell_type": "code",
   "execution_count": 42,
   "metadata": {
    "slideshow": {
     "slide_type": "subslide"
    }
   },
   "outputs": [
    {
     "data": {
      "text/plain": [
       "[5,\n",
       " 13,\n",
       " 26,\n",
       " 42,\n",
       " 101,\n",
       " 5,\n",
       " 13,\n",
       " 26,\n",
       " 42,\n",
       " 101,\n",
       " 5,\n",
       " 13,\n",
       " 26,\n",
       " 42,\n",
       " 101,\n",
       " 5,\n",
       " 13,\n",
       " 26,\n",
       " 42,\n",
       " 101]"
      ]
     },
     "execution_count": 42,
     "metadata": {},
     "output_type": "execute_result"
    }
   ],
   "source": [
    "my_list = [5, 13, 26, 42, 101] #Creating the list\n",
    "my_list * 4 #Multiplying by 4"
   ]
  },
  {
   "cell_type": "code",
   "execution_count": 43,
   "metadata": {
    "slideshow": {
     "slide_type": "subslide"
    }
   },
   "outputs": [
    {
     "data": {
      "text/plain": [
       "0     20\n",
       "1     52\n",
       "2    104\n",
       "3    168\n",
       "4    404\n",
       "dtype: int64"
      ]
     },
     "execution_count": 43,
     "metadata": {},
     "output_type": "execute_result"
    }
   ],
   "source": [
    "my_series = pd.Series(my_list) #Converting to series\n",
    "my_series * 4 #Multiplying by 4"
   ]
  },
  {
   "cell_type": "code",
   "execution_count": 46,
   "metadata": {
    "slideshow": {
     "slide_type": "fragment"
    }
   },
   "outputs": [
    {
     "data": {
      "text/plain": [
       "0    False\n",
       "1     True\n",
       "2    False\n",
       "3    False\n",
       "4    False\n",
       "dtype: bool"
      ]
     },
     "execution_count": 46,
     "metadata": {},
     "output_type": "execute_result"
    }
   ],
   "source": [
    "my_series.isin([13]) #Does the series contain the number 20"
   ]
  },
  {
   "cell_type": "markdown",
   "metadata": {
    "slideshow": {
     "slide_type": "slide"
    }
   },
   "source": [
    "# Pandas DataFrames\n",
    "* Two dimensional data (rows and columns)\n",
    "* Data is labelled with an index and a column name\n",
    "\n",
    "With the pandas module, various files can be imported directly as dataframes (also from the web).\n",
    "\n",
    "The `Iris` dataset contains measurements and species for various iris flowers. The measurements are in centimeters."
   ]
  },
  {
   "cell_type": "code",
   "execution_count": null,
   "metadata": {
    "slideshow": {
     "slide_type": "fragment"
    }
   },
   "outputs": [],
   "source": [
    "import pandas as pd\n",
    "\n",
    "iris = pd.read_csv('https://github.com/CALDISS-AAU/workshop_python-intro/blob/master/data/ESS2014DK_subset.csv')"
   ]
  },
  {
   "cell_type": "markdown",
   "metadata": {
    "slideshow": {
     "slide_type": "-"
    }
   },
   "source": [
    "*Load the Iris dataset into your own environment now*"
   ]
  },
  {
   "cell_type": "markdown",
   "metadata": {
    "slideshow": {
     "slide_type": "slide"
    }
   },
   "source": [
    "## Inspecting DataFrames\n",
    "\n",
    "Use the method `.head()` to inspect the first 5 rows of the data."
   ]
  },
  {
   "cell_type": "code",
   "execution_count": null,
   "metadata": {
    "slideshow": {
     "slide_type": "fragment"
    }
   },
   "outputs": [],
   "source": [
    "iris.head()"
   ]
  },
  {
   "cell_type": "markdown",
   "metadata": {
    "slideshow": {
     "slide_type": "fragment"
    }
   },
   "source": [
    "Inspect column names with method .columns"
   ]
  },
  {
   "cell_type": "code",
   "execution_count": null,
   "metadata": {
    "slideshow": {
     "slide_type": "fragment"
    }
   },
   "outputs": [],
   "source": [
    "list(iris.columns)"
   ]
  },
  {
   "cell_type": "markdown",
   "metadata": {
    "slideshow": {
     "slide_type": "slide"
    }
   },
   "source": [
    "See key summary statistics using `.descibe()`. (n, mean, std, min, max, quartiles)."
   ]
  },
  {
   "cell_type": "code",
   "execution_count": null,
   "metadata": {
    "slideshow": {
     "slide_type": "fragment"
    }
   },
   "outputs": [],
   "source": [
    "iris.describe()"
   ]
  },
  {
   "cell_type": "markdown",
   "metadata": {
    "slideshow": {
     "slide_type": "slide"
    }
   },
   "source": [
    "## Slicing rows and selecting columns\n",
    "\n",
    "Selecting rows is refered to as *slicing*. Rows can be selected by their index using `[]`. It excludes the last index.\n",
    "\n",
    "Columns can be selected the same way by refering to the column name."
   ]
  },
  {
   "cell_type": "code",
   "execution_count": null,
   "metadata": {
    "slideshow": {
     "slide_type": "fragment"
    }
   },
   "outputs": [],
   "source": [
    "iris[0:1] # First row"
   ]
  },
  {
   "cell_type": "code",
   "execution_count": null,
   "metadata": {
    "slideshow": {
     "slide_type": "fragment"
    }
   },
   "outputs": [],
   "source": [
    "iris['species'] # Selecting species column."
   ]
  },
  {
   "cell_type": "markdown",
   "metadata": {
    "slideshow": {
     "slide_type": "slide"
    }
   },
   "source": [
    "The method `.loc[]` is used for subsetting the data. First rows, then columns. Columns have to be specified by their name.\n",
    "\n",
    "Several columns can be selected by refering to a list of column names.\n",
    "\n",
    "Unlike the \"standard\" indexing/slicing, using `.loc[]` includes the last index.\n",
    "\n",
    "*NOTE*: `.loc[]` is also used for recoding specific values."
   ]
  },
  {
   "cell_type": "code",
   "execution_count": null,
   "metadata": {
    "slideshow": {
     "slide_type": "fragment"
    }
   },
   "outputs": [],
   "source": [
    "iris.loc[2:4, 'species'] # Returns as a series"
   ]
  },
  {
   "cell_type": "code",
   "execution_count": null,
   "metadata": {
    "slideshow": {
     "slide_type": "fragment"
    }
   },
   "outputs": [],
   "source": [
    "iris.loc[2:4, ['species', 'sepal_width']] # Returns as a dataframe"
   ]
  },
  {
   "cell_type": "code",
   "execution_count": null,
   "metadata": {
    "slideshow": {
     "slide_type": "subslide"
    }
   },
   "outputs": [],
   "source": [
    "iris[2:4][['species', 'sepal_width']] # Alternative - excludes last index"
   ]
  },
  {
   "cell_type": "markdown",
   "metadata": {
    "slideshow": {
     "slide_type": "slide"
    }
   },
   "source": [
    "## Operations on dataframes\n",
    "Operations can be performed on DataFrame series much like on lists.\n",
    "\n",
    "Operations on DataFrames series are not restricted to pandas functions!"
   ]
  },
  {
   "cell_type": "code",
   "execution_count": null,
   "metadata": {
    "slideshow": {
     "slide_type": "fragment"
    }
   },
   "outputs": [],
   "source": [
    "(iris['sepal_width'] / 100).head() #converting to meters - first 5 rows"
   ]
  },
  {
   "cell_type": "code",
   "execution_count": null,
   "metadata": {
    "slideshow": {
     "slide_type": "fragment"
    }
   },
   "outputs": [],
   "source": [
    "iris['sepal_width'].mean()"
   ]
  },
  {
   "cell_type": "markdown",
   "metadata": {
    "slideshow": {
     "slide_type": "subslide"
    }
   },
   "source": [
    "The type of a dataframe column (series) can be inspected using the attribute `dtypes`."
   ]
  },
  {
   "cell_type": "code",
   "execution_count": null,
   "metadata": {
    "slideshow": {
     "slide_type": "fragment"
    }
   },
   "outputs": [],
   "source": [
    "iris['sepal_width'].dtypes"
   ]
  },
  {
   "cell_type": "markdown",
   "metadata": {
    "slideshow": {
     "slide_type": "slide"
    }
   },
   "source": [
    "## Creating variables\n",
    "\n",
    "Variables are created by refering to columns not yet in the dataframe."
   ]
  },
  {
   "cell_type": "code",
   "execution_count": null,
   "metadata": {
    "slideshow": {
     "slide_type": "fragment"
    }
   },
   "outputs": [],
   "source": [
    "iris['sepal_length_m'] = iris['sepal_length'] / 100"
   ]
  },
  {
   "cell_type": "code",
   "execution_count": null,
   "metadata": {
    "slideshow": {
     "slide_type": "fragment"
    }
   },
   "outputs": [],
   "source": [
    "list(iris.columns)"
   ]
  },
  {
   "cell_type": "markdown",
   "metadata": {
    "slideshow": {
     "slide_type": "slide"
    }
   },
   "source": [
    "Empty variables/columns are created the same way but by filling them with missing values (NaN).\n",
    "\n",
    "The `numpy` module allows us to work with the NaN value."
   ]
  },
  {
   "cell_type": "code",
   "execution_count": null,
   "metadata": {
    "slideshow": {
     "slide_type": "fragment"
    }
   },
   "outputs": [],
   "source": [
    "import numpy as np\n",
    "\n",
    "iris['category'] = np.nan\n",
    "iris.head()"
   ]
  },
  {
   "cell_type": "markdown",
   "metadata": {
    "slideshow": {
     "slide_type": "subslide"
    }
   },
   "source": [
    "### NaN: \"Not a Number\"\n",
    "\n",
    "`NaN` is the python equivalent of missing.\n",
    "\n",
    "Notice that python does not treat NaN-values as larger or smaller than zero. NaN-values do not have a value. We therefore need to use specific methods to refer to them (like `isnull()`)."
   ]
  },
  {
   "cell_type": "code",
   "execution_count": null,
   "metadata": {
    "slideshow": {
     "slide_type": "fragment"
    }
   },
   "outputs": [],
   "source": [
    "print(\n",
    "    iris.loc[2, 'category'] < 0,\n",
    "    iris.loc[2, 'category'] > 0,\n",
    "    iris.loc[2, 'category'] == 0\n",
    ")"
   ]
  },
  {
   "cell_type": "code",
   "execution_count": null,
   "metadata": {
    "slideshow": {
     "slide_type": "fragment"
    }
   },
   "outputs": [],
   "source": [
    "iris[2:3]['category'].isnull()"
   ]
  },
  {
   "cell_type": "markdown",
   "metadata": {
    "slideshow": {
     "slide_type": "slide"
    }
   },
   "source": [
    "## Recoding variables\n",
    "\n",
    "The standard way of recoding is by using booleans."
   ]
  },
  {
   "cell_type": "code",
   "execution_count": null,
   "metadata": {
    "slideshow": {
     "slide_type": "fragment"
    }
   },
   "outputs": [],
   "source": [
    "iris.loc[(iris['sepal_length'] <= 5.84), 'category'] = \"short\"\n",
    "iris.loc[(iris['sepal_length'] > 5.84), 'category'] = \"long\"\n",
    "print(iris)"
   ]
  },
  {
   "cell_type": "markdown",
   "metadata": {
    "slideshow": {
     "slide_type": "slide"
    }
   },
   "source": [
    "# EXERCISE 4: DataFrames\n",
    "\n",
    "1. Create a new variable/column called `petal_area` containing the product of `petal_length` and `petal_width`.\n",
    "2. What is the smallest petal area? Use either `.describe` or `.min`\n",
    "\n",
    "## Bonus exercise\n",
    "\n",
    "- Using `.loc` and `.min()`, can you determine the species of the iris flower with the smallest petal area? (think in booleans)"
   ]
  },
  {
   "cell_type": "code",
   "execution_count": null,
   "metadata": {
    "slideshow": {
     "slide_type": "subslide"
    }
   },
   "outputs": [],
   "source": [
    "iris['petal_area'] = iris['petal_length'] * iris['petal_width'] #Variable for petal_area\n",
    "\n",
    "iris['petal_area'].min #Smallest petal area"
   ]
  },
  {
   "cell_type": "code",
   "execution_count": null,
   "metadata": {
    "slideshow": {
     "slide_type": "fragment"
    }
   },
   "outputs": [],
   "source": [
    "iris.loc[iris['petal_area'] == iris['petal_area'].min(), 'species'] #Determine species for the smallest petal area"
   ]
  },
  {
   "cell_type": "markdown",
   "metadata": {
    "slideshow": {
     "slide_type": "slide"
    }
   },
   "source": [
    "# Writing and reading data\n",
    "Pandas supports exporting DataFrames as various files, including:\n",
    "\n",
    "* .csv (comma-separated values)\n",
    "* .xlsx (excel)\n",
    "* .dta (Stata)"
   ]
  },
  {
   "cell_type": "markdown",
   "metadata": {
    "slideshow": {
     "slide_type": "fragment"
    }
   },
   "source": [
    "## Exporting data with pandas\n",
    "\n",
    "Files are created using the methods `to_csv()`, `to_excel` and `to_stata` respectively."
   ]
  },
  {
   "cell_type": "code",
   "execution_count": null,
   "metadata": {
    "slideshow": {
     "slide_type": "fragment"
    }
   },
   "outputs": [],
   "source": [
    "iris.to_csv('my_iris.csv')\n",
    "iris.to_stata('my_iris.dta')"
   ]
  },
  {
   "cell_type": "markdown",
   "metadata": {
    "slideshow": {
     "slide_type": "slide"
    }
   },
   "source": [
    "## Reading a simple csv file\n",
    "The method `.read_csv` can be used to read a .csv-file as a dataframe.\n",
    "\n",
    "Note that unless you specify an index, one will be automatically generated."
   ]
  },
  {
   "cell_type": "code",
   "execution_count": null,
   "metadata": {
    "slideshow": {
     "slide_type": "fragment"
    }
   },
   "outputs": [],
   "source": [
    "iris_new = pd.read_csv('my_iris.csv', index_col=0) \n",
    "iris_new.head()"
   ]
  },
  {
   "cell_type": "markdown",
   "metadata": {
    "slideshow": {
     "slide_type": "slide"
    }
   },
   "source": [
    "# EXERCISE 5: WRITE AND READ DATA\n",
    "\n",
    "1. Save your iris data as a .csv\n",
    "2. Read your data file as a dataframe - does it look right?"
   ]
  }
 ],
 "metadata": {
  "celltoolbar": "Slideshow",
  "kernelspec": {
   "display_name": "Python 3",
   "language": "python",
   "name": "python3"
  },
  "language_info": {
   "codemirror_mode": {
    "name": "ipython",
    "version": 3
   },
   "file_extension": ".py",
   "mimetype": "text/x-python",
   "name": "python",
   "nbconvert_exporter": "python",
   "pygments_lexer": "ipython3",
   "version": "3.7.4"
  }
 },
 "nbformat": 4,
 "nbformat_minor": 2
}
